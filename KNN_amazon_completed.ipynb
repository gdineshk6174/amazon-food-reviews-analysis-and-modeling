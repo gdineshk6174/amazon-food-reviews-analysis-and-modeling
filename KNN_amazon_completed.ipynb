{
  "nbformat": 4,
  "nbformat_minor": 0,
  "metadata": {
    "colab": {
      "name": "KNN-amazon-complete",
      "version": "0.3.2",
      "provenance": [],
      "collapsed_sections": []
    },
    "kernelspec": {
      "name": "python3",
      "display_name": "Python 3"
    }
  },
  "cells": [
    {
      "metadata": {
        "id": "gaRdTkPcf6hk",
        "colab_type": "code",
        "colab": {}
      },
      "cell_type": "code",
      "source": [
        "%matplotlib inline\n",
        "import warnings\n",
        "warnings.filterwarnings(\"ignore\")\n",
        "\n",
        "import sqlite3\n",
        "import pandas as pd\n",
        "import numpy as np\n",
        "import nltk\n",
        "import string\n",
        "import matplotlib.pyplot as plt\n",
        "import seaborn as sns\n",
        "from sklearn.feature_extraction.text import TfidfTransformer\n",
        "from sklearn.feature_extraction.text import TfidfVectorizer\n",
        "\n",
        "from sklearn.feature_extraction.text import CountVectorizer\n",
        "from sklearn.metrics import confusion_matrix\n",
        "from sklearn import metrics\n",
        "from sklearn.metrics import roc_curve, auc\n",
        "from nltk.stem.porter import PorterStemmer\n",
        "\n",
        "import re\n",
        "import string\n",
        "from nltk.corpus import stopwords\n",
        "from nltk.stem import PorterStemmer\n",
        "from nltk.stem.wordnet import WordNetLemmatizer\n",
        "\n",
        "\n"
      ],
      "execution_count": 0,
      "outputs": []
    },
    {
      "metadata": {
        "id": "-ct57tR1g7EQ",
        "colab_type": "code",
        "outputId": "a3c2a419-83d1-4f37-d19d-28b17998b60b",
        "colab": {
          "base_uri": "https://localhost:8080/",
          "height": 343
        }
      },
      "cell_type": "code",
      "source": [
        "!pip install gensim\n",
        "\n",
        "from gensim.models import Word2Vec\n",
        "from gensim.models import KeyedVectors\n",
        "import pickle"
      ],
      "execution_count": 2,
      "outputs": [
        {
          "output_type": "stream",
          "text": [
            "Requirement already satisfied: gensim in /usr/local/lib/python3.6/dist-packages (3.6.0)\n",
            "Requirement already satisfied: numpy>=1.11.3 in /usr/local/lib/python3.6/dist-packages (from gensim) (1.14.6)\n",
            "Requirement already satisfied: six>=1.5.0 in /usr/local/lib/python3.6/dist-packages (from gensim) (1.11.0)\n",
            "Requirement already satisfied: smart-open>=1.2.1 in /usr/local/lib/python3.6/dist-packages (from gensim) (1.7.1)\n",
            "Requirement already satisfied: scipy>=0.18.1 in /usr/local/lib/python3.6/dist-packages (from gensim) (1.1.0)\n",
            "Requirement already satisfied: boto>=2.32 in /usr/local/lib/python3.6/dist-packages (from smart-open>=1.2.1->gensim) (2.49.0)\n",
            "Requirement already satisfied: boto3 in /usr/local/lib/python3.6/dist-packages (from smart-open>=1.2.1->gensim) (1.9.62)\n",
            "Requirement already satisfied: bz2file in /usr/local/lib/python3.6/dist-packages (from smart-open>=1.2.1->gensim) (0.98)\n",
            "Requirement already satisfied: requests in /usr/local/lib/python3.6/dist-packages (from smart-open>=1.2.1->gensim) (2.18.4)\n",
            "Requirement already satisfied: jmespath<1.0.0,>=0.7.1 in /usr/local/lib/python3.6/dist-packages (from boto3->smart-open>=1.2.1->gensim) (0.9.3)\n",
            "Requirement already satisfied: s3transfer<0.2.0,>=0.1.10 in /usr/local/lib/python3.6/dist-packages (from boto3->smart-open>=1.2.1->gensim) (0.1.13)\n",
            "Requirement already satisfied: botocore<1.13.0,>=1.12.62 in /usr/local/lib/python3.6/dist-packages (from boto3->smart-open>=1.2.1->gensim) (1.12.62)\n",
            "Requirement already satisfied: certifi>=2017.4.17 in /usr/local/lib/python3.6/dist-packages (from requests->smart-open>=1.2.1->gensim) (2018.11.29)\n",
            "Requirement already satisfied: idna<2.7,>=2.5 in /usr/local/lib/python3.6/dist-packages (from requests->smart-open>=1.2.1->gensim) (2.6)\n",
            "Requirement already satisfied: urllib3<1.23,>=1.21.1 in /usr/local/lib/python3.6/dist-packages (from requests->smart-open>=1.2.1->gensim) (1.22)\n",
            "Requirement already satisfied: chardet<3.1.0,>=3.0.2 in /usr/local/lib/python3.6/dist-packages (from requests->smart-open>=1.2.1->gensim) (3.0.4)\n",
            "Requirement already satisfied: docutils>=0.10 in /usr/local/lib/python3.6/dist-packages (from botocore<1.13.0,>=1.12.62->boto3->smart-open>=1.2.1->gensim) (0.14)\n",
            "Requirement already satisfied: python-dateutil<3.0.0,>=2.1; python_version >= \"2.7\" in /usr/local/lib/python3.6/dist-packages (from botocore<1.13.0,>=1.12.62->boto3->smart-open>=1.2.1->gensim) (2.5.3)\n"
          ],
          "name": "stdout"
        }
      ]
    },
    {
      "metadata": {
        "id": "txCPRARxg9Iw",
        "colab_type": "code",
        "outputId": "9ed9b99d-4daf-445a-e611-a6371f615259",
        "colab": {
          "base_uri": "https://localhost:8080/",
          "height": 442
        }
      },
      "cell_type": "code",
      "source": [
        "#loading sample data on 10k values\n",
        "con = sqlite3.connect('./sample10k.sqlite') \n",
        "sample = pd.read_sql_query(\"\"\" SELECT * FROM Reviews \"\"\", con)\n",
        "print (sample.head(3))\n",
        "print (sample.shape)"
      ],
      "execution_count": 3,
      "outputs": [
        {
          "output_type": "stream",
          "text": [
            "   level_0   index      Id   ProductId          UserId  \\\n",
            "0    81587  337543  365220  B000HALT7Q  A2BB0XD2Z9RN20   \n",
            "1   170719   94867  103101  B001E5E2RM  A2XSW93YS6YCVR   \n",
            "2   349815  249863  270925  B006FKMB1K  A1Y4BC19C3PZ41   \n",
            "\n",
            "              ProfileName  HelpfulnessNumerator  HelpfulnessDenominator  \\\n",
            "0  L. J. Baltes \"NY Jeff\"                     1                       1   \n",
            "1                 Abigail                     0                       0   \n",
            "2     S. Brown \"Caliopia\"                     1                       1   \n",
            "\n",
            "      Score        Time                          Summary  \\\n",
            "0  positive  1179792000                   Super Solution   \n",
            "1  positive  1311724800  I Love Torani sugar-free syrup!   \n",
            "2  positive  1334102400                    Great Variety   \n",
            "\n",
            "                                                Text  \\\n",
            "0  My indoor shorthair had severe hairball proble...   \n",
            "1  I really like Torani Hazelnut sugar-free syrup...   \n",
            "2  I bought this for my mother who just purchased...   \n",
            "\n",
            "                                         CleanedText  \n",
            "0  indoor shorthair sever hairbal problem despit ...  \n",
            "1  realli like torani hazelnut syrup everi night ...  \n",
            "2  bought mother purchas kurig thrill varieti bev...  \n",
            "(10000, 13)\n"
          ],
          "name": "stdout"
        }
      ]
    },
    {
      "metadata": {
        "id": "K0LYdLn5h533",
        "colab_type": "code",
        "outputId": "ea129526-060f-440b-c41a-fcd4a0f8e8b1",
        "colab": {
          "base_uri": "https://localhost:8080/",
          "height": 366
        }
      },
      "cell_type": "code",
      "source": [
        "\n",
        "# sorting data by time\n",
        "sample = sample.sort_values(by = 'Time')\n",
        "sample.head(3)"
      ],
      "execution_count": 4,
      "outputs": [
        {
          "output_type": "execute_result",
          "data": {
            "text/html": [
              "<div>\n",
              "<style scoped>\n",
              "    .dataframe tbody tr th:only-of-type {\n",
              "        vertical-align: middle;\n",
              "    }\n",
              "\n",
              "    .dataframe tbody tr th {\n",
              "        vertical-align: top;\n",
              "    }\n",
              "\n",
              "    .dataframe thead th {\n",
              "        text-align: right;\n",
              "    }\n",
              "</style>\n",
              "<table border=\"1\" class=\"dataframe\">\n",
              "  <thead>\n",
              "    <tr style=\"text-align: right;\">\n",
              "      <th></th>\n",
              "      <th>level_0</th>\n",
              "      <th>index</th>\n",
              "      <th>Id</th>\n",
              "      <th>ProductId</th>\n",
              "      <th>UserId</th>\n",
              "      <th>ProfileName</th>\n",
              "      <th>HelpfulnessNumerator</th>\n",
              "      <th>HelpfulnessDenominator</th>\n",
              "      <th>Score</th>\n",
              "      <th>Time</th>\n",
              "      <th>Summary</th>\n",
              "      <th>Text</th>\n",
              "      <th>CleanedText</th>\n",
              "    </tr>\n",
              "  </thead>\n",
              "  <tbody>\n",
              "    <tr>\n",
              "      <th>9209</th>\n",
              "      <td>3311</td>\n",
              "      <td>197136</td>\n",
              "      <td>213676</td>\n",
              "      <td>B0000D9MXU</td>\n",
              "      <td>A3MXE8CDJX12V2</td>\n",
              "      <td>L. M. Schulz \"domestic engineer\"</td>\n",
              "      <td>3</td>\n",
              "      <td>3</td>\n",
              "      <td>positive</td>\n",
              "      <td>1067644800</td>\n",
              "      <td>A Cheese the Whole Family Likes...</td>\n",
              "      <td>The description of a cross between cheddar and...</td>\n",
              "      <td>descript cross cheddar parmesan complet accur ...</td>\n",
              "    </tr>\n",
              "    <tr>\n",
              "      <th>5514</th>\n",
              "      <td>4696</td>\n",
              "      <td>292866</td>\n",
              "      <td>317257</td>\n",
              "      <td>B0000DIYUK</td>\n",
              "      <td>A2ZM9BGE3K3SY2</td>\n",
              "      <td>Sara Swihart</td>\n",
              "      <td>0</td>\n",
              "      <td>0</td>\n",
              "      <td>positive</td>\n",
              "      <td>1069286400</td>\n",
              "      <td>Tasty</td>\n",
              "      <td>I like this flavor, but it kind of reminds me ...</td>\n",
              "      <td>like flavor kind remind jello pud bite thing n...</td>\n",
              "    </tr>\n",
              "    <tr>\n",
              "      <th>1728</th>\n",
              "      <td>4706</td>\n",
              "      <td>454840</td>\n",
              "      <td>491748</td>\n",
              "      <td>B0000DIYW9</td>\n",
              "      <td>A2ZM9BGE3K3SY2</td>\n",
              "      <td>Sara Swihart</td>\n",
              "      <td>0</td>\n",
              "      <td>0</td>\n",
              "      <td>positive</td>\n",
              "      <td>1069286400</td>\n",
              "      <td>Mmm...</td>\n",
              "      <td>This one is nice. I like using it in the 'reci...</td>\n",
              "      <td>one nice like use recip root beer float bad ca...</td>\n",
              "    </tr>\n",
              "  </tbody>\n",
              "</table>\n",
              "</div>"
            ],
            "text/plain": [
              "      level_0   index      Id   ProductId          UserId  \\\n",
              "9209     3311  197136  213676  B0000D9MXU  A3MXE8CDJX12V2   \n",
              "5514     4696  292866  317257  B0000DIYUK  A2ZM9BGE3K3SY2   \n",
              "1728     4706  454840  491748  B0000DIYW9  A2ZM9BGE3K3SY2   \n",
              "\n",
              "                           ProfileName  HelpfulnessNumerator  \\\n",
              "9209  L. M. Schulz \"domestic engineer\"                     3   \n",
              "5514                      Sara Swihart                     0   \n",
              "1728                      Sara Swihart                     0   \n",
              "\n",
              "      HelpfulnessDenominator     Score        Time  \\\n",
              "9209                       3  positive  1067644800   \n",
              "5514                       0  positive  1069286400   \n",
              "1728                       0  positive  1069286400   \n",
              "\n",
              "                                 Summary  \\\n",
              "9209  A Cheese the Whole Family Likes...   \n",
              "5514                               Tasty   \n",
              "1728                              Mmm...   \n",
              "\n",
              "                                                   Text  \\\n",
              "9209  The description of a cross between cheddar and...   \n",
              "5514  I like this flavor, but it kind of reminds me ...   \n",
              "1728  This one is nice. I like using it in the 'reci...   \n",
              "\n",
              "                                            CleanedText  \n",
              "9209  descript cross cheddar parmesan complet accur ...  \n",
              "5514  like flavor kind remind jello pud bite thing n...  \n",
              "1728  one nice like use recip root beer float bad ca...  "
            ]
          },
          "metadata": {
            "tags": []
          },
          "execution_count": 4
        }
      ]
    },
    {
      "metadata": {
        "id": "4jcw0c0Jh9B2",
        "colab_type": "code",
        "outputId": "2fd8ef6c-286c-4b44-90bc-85f287d76430",
        "colab": {
          "base_uri": "https://localhost:8080/",
          "height": 366
        }
      },
      "cell_type": "code",
      "source": [
        "sample['Score'] = sample.Score.astype('category')\n",
        "sample['Score'] = sample.Score.cat.codes\n",
        "sample.head(3)"
      ],
      "execution_count": 5,
      "outputs": [
        {
          "output_type": "execute_result",
          "data": {
            "text/html": [
              "<div>\n",
              "<style scoped>\n",
              "    .dataframe tbody tr th:only-of-type {\n",
              "        vertical-align: middle;\n",
              "    }\n",
              "\n",
              "    .dataframe tbody tr th {\n",
              "        vertical-align: top;\n",
              "    }\n",
              "\n",
              "    .dataframe thead th {\n",
              "        text-align: right;\n",
              "    }\n",
              "</style>\n",
              "<table border=\"1\" class=\"dataframe\">\n",
              "  <thead>\n",
              "    <tr style=\"text-align: right;\">\n",
              "      <th></th>\n",
              "      <th>level_0</th>\n",
              "      <th>index</th>\n",
              "      <th>Id</th>\n",
              "      <th>ProductId</th>\n",
              "      <th>UserId</th>\n",
              "      <th>ProfileName</th>\n",
              "      <th>HelpfulnessNumerator</th>\n",
              "      <th>HelpfulnessDenominator</th>\n",
              "      <th>Score</th>\n",
              "      <th>Time</th>\n",
              "      <th>Summary</th>\n",
              "      <th>Text</th>\n",
              "      <th>CleanedText</th>\n",
              "    </tr>\n",
              "  </thead>\n",
              "  <tbody>\n",
              "    <tr>\n",
              "      <th>9209</th>\n",
              "      <td>3311</td>\n",
              "      <td>197136</td>\n",
              "      <td>213676</td>\n",
              "      <td>B0000D9MXU</td>\n",
              "      <td>A3MXE8CDJX12V2</td>\n",
              "      <td>L. M. Schulz \"domestic engineer\"</td>\n",
              "      <td>3</td>\n",
              "      <td>3</td>\n",
              "      <td>1</td>\n",
              "      <td>1067644800</td>\n",
              "      <td>A Cheese the Whole Family Likes...</td>\n",
              "      <td>The description of a cross between cheddar and...</td>\n",
              "      <td>descript cross cheddar parmesan complet accur ...</td>\n",
              "    </tr>\n",
              "    <tr>\n",
              "      <th>5514</th>\n",
              "      <td>4696</td>\n",
              "      <td>292866</td>\n",
              "      <td>317257</td>\n",
              "      <td>B0000DIYUK</td>\n",
              "      <td>A2ZM9BGE3K3SY2</td>\n",
              "      <td>Sara Swihart</td>\n",
              "      <td>0</td>\n",
              "      <td>0</td>\n",
              "      <td>1</td>\n",
              "      <td>1069286400</td>\n",
              "      <td>Tasty</td>\n",
              "      <td>I like this flavor, but it kind of reminds me ...</td>\n",
              "      <td>like flavor kind remind jello pud bite thing n...</td>\n",
              "    </tr>\n",
              "    <tr>\n",
              "      <th>1728</th>\n",
              "      <td>4706</td>\n",
              "      <td>454840</td>\n",
              "      <td>491748</td>\n",
              "      <td>B0000DIYW9</td>\n",
              "      <td>A2ZM9BGE3K3SY2</td>\n",
              "      <td>Sara Swihart</td>\n",
              "      <td>0</td>\n",
              "      <td>0</td>\n",
              "      <td>1</td>\n",
              "      <td>1069286400</td>\n",
              "      <td>Mmm...</td>\n",
              "      <td>This one is nice. I like using it in the 'reci...</td>\n",
              "      <td>one nice like use recip root beer float bad ca...</td>\n",
              "    </tr>\n",
              "  </tbody>\n",
              "</table>\n",
              "</div>"
            ],
            "text/plain": [
              "      level_0   index      Id   ProductId          UserId  \\\n",
              "9209     3311  197136  213676  B0000D9MXU  A3MXE8CDJX12V2   \n",
              "5514     4696  292866  317257  B0000DIYUK  A2ZM9BGE3K3SY2   \n",
              "1728     4706  454840  491748  B0000DIYW9  A2ZM9BGE3K3SY2   \n",
              "\n",
              "                           ProfileName  HelpfulnessNumerator  \\\n",
              "9209  L. M. Schulz \"domestic engineer\"                     3   \n",
              "5514                      Sara Swihart                     0   \n",
              "1728                      Sara Swihart                     0   \n",
              "\n",
              "      HelpfulnessDenominator  Score        Time  \\\n",
              "9209                       3      1  1067644800   \n",
              "5514                       0      1  1069286400   \n",
              "1728                       0      1  1069286400   \n",
              "\n",
              "                                 Summary  \\\n",
              "9209  A Cheese the Whole Family Likes...   \n",
              "5514                               Tasty   \n",
              "1728                              Mmm...   \n",
              "\n",
              "                                                   Text  \\\n",
              "9209  The description of a cross between cheddar and...   \n",
              "5514  I like this flavor, but it kind of reminds me ...   \n",
              "1728  This one is nice. I like using it in the 'reci...   \n",
              "\n",
              "                                            CleanedText  \n",
              "9209  descript cross cheddar parmesan complet accur ...  \n",
              "5514  like flavor kind remind jello pud bite thing n...  \n",
              "1728  one nice like use recip root beer float bad ca...  "
            ]
          },
          "metadata": {
            "tags": []
          },
          "execution_count": 5
        }
      ]
    },
    {
      "metadata": {
        "id": "6pPUelOZiCZC",
        "colab_type": "code",
        "outputId": "c9ebba72-51c8-4f83-bed8-884cc8d70fce",
        "colab": {
          "base_uri": "https://localhost:8080/",
          "height": 136
        }
      },
      "cell_type": "code",
      "source": [
        "#seperating labels from final_sample\n",
        "label = sample.Score\n",
        "print (label.value_counts())\n",
        "print (label.head(3))"
      ],
      "execution_count": 6,
      "outputs": [
        {
          "output_type": "stream",
          "text": [
            "1    8434\n",
            "0    1566\n",
            "Name: Score, dtype: int64\n",
            "9209    1\n",
            "5514    1\n",
            "1728    1\n",
            "Name: Score, dtype: int8\n"
          ],
          "name": "stdout"
        }
      ]
    },
    {
      "metadata": {
        "id": "jT4_NB8xiECX",
        "colab_type": "code",
        "outputId": "40382b39-6446-41c3-f57a-574662a5907c",
        "colab": {
          "base_uri": "https://localhost:8080/",
          "height": 221
        }
      },
      "cell_type": "code",
      "source": [
        "# train,cv, test split(60:20:20)\n",
        "X_train = sample.CleanedText[:int(len(sample)*0.6)]\n",
        "y_train = label[:int(len(sample)*0.6)]\n",
        "\n",
        "X_cv = sample.CleanedText[int(len(sample)*0.6):int(len(sample)*0.8)]\n",
        "y_cv = label[int(len(sample)*0.6):int(len(sample)*0.8)]\n",
        "\n",
        "X_test = sample.CleanedText[int(len(sample)*0.8):]\n",
        "y_test = label[int(len(sample)*0.8):]\n",
        "\n",
        "print ('training set :', X_train.shape)\n",
        "print ('cross-validation set:',X_cv.shape)\n",
        "print('test set', X_test.shape)\n",
        "print (X_train.head(2))\n",
        "print (X_cv.head(2))\n",
        "print (X_test.head(2))"
      ],
      "execution_count": 7,
      "outputs": [
        {
          "output_type": "stream",
          "text": [
            "training set : (6000,)\n",
            "cross-validation set: (2000,)\n",
            "test set (2000,)\n",
            "9209    descript cross cheddar parmesan complet accur ...\n",
            "5514    like flavor kind remind jello pud bite thing n...\n",
            "Name: CleanedText, dtype: object\n",
            "7844    can pumpkin kid one right mind would pay much ...\n",
            "4645    there one thing cant handl rip beauti product ...\n",
            "Name: CleanedText, dtype: object\n",
            "3004    glad bought much easier pull clean big food pr...\n",
            "5097    give paw origin flavor figur would like one we...\n",
            "Name: CleanedText, dtype: object\n"
          ],
          "name": "stdout"
        }
      ]
    },
    {
      "metadata": {
        "id": "ve18KB10KFJU",
        "colab_type": "text"
      },
      "cell_type": "markdown",
      "source": [
        "# BOW vectorizer"
      ]
    },
    {
      "metadata": {
        "colab_type": "code",
        "outputId": "b99a79e0-fbfd-4509-aec7-609c830d82b3",
        "id": "ZxwrBmcbqrmW",
        "colab": {
          "base_uri": "https://localhost:8080/",
          "height": 68
        }
      },
      "cell_type": "code",
      "source": [
        "\n",
        "# training data\n",
        "count_vec = CountVectorizer()\n",
        "X_train_bow = count_vec.fit_transform(X_train.values)\n",
        "print ('the type of count vectorizer' , type(X_train_bow))\n",
        "print ('shape of text BOW vectorizer' , X_train_bow.get_shape())\n",
        "print ('Number of unique words',X_train_bow.get_shape()[1])"
      ],
      "execution_count": 8,
      "outputs": [
        {
          "output_type": "stream",
          "text": [
            "the type of count vectorizer <class 'scipy.sparse.csr.csr_matrix'>\n",
            "shape of text BOW vectorizer (6000, 10133)\n",
            "Number of unique words 10133\n"
          ],
          "name": "stdout"
        }
      ]
    },
    {
      "metadata": {
        "id": "ikF5J0l7jHzj",
        "colab_type": "code",
        "outputId": "22059b3c-e50b-42eb-a2a7-92ee1b43cc4d",
        "colab": {
          "base_uri": "https://localhost:8080/",
          "height": 136
        }
      },
      "cell_type": "code",
      "source": [
        "# cross validation and test data\n",
        "X_cv_bow = count_vec.transform(X_cv.values)\n",
        "print ('the type of count vectorizer' , type(X_cv_bow))\n",
        "print ('shape of text BOW vectorizer' , X_cv_bow.get_shape())\n",
        "print ('Number of unique words',X_cv_bow.get_shape()[1])\n",
        "print ('**********************************************************')\n",
        "X_test_bow = count_vec.transform(X_test.values)\n",
        "print ('the type of count vectorizer' , type(X_test_bow))\n",
        "print ('shape of text BOW vectorizer' , X_test_bow.get_shape())\n",
        "print ('Number of unique words',X_test_bow.get_shape()[1])"
      ],
      "execution_count": 9,
      "outputs": [
        {
          "output_type": "stream",
          "text": [
            "the type of count vectorizer <class 'scipy.sparse.csr.csr_matrix'>\n",
            "shape of text BOW vectorizer (2000, 10133)\n",
            "Number of unique words 10133\n",
            "**********************************************************\n",
            "the type of count vectorizer <class 'scipy.sparse.csr.csr_matrix'>\n",
            "shape of text BOW vectorizer (2000, 10133)\n",
            "Number of unique words 10133\n"
          ],
          "name": "stdout"
        }
      ]
    },
    {
      "metadata": {
        "id": "2WN6MAggnRay",
        "colab_type": "code",
        "outputId": "2040fa4b-44b0-4daf-840a-c3da92f84a2e",
        "colab": {
          "base_uri": "https://localhost:8080/",
          "height": 54
        }
      },
      "cell_type": "code",
      "source": [
        "# KNN brute\n",
        "\n",
        "  \n",
        "from sklearn.neighbors import KNeighborsClassifier\n",
        "from sklearn.metrics import f1_score\n",
        "\n",
        "\n",
        "f1 = list()\n",
        "\n",
        "n = np.arange(1,50,2)\n",
        "for i in n:\n",
        "    knn = KNeighborsClassifier(n_neighbors = i,algorithm='brute', n_jobs = -1)\n",
        "    knn.fit(X_train_bow , y_train)\n",
        "    pred = knn.predict(X_cv_bow)\n",
        "    score = f1_score(y_cv, pred)\n",
        "    f1.append(score)\n",
        "    \n",
        "\n",
        "print (f1)  \n",
        "\n",
        "  \n",
        "  \n",
        "  \n",
        "  "
      ],
      "execution_count": 10,
      "outputs": [
        {
          "output_type": "stream",
          "text": [
            "[0.8830945558739256, 0.89520624303233, 0.8978688070855245, 0.8993103448275862, 0.8999724441995041, 0.8994213281895838, 0.8992290748898679, 0.8995320671621251, 0.899284534947716, 0.8995320671621251, 0.899284534947716, 0.899284534947716, 0.899284534947716, 0.899284534947716, 0.899284534947716, 0.899284534947716, 0.899284534947716, 0.899284534947716, 0.899284534947716, 0.8995873452544705, 0.8995873452544705, 0.8995873452544705, 0.8995873452544705, 0.8995873452544705, 0.8995873452544705]\n"
          ],
          "name": "stdout"
        }
      ]
    },
    {
      "metadata": {
        "id": "T2nLjcp0x4mI",
        "colab_type": "code",
        "outputId": "5c882ae1-d47a-4a7f-e1dd-a2b45f8676f9",
        "colab": {
          "base_uri": "https://localhost:8080/",
          "height": 294
        }
      },
      "cell_type": "code",
      "source": [
        "n_neighbour = np.arange(1,50,2)\n",
        "#plotting f1_score and neighbours \n",
        "plt.plot(n_neighbour, f1,'-')\n",
        "plt.xlabel('n_neighbours')\n",
        "plt.ylabel('f1_score')\n",
        "plt.title('f1_score v n_neighbours')\n",
        "plt.grid(True)\n",
        "plt.show()"
      ],
      "execution_count": 11,
      "outputs": [
        {
          "output_type": "display_data",
          "data": {
            "image/png": "[encoded data removed]",
            "text/plain": [
              "<matplotlib.figure.Figure at 0x7f21dc76f828>"
            ]
          },
          "metadata": {
            "tags": []
          }
        }
      ]
    },
    {
      "metadata": {
        "id": "7aG-C_nNwpFb",
        "colab_type": "code",
        "colab": {
          "base_uri": "https://localhost:8080/",
          "height": 34
        },
        "outputId": "36323fd0-b65f-47ff-a03e-c693d8d72a81"
      },
      "cell_type": "code",
      "source": [
        "import numpy as np\n",
        "ind = np.argmax(f1)\n",
        "print ('number of neighbours :',n[ind] )\n"
      ],
      "execution_count": 12,
      "outputs": [
        {
          "output_type": "stream",
          "text": [
            "number of neighbours : 9\n"
          ],
          "name": "stdout"
        }
      ]
    },
    {
      "metadata": {
        "id": "ERFPa0JgHi-D",
        "colab_type": "code",
        "outputId": "f56e166a-0afd-459e-a4c0-9b670e1b514a",
        "colab": {
          "base_uri": "https://localhost:8080/",
          "height": 51
        }
      },
      "cell_type": "code",
      "source": [
        "# calculating model accuracy , f1_score on test data \n",
        "from sklearn.metrics import accuracy_score\n",
        "\n",
        "\n",
        "knn = KNeighborsClassifier(n_neighbors = 9 , algorithm='brute')\n",
        "knn.fit(X_train_bow , y_train)\n",
        "pred = knn.predict(X_test_bow)\n",
        "score = f1_score(y_test, pred) \n",
        "print (\"f1-score:\", score)\n",
        "acc= accuracy_score(y_test, pred)\n",
        "print ('accuracy:',acc)\n"
      ],
      "execution_count": 13,
      "outputs": [
        {
          "output_type": "stream",
          "text": [
            "f1-score: 0.9092896174863389\n",
            "accuracy: 0.834\n"
          ],
          "name": "stdout"
        }
      ]
    },
    {
      "metadata": {
        "id": "eTj3gkavZB2p",
        "colab_type": "code",
        "outputId": "8ff5768b-2cc2-4c10-cc70-e3c3e7bd2ff7",
        "colab": {
          "base_uri": "https://localhost:8080/",
          "height": 68
        }
      },
      "cell_type": "code",
      "source": [
        "# KNN with kdtree but we need to convert sparse matrix to dense using turncated SVD# BOW vectorizer\n",
        "# training data\n",
        "count_vec = CountVectorizer(max_features = 2000 , min_df = 50)\n",
        "X_train_T = count_vec.fit_transform(X_train.values)\n",
        "print ('the type of count vectorizer' , type(X_train_T))\n",
        "print ('shape of text BOW vectorizer' , X_train_T.get_shape())\n",
        "print ('Number of unique words',X_train_T.get_shape()[1])\n",
        "X_train_T=X_train_T.toarray()\n"
      ],
      "execution_count": 14,
      "outputs": [
        {
          "output_type": "stream",
          "text": [
            "the type of count vectorizer <class 'scipy.sparse.csr.csr_matrix'>\n",
            "shape of text BOW vectorizer (6000, 738)\n",
            "Number of unique words 738\n"
          ],
          "name": "stdout"
        }
      ]
    },
    {
      "metadata": {
        "id": "78hCe61Sc7GD",
        "colab_type": "code",
        "outputId": "4cddd6f7-a0e2-46b5-f97e-3ab3515ec402",
        "colab": {
          "base_uri": "https://localhost:8080/",
          "height": 136
        }
      },
      "cell_type": "code",
      "source": [
        "# cross validation and test data\n",
        "X_cv_T = count_vec.transform(X_cv.values)\n",
        "print ('the type of count vectorizer' , type(X_cv_T))\n",
        "print ('shape of text BOW vectorizer' , X_cv_T.get_shape())\n",
        "print ('Number of unique words',X_cv_T.get_shape()[1])\n",
        "X_cv_T = X_cv_T.toarray()\n",
        "print ('**********************************************************')\n",
        "X_test_T = count_vec.transform(X_test.values)\n",
        "print ('the type of count vectorizer' , type(X_test_T))\n",
        "print ('shape of text BOW vectorizer' , X_test_T.get_shape())\n",
        "print ('Number of unique words',X_test_T.get_shape()[1])\n",
        "X_test_T = X_test_T.toarray()"
      ],
      "execution_count": 15,
      "outputs": [
        {
          "output_type": "stream",
          "text": [
            "the type of count vectorizer <class 'scipy.sparse.csr.csr_matrix'>\n",
            "shape of text BOW vectorizer (2000, 738)\n",
            "Number of unique words 738\n",
            "**********************************************************\n",
            "the type of count vectorizer <class 'scipy.sparse.csr.csr_matrix'>\n",
            "shape of text BOW vectorizer (2000, 738)\n",
            "Number of unique words 738\n"
          ],
          "name": "stdout"
        }
      ]
    },
    {
      "metadata": {
        "id": "BdtZb-SVdMKH",
        "colab_type": "code",
        "outputId": "e2f935ff-eda4-4656-87bc-cb58f293bfe6",
        "colab": {
          "base_uri": "https://localhost:8080/",
          "height": 54
        }
      },
      "cell_type": "code",
      "source": [
        "# finding optimal K using kd_tree algorithm \n",
        "f1 = list()\n",
        "n = np.arange(1,50,2)\n",
        "for i in n:\n",
        "    knn = KNeighborsClassifier(n_neighbors = i , algorithm='kd_tree')\n",
        "    knn.fit(X_train_T , y_train)\n",
        "    pred = knn.predict(X_cv_T)\n",
        "    score = f1_score(y_cv, pred) \n",
        "    f1.append(score)\n",
        "    \n",
        "\n",
        "print (f1)  \n"
      ],
      "execution_count": 16,
      "outputs": [
        {
          "output_type": "stream",
          "text": [
            "[0.8592995169082126, 0.8808290155440415, 0.8900169204737732, 0.8969764837625981, 0.8972222222222221, 0.8991689750692521, 0.8986710963455149, 0.899696048632219, 0.8991434097817077, 0.8987586206896552, 0.8985107556536128, 0.8994213281895838, 0.8991735537190082, 0.8989815579410955, 0.899284534947716, 0.899284534947716, 0.899284534947716, 0.899284534947716, 0.899284534947716, 0.899284534947716, 0.899284534947716, 0.899284534947716, 0.899284534947716, 0.899284534947716, 0.899284534947716]\n"
          ],
          "name": "stdout"
        }
      ]
    },
    {
      "metadata": {
        "id": "Ekpw1VrXev57",
        "colab_type": "code",
        "outputId": "7fb65e1a-b7fe-4f45-ebba-e8659fc4c7bc",
        "colab": {
          "base_uri": "https://localhost:8080/",
          "height": 294
        }
      },
      "cell_type": "code",
      "source": [
        "n_neighbour = np.arange(1,50,2)\n",
        "#plotting f1_score and neighbours \n",
        "plt.plot(n_neighbour, f1,'-')\n",
        "plt.xlabel('n_neighbours')\n",
        "plt.ylabel('f1_score')\n",
        "plt.title('f1_score v n_neighbours')\n",
        "plt.grid(True)\n",
        "plt.show()"
      ],
      "execution_count": 17,
      "outputs": [
        {
          "output_type": "display_data",
          "data": {
            "image/png": "[encoded data removed]",
            "text/plain": [
              "<matplotlib.figure.Figure at 0x7f21d8c66438>"
            ]
          },
          "metadata": {
            "tags": []
          }
        }
      ]
    },
    {
      "metadata": {
        "id": "XsLzLQ4U0ggK",
        "colab_type": "code",
        "colab": {
          "base_uri": "https://localhost:8080/",
          "height": 34
        },
        "outputId": "71c1e971-8789-44f3-fc06-d4bcbcb7e87c"
      },
      "cell_type": "code",
      "source": [
        "import numpy as np\n",
        "ind = np.argmax(f1)\n",
        "print ('number of neighbours :',n[ind] )"
      ],
      "execution_count": 18,
      "outputs": [
        {
          "output_type": "stream",
          "text": [
            "number of neighbours : 15\n"
          ],
          "name": "stdout"
        }
      ]
    },
    {
      "metadata": {
        "id": "hAc1xF6Ke3Hl",
        "colab_type": "code",
        "outputId": "94bc526d-11b2-4e37-cf1f-2761b3b2d2c3",
        "colab": {
          "base_uri": "https://localhost:8080/",
          "height": 51
        }
      },
      "cell_type": "code",
      "source": [
        "# calculating model accuracy , f1_score on test data \n",
        "from sklearn.metrics import accuracy_score\n",
        "\n",
        "knn = KNeighborsClassifier(n_neighbors = n[ind] , algorithm='kd_tree')\n",
        "knn.fit(X_train_T , y_train)\n",
        "pred = knn.predict(X_test_T)\n",
        "score = f1_score(y_test, pred) \n",
        "print (\"f1-score:\", score)\n",
        "acc= accuracy_score(y_test, pred)\n",
        "print ('accuracy:',acc)\n"
      ],
      "execution_count": 19,
      "outputs": [
        {
          "output_type": "stream",
          "text": [
            "f1-score: 0.9104354971240756\n",
            "accuracy: 0.8365\n"
          ],
          "name": "stdout"
        }
      ]
    },
    {
      "metadata": {
        "id": "_Tkjj9I4KSsJ",
        "colab_type": "text"
      },
      "cell_type": "markdown",
      "source": [
        "# TFIDF vectorizer"
      ]
    },
    {
      "metadata": {
        "id": "MXVAM50Hj6Un",
        "colab_type": "code",
        "outputId": "c0c3b9cc-ac42-42f2-82cc-8aaf51292974",
        "colab": {
          "base_uri": "https://localhost:8080/",
          "height": 170
        }
      },
      "cell_type": "code",
      "source": [
        "#tfidf sparse\n",
        "tfidf_vect = TfidfVectorizer(ngram_range=(1,2)) #in scikit-learn\n",
        "# training data\n",
        "X_train_TS = tfidf_vect.fit_transform(X_train.values)\n",
        "print ('the type of count vectorizer' , type(X_train_TS))\n",
        "print ('shape of text tfidf vectorizer' , X_train_TS.get_shape())\n",
        "print ('Number of unique words',X_train_TS.get_shape()[1])\n",
        "\n",
        "# cross validation data\n",
        "X_cv_TS = tfidf_vect.transform(X_cv.values)\n",
        "print ('the type of count vectorizer' , type(X_cv_TS))\n",
        "print ('shape of cv tfidf vectorizer' , X_cv_TS.get_shape())\n",
        "print ('Number of unique words',X_cv_TS.get_shape()[1])\n",
        "\n",
        "# test data\n",
        "X_test_TS = tfidf_vect.transform(X_test.values)\n",
        "print ('the type of count vectorizer' , type(X_test_TS))\n",
        "print ('shape of text tfidf vectorizer' , X_test_TS.get_shape())\n",
        "print ('Number of unique words',X_test_TS.get_shape()[1])\n"
      ],
      "execution_count": 20,
      "outputs": [
        {
          "output_type": "stream",
          "text": [
            "the type of count vectorizer <class 'scipy.sparse.csr.csr_matrix'>\n",
            "shape of text tfidf vectorizer (6000, 151815)\n",
            "Number of unique words 151815\n",
            "the type of count vectorizer <class 'scipy.sparse.csr.csr_matrix'>\n",
            "shape of cv tfidf vectorizer (2000, 151815)\n",
            "Number of unique words 151815\n",
            "the type of count vectorizer <class 'scipy.sparse.csr.csr_matrix'>\n",
            "shape of text tfidf vectorizer (2000, 151815)\n",
            "Number of unique words 151815\n"
          ],
          "name": "stdout"
        }
      ]
    },
    {
      "metadata": {
        "id": "PBU46ZPOj7Hw",
        "colab_type": "code",
        "outputId": "07c68ecb-d6b9-477c-b0c8-73be07d2006b",
        "colab": {
          "base_uri": "https://localhost:8080/",
          "height": 54
        }
      },
      "cell_type": "code",
      "source": [
        "# finding optimal K using 'brute' algorithm \n",
        "f1 = list()\n",
        "n = np.arange(1,50,2)\n",
        "for i in n:\n",
        "    knn = KNeighborsClassifier(n_neighbors = i , algorithm='brute')\n",
        "    knn.fit(X_train_TS , y_train)\n",
        "    pred = knn.predict(X_cv_TS)\n",
        "    score = f1_score(y_cv, pred) \n",
        "    f1.append(score)\n",
        "    \n",
        "\n",
        "print (f1)  "
      ],
      "execution_count": 21,
      "outputs": [
        {
          "output_type": "stream",
          "text": [
            "[0.8656185108276476, 0.8948863636363635, 0.9041865692610285, 0.9058396200055882, 0.9041248606465999, 0.904284919309961, 0.9026696329254728, 0.9023307436182021, 0.9031900138696255, 0.903601108033241, 0.9038514824050985, 0.9024053082665192, 0.9024053082665192, 0.9021558872305141, 0.9016574585635361, 0.9019607843137255, 0.9017117614577582, 0.9017117614577582, 0.9015172413793103, 0.9017660044150111, 0.9019607843137255, 0.9020149047750484, 0.902317880794702, 0.9020149047750484, 0.9012686155543298]\n"
          ],
          "name": "stdout"
        }
      ]
    },
    {
      "metadata": {
        "id": "PRFufUR_j7VE",
        "colab_type": "code",
        "outputId": "baa5b154-6348-4909-9c5b-211852b781d5",
        "colab": {
          "base_uri": "https://localhost:8080/",
          "height": 294
        }
      },
      "cell_type": "code",
      "source": [
        "n_neighbour = np.arange(1,50,2)\n",
        "#plotting f1_score and neighbours \n",
        "plt.plot(n_neighbour, f1,'-')\n",
        "plt.xlabel('n_neighbours')\n",
        "plt.ylabel('f1_score')\n",
        "plt.title('f1_score v n_neighbours')\n",
        "plt.grid(True)\n",
        "plt.show()"
      ],
      "execution_count": 22,
      "outputs": [
        {
          "output_type": "display_data",
          "data": {
            "image/png": "[encoded data removed]",
            "text/plain": [
              "<matplotlib.figure.Figure at 0x7f21dc4ca518>"
            ]
          },
          "metadata": {
            "tags": []
          }
        }
      ]
    },
    {
      "metadata": {
        "id": "fZRcHTSw3E_W",
        "colab_type": "code",
        "colab": {
          "base_uri": "https://localhost:8080/",
          "height": 34
        },
        "outputId": "8b9d1294-1656-46e4-da4a-4ecc57fc3125"
      },
      "cell_type": "code",
      "source": [
        "import numpy as np\n",
        "ind = np.argmax(f1)\n",
        "print ('number of neighbours :',n[ind] )"
      ],
      "execution_count": 23,
      "outputs": [
        {
          "output_type": "stream",
          "text": [
            "number of neighbours : 7\n"
          ],
          "name": "stdout"
        }
      ]
    },
    {
      "metadata": {
        "id": "PGy02Pqaj7f4",
        "colab_type": "code",
        "outputId": "d7a7ac86-219d-4cdc-fe71-83d75db7dc78",
        "colab": {
          "base_uri": "https://localhost:8080/",
          "height": 51
        }
      },
      "cell_type": "code",
      "source": [
        "# calculating model accuracy , f1_score on test data \n",
        "from sklearn.metrics import accuracy_score\n",
        "\n",
        "knn = KNeighborsClassifier(n_neighbors = n[ind] , algorithm='brute')\n",
        "knn.fit(X_train_TS , y_train)\n",
        "pred = knn.predict(X_test_TS)\n",
        "score = f1_score(y_test, pred) \n",
        "print (\"f1-score:\", score)\n",
        "acc= accuracy_score(y_test, pred)\n",
        "print ('accuracy:',acc)"
      ],
      "execution_count": 24,
      "outputs": [
        {
          "output_type": "stream",
          "text": [
            "f1-score: 0.9151414309484192\n",
            "accuracy: 0.847\n"
          ],
          "name": "stdout"
        }
      ]
    },
    {
      "metadata": {
        "id": "vIPDA-_QfuNC",
        "colab_type": "code",
        "outputId": "2ebe781a-416d-4179-82f4-8d1ed7cf8566",
        "colab": {
          "base_uri": "https://localhost:8080/",
          "height": 170
        }
      },
      "cell_type": "code",
      "source": [
        "# TFIDF dense\n",
        "# \n",
        "tfidf_vect = TfidfVectorizer(ngram_range=(1,2) , max_features = 2000 , min_df = 50) #in scikit-learn\n",
        "# training data\n",
        "X_train_tfidf = tfidf_vect.fit_transform(X_train.values)\n",
        "print ('the type of count vectorizer' , type(X_train_tfidf))\n",
        "print ('shape of text tfidf vectorizer' , X_train_tfidf.get_shape())\n",
        "print ('Number of unique words',X_train_tfidf.get_shape()[1])\n",
        "X_train_tfidf = X_train_tfidf.toarray() \n",
        "# cross validation data\n",
        "X_cv_tfidf = tfidf_vect.transform(X_cv.values)\n",
        "print ('the type of count vectorizer' , type(X_cv_tfidf))\n",
        "print ('shape of cv tfidf vectorizer' , X_cv_tfidf.get_shape())\n",
        "print ('Number of unique words',X_cv_tfidf.get_shape()[1])\n",
        "X_cv_tfidf = X_cv_tfidf.toarray() \n",
        "# test data\n",
        "X_test_tfidf = tfidf_vect.transform(X_test.values)\n",
        "print ('the type of count vectorizer' , type(X_test_tfidf))\n",
        "print ('shape of text tfidf vectorizer' , X_test_tfidf.get_shape())\n",
        "print ('Number of unique words',X_test_tfidf.get_shape()[1])\n",
        "X_test_tfidf = X_test_tfidf.toarray() "
      ],
      "execution_count": 25,
      "outputs": [
        {
          "output_type": "stream",
          "text": [
            "the type of count vectorizer <class 'scipy.sparse.csr.csr_matrix'>\n",
            "shape of text tfidf vectorizer (6000, 792)\n",
            "Number of unique words 792\n",
            "the type of count vectorizer <class 'scipy.sparse.csr.csr_matrix'>\n",
            "shape of cv tfidf vectorizer (2000, 792)\n",
            "Number of unique words 792\n",
            "the type of count vectorizer <class 'scipy.sparse.csr.csr_matrix'>\n",
            "shape of text tfidf vectorizer (2000, 792)\n",
            "Number of unique words 792\n"
          ],
          "name": "stdout"
        }
      ]
    },
    {
      "metadata": {
        "id": "r7kvFeBwgX6Z",
        "colab_type": "code",
        "outputId": "3f8b3a72-1723-435d-b87f-60046d334141",
        "colab": {
          "base_uri": "https://localhost:8080/",
          "height": 54
        }
      },
      "cell_type": "code",
      "source": [
        "# finding optimal K using 'kd-tree' algorithm \n",
        "f1 = list()\n",
        "n = np.arange(1,50,2)\n",
        "for i in n:\n",
        "    knn = KNeighborsClassifier(n_neighbors = i , algorithm='kd_tree')\n",
        "    knn.fit(X_train_tfidf , y_train)\n",
        "    pred = knn.predict(X_cv_tfidf)\n",
        "    score = f1_score(y_cv, pred) \n",
        "    f1.append(score)\n",
        "    \n",
        "\n",
        "print (f1)  \n"
      ],
      "execution_count": 26,
      "outputs": [
        {
          "output_type": "stream",
          "text": [
            "[0.8659670164917541, 0.8965122927387077, 0.9063649222065063, 0.9069440539780713, 0.9054809843400446, 0.9044302033992757, 0.905849582172702, 0.9049471928849362, 0.9041932796445432, 0.9021889720144084, 0.9011354195513709, 0.9014941892639734, 0.9009407858328722, 0.9007464749792646, 0.9023513139695712, 0.9014084507042254, 0.9017117614577582, 0.9011595803423522, 0.9011595803423522, 0.9011595803423522, 0.9006622516556292, 0.9006622516556292, 0.9004137931034484, 0.9004687069203199, 0.900523560209424]\n"
          ],
          "name": "stdout"
        }
      ]
    },
    {
      "metadata": {
        "id": "VTPQVRL4gi7U",
        "colab_type": "code",
        "outputId": "853eb1cc-103f-4e0e-81b1-01ebc396389e",
        "colab": {
          "base_uri": "https://localhost:8080/",
          "height": 294
        }
      },
      "cell_type": "code",
      "source": [
        "n_neighbour = np.arange(1,50,2)\n",
        "#plotting f1_score and neighbours \n",
        "plt.plot(n_neighbour, f1,'-')\n",
        "plt.xlabel('n_neighbours')\n",
        "plt.ylabel('f1_score')\n",
        "plt.title('f1_score v n_neighbours')\n",
        "plt.grid(True)\n",
        "plt.show()"
      ],
      "execution_count": 27,
      "outputs": [
        {
          "output_type": "display_data",
          "data": {
            "image/png": "[encoded data removed]",
            "text/plain": [
              "<matplotlib.figure.Figure at 0x7f21d7f0d860>"
            ]
          },
          "metadata": {
            "tags": []
          }
        }
      ]
    },
    {
      "metadata": {
        "id": "rseHqxFE51Z8",
        "colab_type": "code",
        "colab": {
          "base_uri": "https://localhost:8080/",
          "height": 34
        },
        "outputId": "fd63c507-9789-42c1-c12a-65e679922996"
      },
      "cell_type": "code",
      "source": [
        "import numpy as np\n",
        "ind = np.argmax(f1)\n",
        "print ('number of neighbours :',n[ind] )"
      ],
      "execution_count": 28,
      "outputs": [
        {
          "output_type": "stream",
          "text": [
            "number of neighbours : 7\n"
          ],
          "name": "stdout"
        }
      ]
    },
    {
      "metadata": {
        "id": "6Wm5hF8CgrJ4",
        "colab_type": "code",
        "outputId": "6d6d9a9f-cac1-4e1a-ca57-874a51d8ae8b",
        "colab": {
          "base_uri": "https://localhost:8080/",
          "height": 51
        }
      },
      "cell_type": "code",
      "source": [
        "# calculating model accuracy , f1_score on test data \n",
        "from sklearn.metrics import accuracy_score\n",
        "\n",
        "knn = KNeighborsClassifier(n_neighbors = n[ind] , algorithm='kd_tree')\n",
        "knn.fit(X_train_tfidf , y_train)\n",
        "pred = knn.predict(X_test_tfidf)\n",
        "score = f1_score(y_test, pred) \n",
        "print (\"f1-score:\", score)\n",
        "acc= accuracy_score(y_test, pred)\n",
        "print ('accuracy:',acc)"
      ],
      "execution_count": 29,
      "outputs": [
        {
          "output_type": "stream",
          "text": [
            "f1-score: 0.9143654114365412\n",
            "accuracy: 0.8465\n"
          ],
          "name": "stdout"
        }
      ]
    },
    {
      "metadata": {
        "id": "qwtMIForKizC",
        "colab_type": "text"
      },
      "cell_type": "markdown",
      "source": [
        "# W2V vectorizer"
      ]
    },
    {
      "metadata": {
        "id": "f0L-IC9Ujk4w",
        "colab_type": "code",
        "colab": {}
      },
      "cell_type": "code",
      "source": [
        "# w2v\n",
        "# removing html tags and apostrophes if present.\n",
        "import re\n",
        "def cleanhtml(sentence): #function to clean the word of any html-tags\n",
        "    cleanr = re.compile('<.*?>')\n",
        "    sentence = sentence\n",
        "    cleantext = re.sub(cleanr, ' ', sentence)\n",
        "    return cleantext\n",
        "def cleanpunc(sentence): #function to clean the word of any punctuation or special characters\n",
        "    cleaned = re.sub(r'[?|!|\\'|\"|#]',r'',sentence)\n",
        "    cleaned = re.sub(r'[.|,|)|(|\\|/]',r' ',cleaned)\n",
        "    return  cleaned"
      ],
      "execution_count": 0,
      "outputs": []
    },
    {
      "metadata": {
        "id": "n7SbpmEGmgLK",
        "colab_type": "code",
        "colab": {}
      },
      "cell_type": "code",
      "source": [
        "import gensim\n",
        "i=0\n",
        "list_of_sent_train=[]\n",
        "for sent in X_train.values:\n",
        "    filtered_sentence=[]\n",
        "    sent=cleanhtml(sent)\n",
        "    for w in sent.split():\n",
        "        for cleaned_words in cleanpunc(w).split():\n",
        "            if(cleaned_words.isalpha()):    \n",
        "                filtered_sentence.append(cleaned_words.lower())\n",
        "            else:\n",
        "                continue \n",
        "    list_of_sent_train.append(filtered_sentence)"
      ],
      "execution_count": 0,
      "outputs": []
    },
    {
      "metadata": {
        "id": "He3SCJa_mnY0",
        "colab_type": "code",
        "colab": {}
      },
      "cell_type": "code",
      "source": [
        "# Doing the same for cv dataset.\n",
        "list_of_sent_cv=[]\n",
        "for sent in X_cv.values:\n",
        "    filtered_sentence=[]\n",
        "    sent=cleanhtml(sent)\n",
        "  \n",
        "    for w in sent.split():\n",
        "        for cleaned_words in cleanpunc(w).split():\n",
        "            if(cleaned_words.isalpha()):    \n",
        "                filtered_sentence.append(cleaned_words.lower())\n",
        "            else:\n",
        "                continue \n",
        "    list_of_sent_cv.append(filtered_sentence)"
      ],
      "execution_count": 0,
      "outputs": []
    },
    {
      "metadata": {
        "id": "HtR5QaJRmoIB",
        "colab_type": "code",
        "colab": {}
      },
      "cell_type": "code",
      "source": [
        "# Doing the same for test dataset.\n",
        "list_of_sent_test=[]\n",
        "for sent in X_test.values:\n",
        "    filtered_sentence=[]\n",
        "    sent=cleanhtml(sent)\n",
        "  \n",
        "    for w in sent.split():\n",
        "        for cleaned_words in cleanpunc(w).split():\n",
        "            if(cleaned_words.isalpha()):    \n",
        "                filtered_sentence.append(cleaned_words.lower())\n",
        "            else:\n",
        "                continue \n",
        "    list_of_sent_test.append(filtered_sentence)"
      ],
      "execution_count": 0,
      "outputs": []
    },
    {
      "metadata": {
        "id": "DKuUCUKJmvsI",
        "colab_type": "code",
        "colab": {}
      },
      "cell_type": "code",
      "source": [
        "# Training the wor2vec model using train dataset\n",
        "w2v_model=gensim.models.Word2Vec(list_of_sent_train,min_count=5,size=50, workers=4)"
      ],
      "execution_count": 0,
      "outputs": []
    },
    {
      "metadata": {
        "id": "sflmSt_im56k",
        "colab_type": "code",
        "outputId": "cb8e731f-a3c3-4747-9cae-8003b00560d9",
        "colab": {
          "base_uri": "https://localhost:8080/",
          "height": 71
        }
      },
      "cell_type": "code",
      "source": [
        "w2v_words = list(w2v_model.wv.vocab)\n",
        "print(\"number of words that occured minimum 5 times \",len(w2v_words))\n",
        "print(\"sample words \", w2v_words[0:50])"
      ],
      "execution_count": 35,
      "outputs": [
        {
          "output_type": "stream",
          "text": [
            "number of words that occured minimum 5 times  3451\n",
            "sample words  ['descript', 'cross', 'cheddar', 'parmesan', 'complet', 'accur', 'good', 'grate', 'top', 'hot', 'food', 'sandwich', 'slice', 'snack', 'yum', 'like', 'flavor', 'kind', 'remind', 'jello', 'pud', 'bite', 'thing', 'nasti', 'most', 'use', 'one', 'recip', 'creat', 'new', 'nice', 'root', 'beer', 'float', 'bad', 'cant', 'put', 'fizz', 'jelli', 'bean', 'red', 'rice', 'simpl', 'dish', 'everybodi', 'orlean', 'eat', 'kid', 'nativ', 'adopt']\n"
          ],
          "name": "stdout"
        }
      ]
    },
    {
      "metadata": {
        "id": "-zkikEvjm9d6",
        "colab_type": "code",
        "outputId": "a58a4f43-da9b-4927-f976-63744e94aa93",
        "colab": {
          "base_uri": "https://localhost:8080/",
          "height": 204
        }
      },
      "cell_type": "code",
      "source": [
        "#avgw2v \n",
        "sent_vectors_train = []; # the avg-w2v for each sentence/review is stored in this train\n",
        "for sent in list_of_sent_train: # for each review/sentence\n",
        "    sent_vec = np.zeros(50) # as word vectors are of zero length\n",
        "    cnt_words =0; # num of words with a valid vector in the sentence/review\n",
        "    for word in sent: # for each word in a review/sentence\n",
        "      if word in w2v_words:\n",
        "        vec = w2v_model.wv[word]\n",
        "        sent_vec += vec\n",
        "        cnt_words += 1\n",
        "    if cnt_words != 0:\n",
        "        sent_vec /= cnt_words\n",
        "    sent_vectors_train.append(sent_vec)\n",
        "    \n",
        "print (len(sent_vectors_train))\n",
        "print (len(sent_vectors_train[0]))\n",
        "print (sent_vectors_train[0])"
      ],
      "execution_count": 36,
      "outputs": [
        {
          "output_type": "stream",
          "text": [
            "6000\n",
            "50\n",
            "[-0.03081541 -0.16942528  0.37053947  0.3471693   0.06550465  0.00934745\n",
            " -0.26401369 -0.30525877 -0.03101374  0.05683156 -0.30106832  0.17902492\n",
            " -0.00511837  0.17858085  0.07908536  0.30436317 -0.75914407  0.43525635\n",
            "  0.30143137  0.14100397  0.03731504  0.10614406 -0.68245442 -0.297536\n",
            " -0.11061337  0.0226358  -0.38545163  0.01072758 -0.2559826  -0.57147083\n",
            " -0.34911688  0.26625922  0.70745151 -0.41023391  0.09353385 -0.16736646\n",
            "  0.33028037 -0.31072109  0.54585494 -0.25643198  0.32343879 -0.18092995\n",
            " -0.07295798  0.31890872  0.42281214 -0.2672844  -0.02893627 -0.00750387\n",
            "  0.26162562  0.28167762]\n"
          ],
          "name": "stdout"
        }
      ]
    },
    {
      "metadata": {
        "id": "LPQFZoTOrrdJ",
        "colab_type": "code",
        "outputId": "821009e0-6b30-4751-d7d6-3230d501ae8f",
        "colab": {
          "base_uri": "https://localhost:8080/",
          "height": 204
        }
      },
      "cell_type": "code",
      "source": [
        "#cv data\n",
        "sent_vectors_cv = []; # the avg-w2v for each sentence/review is stored in this test\n",
        "for sent in list_of_sent_cv: # for each review/sentence\n",
        "    sent_vec = np.zeros(50) # as word vectors are of zero length\n",
        "    cnt_words =0; # num of words with a valid vector in the sentence/review\n",
        "    for word in sent: # for each word in a review/sentence\n",
        "      if word in w2v_words:\n",
        "        vec = w2v_model.wv[word]\n",
        "        sent_vec += vec\n",
        "        cnt_words += 1\n",
        "    if cnt_words != 0:\n",
        "        sent_vec /= cnt_words\n",
        "    sent_vectors_cv.append(sent_vec)\n",
        "print (len(sent_vectors_cv))\n",
        "print (len(sent_vectors_cv[0]))\n",
        "print (sent_vectors_cv[0])"
      ],
      "execution_count": 37,
      "outputs": [
        {
          "output_type": "stream",
          "text": [
            "2000\n",
            "50\n",
            "[-0.11506117  0.03697557  0.38389382  0.20394053  0.16599111  0.01921476\n",
            " -0.39480661 -0.19276667  0.03877799  0.19163031 -0.82590904  0.24100639\n",
            "  0.05874299  0.50171781 -0.16481598  0.36166711 -0.53578268  0.45535518\n",
            "  0.3487809  -0.08213433 -0.03801361 -0.22669842 -0.63709749 -0.23386939\n",
            "  0.00416087  0.07147069 -0.66097269 -0.00295605 -0.33288088 -0.56098518\n",
            " -0.30418819  0.55681513  0.66098451 -0.18902001  0.09587804 -0.19500306\n",
            "  0.19335874 -0.12522466  0.96838344 -0.18438177  0.25766709 -0.25785992\n",
            " -0.00221423  0.49825745  0.18847725 -0.37013166  0.15785538 -0.09851914\n",
            "  0.1894895   0.33269256]\n"
          ],
          "name": "stdout"
        }
      ]
    },
    {
      "metadata": {
        "id": "lhmOU6S_sD2C",
        "colab_type": "code",
        "outputId": "d7b285b6-b87d-44c6-cf21-cf0ed046e260",
        "colab": {
          "base_uri": "https://localhost:8080/",
          "height": 204
        }
      },
      "cell_type": "code",
      "source": [
        "#test data\n",
        "sent_vectors_test = []; # the avg-w2v for each sentence/review is stored in this test\n",
        "for sent in list_of_sent_test: # for each review/sentence\n",
        "    sent_vec = np.zeros(50) # as word vectors are of zero length\n",
        "    cnt_words =0; # num of words with a valid vector in the sentence/review\n",
        "    for word in sent: # for each word in a review/sentence\n",
        "        try:\n",
        "            vec = w2v_model.wv[word]\n",
        "            sent_vec += vec\n",
        "            cnt_words += 1\n",
        "        except:\n",
        "            pass\n",
        "    sent_vec /= cnt_words\n",
        "    sent_vectors_test.append(sent_vec)\n",
        "    \n",
        "print (len(sent_vectors_test))\n",
        "print (len(sent_vectors_test[0]))\n",
        "print (sent_vectors_test[0])"
      ],
      "execution_count": 38,
      "outputs": [
        {
          "output_type": "stream",
          "text": [
            "2000\n",
            "50\n",
            "[-0.06241789 -0.080675    0.41396001  0.29841832  0.15331002  0.04628588\n",
            " -0.32013352 -0.20997566 -0.01493591  0.11570258 -0.59095525  0.14567367\n",
            "  0.03995958  0.40593419 -0.00859472  0.33234925 -0.70057276  0.44520131\n",
            "  0.30838994  0.00667427  0.00607884 -0.05636609 -0.65458139 -0.27453275\n",
            " -0.06115656  0.10285317 -0.57416795 -0.00457613 -0.33587821 -0.61892363\n",
            " -0.39616043  0.41613896  0.70232341 -0.31069726  0.07503797 -0.21832504\n",
            "  0.2908604  -0.25319249  0.80080444 -0.27518648  0.29326626 -0.20831358\n",
            " -0.02951719  0.38664039  0.32444438 -0.32233076  0.06968842  0.01475471\n",
            "  0.23433724  0.36840273]\n"
          ],
          "name": "stdout"
        }
      ]
    },
    {
      "metadata": {
        "id": "eM1qZPjouPFB",
        "colab_type": "code",
        "colab": {}
      },
      "cell_type": "code",
      "source": [
        " "
      ],
      "execution_count": 0,
      "outputs": []
    },
    {
      "metadata": {
        "id": "LadtP_PCs3rH",
        "colab_type": "code",
        "outputId": "b3030340-44a8-45c8-9ac7-97b87d622800",
        "colab": {
          "base_uri": "https://localhost:8080/",
          "height": 54
        }
      },
      "cell_type": "code",
      "source": [
        "# finding optimal K using 'brute' algorithm \n",
        "f1 = list()\n",
        "n = np.arange(1,50,2)\n",
        "for i in n:\n",
        "    knn = KNeighborsClassifier(n_neighbors = i , algorithm='brute')\n",
        "    knn.fit(sent_vectors_train , y_train)\n",
        "    pred = knn.predict(sent_vectors_cv)\n",
        "    score = f1_score(y_cv, pred) \n",
        "    f1.append(score)\n",
        "    \n",
        "\n",
        "print (f1)  "
      ],
      "execution_count": 39,
      "outputs": [
        {
          "output_type": "stream",
          "text": [
            "[0.8362978595116068, 0.8734177215189874, 0.8848108413325804, 0.8926174496644296, 0.8964365256124721, 0.897642163661581, 0.8983097811027986, 0.897563676633444, 0.89908764169201, 0.9005524861878452, 0.8995030369961348, 0.8998067899530776, 0.9007717750826901, 0.9002754820936639, 0.9002754820936639, 0.9002754820936639, 0.9000275406224181, 0.8997797356828194, 0.8997797356828194, 0.9000825763831544, 0.8998348926802422, 0.8995873452544705, 0.8995873452544705, 0.8995873452544705, 0.8995873452544705]\n"
          ],
          "name": "stdout"
        }
      ]
    },
    {
      "metadata": {
        "id": "aYqbqfG7tWkt",
        "colab_type": "code",
        "outputId": "9ddd3f47-dc1c-413a-a5e8-f2e5d6e18ece",
        "colab": {
          "base_uri": "https://localhost:8080/",
          "height": 294
        }
      },
      "cell_type": "code",
      "source": [
        "n_neighbour = np.arange(1,50,2)\n",
        "#plotting f1_score and neighbours \n",
        "plt.plot(n_neighbour, f1,'-')\n",
        "plt.xlabel('n_neighbours')\n",
        "plt.ylabel('f1_score')\n",
        "plt.title('f1_score v n_neighbours')\n",
        "plt.grid(True)\n",
        "plt.show()"
      ],
      "execution_count": 40,
      "outputs": [
        {
          "output_type": "display_data",
          "data": {
            "image/png": "[encoded data removed]",
            "text/plain": [
              "<matplotlib.figure.Figure at 0x7f21d5968e48>"
            ]
          },
          "metadata": {
            "tags": []
          }
        }
      ]
    },
    {
      "metadata": {
        "id": "xSZCa7Zk6bEt",
        "colab_type": "code",
        "colab": {
          "base_uri": "https://localhost:8080/",
          "height": 34
        },
        "outputId": "171dce93-e074-4fe6-b548-61bec8b733cb"
      },
      "cell_type": "code",
      "source": [
        "import numpy as np\n",
        "ind = np.argmax(f1)\n",
        "print ('number of neighbours :',n[ind] )"
      ],
      "execution_count": 41,
      "outputs": [
        {
          "output_type": "stream",
          "text": [
            "number of neighbours : 25\n"
          ],
          "name": "stdout"
        }
      ]
    },
    {
      "metadata": {
        "id": "zNbNcrKNxTg_",
        "colab_type": "code",
        "outputId": "a0b30ba7-da3b-4b9d-fe9f-9d3c0234fb32",
        "colab": {
          "base_uri": "https://localhost:8080/",
          "height": 51
        }
      },
      "cell_type": "code",
      "source": [
        "# calculating model accuracy , f1_score on test data\n",
        "from sklearn.metrics import accuracy_score\n",
        "\n",
        "knn = KNeighborsClassifier(n_neighbors = n[ind] , algorithm='brute')\n",
        "knn.fit(sent_vectors_train  , y_train)\n",
        "pred = knn.predict(sent_vectors_test )\n",
        "score = f1_score(y_test, pred) \n",
        "print (\"f1-score:\", score)\n",
        "acc= accuracy_score(y_test, pred)\n",
        "print ('accuracy:',acc)"
      ],
      "execution_count": 42,
      "outputs": [
        {
          "output_type": "stream",
          "text": [
            "f1-score: 0.9090412455613219\n",
            "accuracy: 0.8335\n"
          ],
          "name": "stdout"
        }
      ]
    },
    {
      "metadata": {
        "id": "5Bdyie60zaEY",
        "colab_type": "code",
        "outputId": "da5385f4-d21b-4f8b-952c-9f723defc30b",
        "colab": {
          "base_uri": "https://localhost:8080/",
          "height": 54
        }
      },
      "cell_type": "code",
      "source": [
        "# finding optimal K using 'kd_tree' algorithm \n",
        "f1 = list()\n",
        "n = np.arange(1,50,2)\n",
        "for i in n:\n",
        "    knn = KNeighborsClassifier(n_neighbors = i , algorithm='kd_tree')\n",
        "    knn.fit(sent_vectors_train , y_train)\n",
        "    pred = knn.predict(sent_vectors_cv)\n",
        "    score = f1_score(y_cv, pred) \n",
        "    f1.append(score)\n",
        "    \n",
        "\n",
        "    \n",
        "print (f1) "
      ],
      "execution_count": 43,
      "outputs": [
        {
          "output_type": "stream",
          "text": [
            "[0.8362978595116068, 0.8734177215189874, 0.8848108413325804, 0.8926174496644296, 0.8964365256124721, 0.897642163661581, 0.8983097811027986, 0.897563676633444, 0.89908764169201, 0.9005524861878452, 0.8995030369961348, 0.8998067899530776, 0.9007717750826901, 0.9002754820936639, 0.9002754820936639, 0.9002754820936639, 0.9000275406224181, 0.8997797356828194, 0.8997797356828194, 0.9000825763831544, 0.8998348926802422, 0.8995873452544705, 0.8995873452544705, 0.8995873452544705, 0.8995873452544705]\n"
          ],
          "name": "stdout"
        }
      ]
    },
    {
      "metadata": {
        "id": "A16URND1zaP_",
        "colab_type": "code",
        "outputId": "2c940a15-1ec9-4690-a4cc-ccc61c38f48a",
        "colab": {
          "base_uri": "https://localhost:8080/",
          "height": 294
        }
      },
      "cell_type": "code",
      "source": [
        "n_neighbour = np.arange(1,50,2)\n",
        "#plotting f1_score and neighbours \n",
        "plt.plot(n_neighbour, f1,'-')\n",
        "plt.xlabel('n_neighbours')\n",
        "plt.ylabel('f1_score')\n",
        "plt.title('f1_score v n_neighbours')\n",
        "plt.grid(True)\n",
        "plt.show()"
      ],
      "execution_count": 44,
      "outputs": [
        {
          "output_type": "display_data",
          "data": {
            "image/png": "[encoded data removed]",
            "text/plain": [
              "<matplotlib.figure.Figure at 0x7f21d8629a20>"
            ]
          },
          "metadata": {
            "tags": []
          }
        }
      ]
    },
    {
      "metadata": {
        "id": "UXbFNDbO7pal",
        "colab_type": "code",
        "colab": {
          "base_uri": "https://localhost:8080/",
          "height": 34
        },
        "outputId": "b1a2fa32-fe0a-4a9d-b5ee-38f07ccad814"
      },
      "cell_type": "code",
      "source": [
        "import numpy as np\n",
        "ind = np.argmax(f1)\n",
        "print ('number of neighbours :',n[ind] )"
      ],
      "execution_count": 45,
      "outputs": [
        {
          "output_type": "stream",
          "text": [
            "number of neighbours : 25\n"
          ],
          "name": "stdout"
        }
      ]
    },
    {
      "metadata": {
        "id": "oJVhtQJGzvIt",
        "colab_type": "code",
        "outputId": "562e9a14-70c1-4735-d6e7-bfb838bc01b6",
        "colab": {
          "base_uri": "https://localhost:8080/",
          "height": 51
        }
      },
      "cell_type": "code",
      "source": [
        "# calculating model accuracy , f1_score on test data \n",
        "from sklearn.metrics import accuracy_score\n",
        "\n",
        "knn = KNeighborsClassifier(n_neighbors = n[ind] , algorithm='kd_tree')\n",
        "knn.fit(sent_vectors_train  , y_train)\n",
        "pred = knn.predict(sent_vectors_test )\n",
        "score = f1_score(y_test, pred) \n",
        "print (\"f1-score:\", score)\n",
        "acc= accuracy_score(y_test, pred)\n",
        "print ('accuracy:',acc)"
      ],
      "execution_count": 46,
      "outputs": [
        {
          "output_type": "stream",
          "text": [
            "f1-score: 0.9090412455613219\n",
            "accuracy: 0.8335\n"
          ],
          "name": "stdout"
        }
      ]
    },
    {
      "metadata": {
        "id": "4ycSw2wsKy5m",
        "colab_type": "text"
      },
      "cell_type": "markdown",
      "source": [
        "# tfidf W2V"
      ]
    },
    {
      "metadata": {
        "id": "F7jyggWwx7dg",
        "colab_type": "code",
        "outputId": "b149ba05-581d-4286-8ef3-f9187249c0b2",
        "colab": {
          "base_uri": "https://localhost:8080/",
          "height": 204
        }
      },
      "cell_type": "code",
      "source": [
        "#tfidf w2v\n",
        "tf_idf_vect = TfidfVectorizer()\n",
        "tf_idf_train = tf_idf_vect.fit_transform(X_train.values)\n",
        "tfidf_feat = tf_idf_vect.get_feature_names() # tfidf words/col-names\n",
        "\n",
        "\n",
        "tfidf_sent_vectors_train = []; # the tfidf-w2v for each sentence/review is stored in this list\n",
        "row=0;\n",
        "for sent in list_of_sent_train: # for each review/sentence \n",
        "    sent_vec = np.zeros(50) # as word vectors are of zero length\n",
        "    weight_sum =0; # num of words with a valid vector in the sentence/review\n",
        "    for word in sent: # for each word in a review/sentence\n",
        "        if word in w2v_words:\n",
        "            vec = w2v_model.wv[word]\n",
        "            # obtain the tf_idfidf of a word in a sentence/review\n",
        "            tf_idf = tf_idf_train[row, tfidf_feat.index(word)]\n",
        "            sent_vec += (vec * tf_idf)\n",
        "            weight_sum += tf_idf\n",
        "    if weight_sum != 0:\n",
        "        sent_vec /= weight_sum\n",
        "    tfidf_sent_vectors_train.append(sent_vec)\n",
        "    row += 1\n",
        "    \n",
        "print (len(tfidf_sent_vectors_train))\n",
        "print (len(tfidf_sent_vectors_train[0]))\n",
        "print (tfidf_sent_vectors_train[0])"
      ],
      "execution_count": 47,
      "outputs": [
        {
          "output_type": "stream",
          "text": [
            "6000\n",
            "50\n",
            "[-0.04679006 -0.14883464  0.34613141  0.30959535  0.06517017 -0.00308982\n",
            " -0.22089713 -0.25110909 -0.0416645   0.070664   -0.29125628  0.14478776\n",
            " -0.0099245   0.16629197  0.06331391  0.28034069 -0.66010862  0.37647498\n",
            "  0.26901624  0.1264879   0.02600085  0.09116642 -0.59717938 -0.27787701\n",
            " -0.09691906  0.03020048 -0.36734851  0.01835675 -0.25001567 -0.517712\n",
            " -0.32231444  0.25281367  0.6269148  -0.37098864  0.08802445 -0.1425333\n",
            "  0.31197658 -0.28991477  0.50990934 -0.22072312  0.28981713 -0.15353506\n",
            " -0.04944271  0.28942073  0.37927931 -0.25818429 -0.01020453 -0.01882986\n",
            "  0.24302206  0.26153258]\n"
          ],
          "name": "stdout"
        }
      ]
    },
    {
      "metadata": {
        "id": "b08XQEH8ybwd",
        "colab_type": "code",
        "outputId": "c405eb06-39ee-4d47-ae89-9601ec9b3e3f",
        "colab": {
          "base_uri": "https://localhost:8080/",
          "height": 204
        }
      },
      "cell_type": "code",
      "source": [
        "# cv data\n",
        "tf_idf_cv = tf_idf_vect.transform(X_cv.values)\n",
        "tfidf_sent_vectors_cv = []; # the tfidf-w2v for each sentence/review is stored in this list\n",
        "row=0;\n",
        "for sent in list_of_sent_cv: # for each review/sentence \n",
        "    sent_vec = np.zeros(50) # as word vectors are of zero length\n",
        "    weight_sum =0; # num of words with a valid vector in the sentence/review\n",
        "    for word in sent: # for each word in a review/sentence\n",
        "        if word in w2v_words:\n",
        "            vec = w2v_model.wv[word]\n",
        "            # obtain the tf_idfidf of a word in a sentence/review\n",
        "            tf_idf = tf_idf_cv[row, tfidf_feat.index(word)]\n",
        "            sent_vec += (vec * tf_idf)\n",
        "            weight_sum += tf_idf\n",
        "    if weight_sum != 0:\n",
        "        sent_vec /= weight_sum\n",
        "    tfidf_sent_vectors_cv.append(sent_vec)\n",
        "    row += 1\n",
        "\n",
        "print (len(tfidf_sent_vectors_cv))\n",
        "print (len(tfidf_sent_vectors_cv[0]))\n",
        "print (tfidf_sent_vectors_cv[0])"
      ],
      "execution_count": 48,
      "outputs": [
        {
          "output_type": "stream",
          "text": [
            "2000\n",
            "50\n",
            "[-0.09383772 -0.01334725  0.36062927  0.21266969  0.14282606  0.03630354\n",
            " -0.3291892  -0.17334224  0.03614836  0.15270527 -0.70254536  0.18987721\n",
            "  0.05162052  0.43959767 -0.10740374  0.34244613 -0.53686441  0.43112654\n",
            "  0.28634881 -0.03964813 -0.02500922 -0.16598533 -0.57725591 -0.24057093\n",
            " -0.01818778  0.07698468 -0.59392913  0.00425091 -0.32559292 -0.54155816\n",
            " -0.31770382  0.45200997  0.64481287 -0.21249996  0.07703746 -0.20367533\n",
            "  0.18345935 -0.15799571  0.85695211 -0.17639197  0.25396962 -0.22998187\n",
            " -0.018304    0.42209186  0.21199435 -0.32694762  0.12182577 -0.07733689\n",
            "  0.20307635  0.30017977]\n"
          ],
          "name": "stdout"
        }
      ]
    },
    {
      "metadata": {
        "id": "Z8tZtsPAywGx",
        "colab_type": "code",
        "outputId": "ef8aa854-9743-4e30-d3a4-9d295b642841",
        "colab": {
          "base_uri": "https://localhost:8080/",
          "height": 204
        }
      },
      "cell_type": "code",
      "source": [
        "# test data\n",
        "tf_idf_test = tf_idf_vect.transform(X_test.values)\n",
        "tfidf_sent_vectors_test = []; # the tfidf-w2v for each sentence/review is stored in this list\n",
        "row=0;\n",
        "for sent in list_of_sent_test: # for each review/sentence \n",
        "    sent_vec = np.zeros(50) # as word vectors are of zero length\n",
        "    weight_sum =0; # num of words with a valid vector in the sentence/review\n",
        "    for word in sent: # for each word in a review/sentence\n",
        "        if word in w2v_words:\n",
        "            vec = w2v_model.wv[word]\n",
        "            # obtain the tf_idfidf of a word in a sentence/review\n",
        "            tf_idf = tf_idf_test[row, tfidf_feat.index(word)]\n",
        "            sent_vec += (vec * tf_idf)\n",
        "            weight_sum += tf_idf\n",
        "    if weight_sum != 0:\n",
        "        sent_vec /= weight_sum\n",
        "    tfidf_sent_vectors_test.append(sent_vec)\n",
        "    row += 1\n",
        "\n",
        "print (len(tfidf_sent_vectors_test))\n",
        "print (len(tfidf_sent_vectors_test[0]))\n",
        "print (tfidf_sent_vectors_test[0])"
      ],
      "execution_count": 49,
      "outputs": [
        {
          "output_type": "stream",
          "text": [
            "2000\n",
            "50\n",
            "[-0.06985212 -0.07784263  0.37947312  0.27592122  0.13089242  0.02903176\n",
            " -0.28434244 -0.19346781 -0.02265782  0.11485602 -0.53257408  0.14095113\n",
            "  0.02933211  0.35196331 -0.01347957  0.31143961 -0.62874495  0.40074716\n",
            "  0.28728011  0.02037082  0.00247005 -0.04378766 -0.59816576 -0.26122866\n",
            " -0.0578637   0.08432087 -0.52198041  0.00362639 -0.31346895 -0.56558674\n",
            " -0.35483583  0.38263067  0.6442337  -0.29614455  0.08117217 -0.18839516\n",
            "  0.27761755 -0.23783259  0.72765807 -0.23755995  0.2757672  -0.18601304\n",
            " -0.02345375  0.35663027  0.30521937 -0.30577776  0.06793067 -0.00796746\n",
            "  0.22225271  0.33063409]\n"
          ],
          "name": "stdout"
        }
      ]
    },
    {
      "metadata": {
        "id": "vXgPzzO_zBU1",
        "colab_type": "code",
        "outputId": "69e6bf2c-ff75-4f5d-dcca-fcde28a6ee5c",
        "colab": {
          "base_uri": "https://localhost:8080/",
          "height": 54
        }
      },
      "cell_type": "code",
      "source": [
        "# finding optimal K using 'brute' algorithm \n",
        "f1 = list()\n",
        "n = np.arange(1,50,2)\n",
        "for i in n:\n",
        "    knn = KNeighborsClassifier(n_neighbors = i , algorithm='brute')\n",
        "    knn.fit(tfidf_sent_vectors_train , y_train)\n",
        "    pred = knn.predict(tfidf_sent_vectors_cv)\n",
        "    score = f1_score(y_cv, pred) \n",
        "    f1.append(score)\n",
        "    \n",
        "\n",
        "print (f1)  "
      ],
      "execution_count": 50,
      "outputs": [
        {
          "output_type": "stream",
          "text": [
            "[0.8383017163504969, 0.8679354094579007, 0.8837340876944838, 0.888951205832866, 0.8933444722918408, 0.8962839711591792, 0.8976203652462644, 0.899751449875725, 0.8998067899530776, 0.9001103752759383, 0.8998620689655172, 0.9002205071664828, 0.8999172870140613, 0.8997797356828194, 0.8997797356828194, 0.8997797356828194, 0.8997797356828194, 0.8997797356828194, 0.8995320671621251, 0.8998348926802422, 0.8998348926802422, 0.8995873452544705, 0.8995873452544705, 0.8995873452544705, 0.8995873452544705]\n"
          ],
          "name": "stdout"
        }
      ]
    },
    {
      "metadata": {
        "id": "WRRx5y5d19NB",
        "colab_type": "code",
        "outputId": "37184f27-18d4-4096-da1c-a4f48b9ee0e0",
        "colab": {
          "base_uri": "https://localhost:8080/",
          "height": 294
        }
      },
      "cell_type": "code",
      "source": [
        "n_neighbour = np.arange(1,50,2)\n",
        "#plotting f1_score and neighbours \n",
        "plt.plot(n_neighbour, f1,'-')\n",
        "plt.xlabel('n_neighbours')\n",
        "plt.ylabel('f1_score')\n",
        "plt.title('f1_score v n_neighbours')\n",
        "plt.grid(True)\n",
        "plt.show()"
      ],
      "execution_count": 51,
      "outputs": [
        {
          "output_type": "display_data",
          "data": {
            "image/png": "[encoded data removed]",
            "text/plain": [
              "<matplotlib.figure.Figure at 0x7f21d5763400>"
            ]
          },
          "metadata": {
            "tags": []
          }
        }
      ]
    },
    {
      "metadata": {
        "id": "9f3oBUBx8fz1",
        "colab_type": "code",
        "colab": {
          "base_uri": "https://localhost:8080/",
          "height": 34
        },
        "outputId": "0de123a1-3d2c-4a29-a5f1-5a6e1e1e6496"
      },
      "cell_type": "code",
      "source": [
        "import numpy as np\n",
        "ind = np.argmax(f1)\n",
        "print ('number of neighbours :',n[ind] )"
      ],
      "execution_count": 52,
      "outputs": [
        {
          "output_type": "stream",
          "text": [
            "number of neighbours : 23\n"
          ],
          "name": "stdout"
        }
      ]
    },
    {
      "metadata": {
        "id": "gMhMSUPZ2E3Z",
        "colab_type": "code",
        "outputId": "f4c92222-c123-4097-dbe1-7cb763a609d7",
        "colab": {
          "base_uri": "https://localhost:8080/",
          "height": 51
        }
      },
      "cell_type": "code",
      "source": [
        "# calculating model accuracy , f1_score on test data\n",
        "from sklearn.metrics import accuracy_score\n",
        "\n",
        "knn = KNeighborsClassifier(n_neighbors = n[ind] , algorithm='brute')\n",
        "knn.fit(tfidf_sent_vectors_train  , y_train)\n",
        "pred = knn.predict(tfidf_sent_vectors_test )\n",
        "score = f1_score(y_test, pred) \n",
        "print (\"f1-score:\", score)\n",
        "acc= accuracy_score(y_test, pred)\n",
        "print ('accuracy:',acc)"
      ],
      "execution_count": 53,
      "outputs": [
        {
          "output_type": "stream",
          "text": [
            "f1-score: 0.9088427947598253\n",
            "accuracy: 0.833\n"
          ],
          "name": "stdout"
        }
      ]
    },
    {
      "metadata": {
        "id": "d5Fg4K882loS",
        "colab_type": "code",
        "outputId": "801f149c-7a62-4ff2-88ee-378b51f292b6",
        "colab": {
          "base_uri": "https://localhost:8080/",
          "height": 54
        }
      },
      "cell_type": "code",
      "source": [
        "# finding optimal K using 'kd-tree' algorithm \n",
        "f1 = list()\n",
        "n = np.arange(1,50,2)\n",
        "for i in n:\n",
        "    knn = KNeighborsClassifier(n_neighbors = i , algorithm='kd_tree')\n",
        "    knn.fit(tfidf_sent_vectors_train , y_train)\n",
        "    pred = knn.predict(tfidf_sent_vectors_cv)\n",
        "    score = f1_score(y_cv, pred) \n",
        "    f1.append(score)\n",
        "    \n",
        "\n",
        "print (f1)  "
      ],
      "execution_count": 54,
      "outputs": [
        {
          "output_type": "stream",
          "text": [
            "[0.8383017163504969, 0.8679354094579007, 0.8837340876944838, 0.888951205832866, 0.8933444722918408, 0.8962839711591792, 0.8976203652462644, 0.899751449875725, 0.8998067899530776, 0.9001103752759383, 0.8998620689655172, 0.9002205071664828, 0.8999172870140613, 0.8997797356828194, 0.8997797356828194, 0.8997797356828194, 0.8997797356828194, 0.8997797356828194, 0.8995320671621251, 0.8998348926802422, 0.8998348926802422, 0.8995873452544705, 0.8995873452544705, 0.8995873452544705, 0.8995873452544705]\n"
          ],
          "name": "stdout"
        }
      ]
    },
    {
      "metadata": {
        "id": "qMO0_r832iPL",
        "colab_type": "code",
        "outputId": "7630f608-6676-4c29-e2c4-b87397809886",
        "colab": {
          "base_uri": "https://localhost:8080/",
          "height": 294
        }
      },
      "cell_type": "code",
      "source": [
        "n_neighbour = np.arange(1,50,2)\n",
        "#plotting f1_score and neighbours \n",
        "plt.plot(n_neighbour, f1,'-')\n",
        "plt.xlabel('n_neighbours')\n",
        "plt.ylabel('f1_score')\n",
        "plt.title('f1_score v n_neighbours')\n",
        "plt.grid(True)\n",
        "plt.show()"
      ],
      "execution_count": 55,
      "outputs": [
        {
          "output_type": "display_data",
          "data": {
            "image/png": "[encoded data removed]",
            "text/plain": [
              "<matplotlib.figure.Figure at 0x7f21d55d8dd8>"
            ]
          },
          "metadata": {
            "tags": []
          }
        }
      ]
    },
    {
      "metadata": {
        "id": "bLllPyjV9E2_",
        "colab_type": "code",
        "colab": {
          "base_uri": "https://localhost:8080/",
          "height": 34
        },
        "outputId": "1d1019f5-ee1e-4c80-e646-8f6a04d66fd5"
      },
      "cell_type": "code",
      "source": [
        "import numpy as np\n",
        "ind = np.argmax(f1)\n",
        "print ('number of neighbours :',n[ind] )"
      ],
      "execution_count": 56,
      "outputs": [
        {
          "output_type": "stream",
          "text": [
            "number of neighbours : 23\n"
          ],
          "name": "stdout"
        }
      ]
    },
    {
      "metadata": {
        "id": "gvhK9Mzj2ecC",
        "colab_type": "code",
        "outputId": "0b897137-2ae7-4bcd-886f-6c17364ee81b",
        "colab": {
          "base_uri": "https://localhost:8080/",
          "height": 51
        }
      },
      "cell_type": "code",
      "source": [
        "# calculating model accuracy , f1_score on test data\n",
        "from sklearn.metrics import accuracy_score\n",
        "\n",
        "knn = KNeighborsClassifier(n_neighbors = n[ind] , algorithm='kd_tree')\n",
        "knn.fit(tfidf_sent_vectors_train  , y_train)\n",
        "pred = knn.predict(tfidf_sent_vectors_test )\n",
        "score = f1_score(y_test, pred) \n",
        "print (\"f1-score:\", score)\n",
        "acc= accuracy_score(y_test, pred)\n",
        "print ('accuracy:',acc)"
      ],
      "execution_count": 57,
      "outputs": [
        {
          "output_type": "stream",
          "text": [
            "f1-score: 0.9088427947598253\n",
            "accuracy: 0.833\n"
          ],
          "name": "stdout"
        }
      ]
    },
    {
      "metadata": {
        "id": "KGFAUWjL26dp",
        "colab_type": "code",
        "colab": {
          "base_uri": "https://localhost:8080/",
          "height": 173
        },
        "outputId": "d079b8c2-2b5c-4289-ebeb-e4acfd730c5e"
      },
      "cell_type": "code",
      "source": [
        "! pip install PTable\n",
        "from prettytable import PrettyTable"
      ],
      "execution_count": 59,
      "outputs": [
        {
          "output_type": "stream",
          "text": [
            "Collecting PTable\n",
            "  Downloading https://files.pythonhosted.org/packages/ab/b3/b54301811173ca94119eb474634f120a49cd370f257d1aae5a4abaf12729/PTable-0.9.2.tar.gz\n",
            "Building wheels for collected packages: PTable\n",
            "  Running setup.py bdist_wheel for PTable ... \u001b[?25l-\b \bdone\n",
            "\u001b[?25h  Stored in directory: /root/.cache/pip/wheels/22/cc/2e/55980bfe86393df3e9896146a01f6802978d09d7ebcba5ea56\n",
            "Successfully built PTable\n",
            "Installing collected packages: PTable\n",
            "Successfully installed PTable-0.9.2\n"
          ],
          "name": "stdout"
        }
      ]
    },
    {
      "metadata": {
        "id": "fu9amRxRGtq8",
        "colab_type": "code",
        "colab": {
          "base_uri": "https://localhost:8080/",
          "height": 221
        },
        "outputId": "748b3d8e-f677-4d36-ee10-626eeba6f840"
      },
      "cell_type": "code",
      "source": [
        "x = PrettyTable()\n",
        "\n",
        "x.field_names = [\"Vectorizer\", \"Algorithm\", \"Hyper-parameter\", \"f1_score\"]\n",
        "\n",
        "x.add_row([\"BOW\",\"brute\", 9, 0.909])\n",
        "x.add_row([\"BOW\",\"kd-tree\", 15, 0.910])\n",
        "x.add_row([\"tfidf\",\"brute\", 7, 0.915])\n",
        "x.add_row([\"tfidf\",\"kd-tree\", 7, 0.914])\n",
        "x.add_row([\"avg-w2v\",\"brute\", 25, 0.909])\n",
        "x.add_row([\"avg-w2v\",\"kd-tree\", 25, 0.909])\n",
        "x.add_row([\"tfidf-w2v\",\"brute\", 23, 0.908])\n",
        "x.add_row([\"tfidf-w2v\",\"kd-tree\", 23, 0.908])\n",
        "\n",
        "print(x)"
      ],
      "execution_count": 60,
      "outputs": [
        {
          "output_type": "stream",
          "text": [
            "+------------+-----------+-----------------+----------+\n",
            "| Vectorizer | Algorithm | Hyper-parameter | f1_score |\n",
            "+------------+-----------+-----------------+----------+\n",
            "|    BOW     |   brute   |        9        |  0.909   |\n",
            "|    BOW     |  kd-tree  |        15       |   0.91   |\n",
            "|   tfidf    |   brute   |        7        |  0.915   |\n",
            "|   tfidf    |  kd-tree  |        7        |  0.914   |\n",
            "|  avg-w2v   |   brute   |        25       |  0.909   |\n",
            "|  avg-w2v   |  kd-tree  |        25       |  0.909   |\n",
            "| tfidf-w2v  |   brute   |        23       |  0.908   |\n",
            "| tfidf-w2v  |  kd-tree  |        23       |  0.908   |\n",
            "+------------+-----------+-----------------+----------+\n"
          ],
          "name": "stdout"
        }
      ]
    },
    {
      "metadata": {
        "id": "FmHhDtstJrWc",
        "colab_type": "code",
        "colab": {}
      },
      "cell_type": "code",
      "source": [
        ""
      ],
      "execution_count": 0,
      "outputs": []
    }
  ]
}