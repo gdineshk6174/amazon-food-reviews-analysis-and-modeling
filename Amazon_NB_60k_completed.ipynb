{
  "nbformat": 4,
  "nbformat_minor": 0,
  "metadata": {
    "colab": {
      "name": "Amazon_NB_60k.ipynb",
      "version": "0.3.2",
      "provenance": [],
      "collapsed_sections": []
    },
    "kernelspec": {
      "name": "python3",
      "display_name": "Python 3"
    }
  },
  "cells": [
    {
      "metadata": {
        "id": "y6lYbEmzpWwY",
        "colab_type": "code",
        "colab": {}
      },
      "cell_type": "code",
      "source": [
        "%matplotlib inline\n",
        "import warnings\n",
        "warnings.filterwarnings(\"ignore\")\n",
        "\n",
        "import sqlite3\n",
        "import pandas as pd\n",
        "import numpy as np\n",
        "import nltk\n",
        "import string\n",
        "import matplotlib.pyplot as plt\n",
        "import seaborn as sns\n",
        "from sklearn.feature_extraction.text import TfidfTransformer\n",
        "from sklearn.feature_extraction.text import TfidfVectorizer\n",
        "\n",
        "from sklearn.feature_extraction.text import CountVectorizer\n",
        "from sklearn.metrics import confusion_matrix\n",
        "from sklearn import metrics\n",
        "from sklearn.metrics import roc_curve, auc\n",
        "from nltk.stem.porter import PorterStemmer\n",
        "\n",
        "import re\n",
        "import string\n",
        "from nltk.corpus import stopwords\n",
        "from nltk.stem import PorterStemmer\n",
        "from nltk.stem.wordnet import WordNetLemmatizer\n",
        "\n",
        "\n"
      ],
      "execution_count": 0,
      "outputs": []
    },
    {
      "metadata": {
        "id": "WUvXXamPGfjH",
        "colab_type": "code",
        "outputId": "7471e5a7-c957-42e5-964c-31244d00c5ae",
        "colab": {
          "base_uri": "https://localhost:8080/",
          "height": 343
        }
      },
      "cell_type": "code",
      "source": [
        "!pip install gensim\n",
        "\n",
        "from gensim.models import Word2Vec\n",
        "from gensim.models import KeyedVectors\n",
        "import pickle"
      ],
      "execution_count": 0,
      "outputs": [
        {
          "output_type": "stream",
          "text": [
            "Requirement already satisfied: gensim in /usr/local/lib/python3.6/dist-packages (3.6.0)\n",
            "Requirement already satisfied: smart-open>=1.2.1 in /usr/local/lib/python3.6/dist-packages (from gensim) (1.7.1)\n",
            "Requirement already satisfied: scipy>=0.18.1 in /usr/local/lib/python3.6/dist-packages (from gensim) (1.1.0)\n",
            "Requirement already satisfied: six>=1.5.0 in /usr/local/lib/python3.6/dist-packages (from gensim) (1.11.0)\n",
            "Requirement already satisfied: numpy>=1.11.3 in /usr/local/lib/python3.6/dist-packages (from gensim) (1.14.6)\n",
            "Requirement already satisfied: boto>=2.32 in /usr/local/lib/python3.6/dist-packages (from smart-open>=1.2.1->gensim) (2.49.0)\n",
            "Requirement already satisfied: bz2file in /usr/local/lib/python3.6/dist-packages (from smart-open>=1.2.1->gensim) (0.98)\n",
            "Requirement already satisfied: requests in /usr/local/lib/python3.6/dist-packages (from smart-open>=1.2.1->gensim) (2.18.4)\n",
            "Requirement already satisfied: boto3 in /usr/local/lib/python3.6/dist-packages (from smart-open>=1.2.1->gensim) (1.9.64)\n",
            "Requirement already satisfied: chardet<3.1.0,>=3.0.2 in /usr/local/lib/python3.6/dist-packages (from requests->smart-open>=1.2.1->gensim) (3.0.4)\n",
            "Requirement already satisfied: idna<2.7,>=2.5 in /usr/local/lib/python3.6/dist-packages (from requests->smart-open>=1.2.1->gensim) (2.6)\n",
            "Requirement already satisfied: urllib3<1.23,>=1.21.1 in /usr/local/lib/python3.6/dist-packages (from requests->smart-open>=1.2.1->gensim) (1.22)\n",
            "Requirement already satisfied: certifi>=2017.4.17 in /usr/local/lib/python3.6/dist-packages (from requests->smart-open>=1.2.1->gensim) (2018.11.29)\n",
            "Requirement already satisfied: s3transfer<0.2.0,>=0.1.10 in /usr/local/lib/python3.6/dist-packages (from boto3->smart-open>=1.2.1->gensim) (0.1.13)\n",
            "Requirement already satisfied: jmespath<1.0.0,>=0.7.1 in /usr/local/lib/python3.6/dist-packages (from boto3->smart-open>=1.2.1->gensim) (0.9.3)\n",
            "Requirement already satisfied: botocore<1.13.0,>=1.12.64 in /usr/local/lib/python3.6/dist-packages (from boto3->smart-open>=1.2.1->gensim) (1.12.64)\n",
            "Requirement already satisfied: python-dateutil<3.0.0,>=2.1; python_version >= \"2.7\" in /usr/local/lib/python3.6/dist-packages (from botocore<1.13.0,>=1.12.64->boto3->smart-open>=1.2.1->gensim) (2.5.3)\n",
            "Requirement already satisfied: docutils>=0.10 in /usr/local/lib/python3.6/dist-packages (from botocore<1.13.0,>=1.12.64->boto3->smart-open>=1.2.1->gensim) (0.14)\n"
          ],
          "name": "stdout"
        }
      ]
    },
    {
      "metadata": {
        "id": "G3GrbGHvGlDz",
        "colab_type": "code",
        "outputId": "073dd38b-3819-409f-9c83-cc255116e2a1",
        "colab": {
          "base_uri": "https://localhost:8080/",
          "height": 527
        }
      },
      "cell_type": "code",
      "source": [
        "con = sqlite3.connect('./sample_60k.sqlite') \n",
        "sample = pd.read_sql_query(\"\"\" SELECT * FROM Reviews \"\"\", con)\n",
        "print (sample.head(3))\n",
        "print (sample.shape)"
      ],
      "execution_count": 0,
      "outputs": [
        {
          "output_type": "stream",
          "text": [
            "   level_0   index      Id   ProductId          UserId  \\\n",
            "0    80396  230394  249898  B000H27OQY   A44TW1QDNJVM5   \n",
            "1    29080  204274  221318  B0009PJRMS  A11YKMMGMN0726   \n",
            "2   355086  441703  477619  B007FMNZ62   A37XC5PH84JEO   \n",
            "\n",
            "                                    ProfileName  HelpfulnessNumerator  \\\n",
            "0                                         i8i3d                     0   \n",
            "1                            N. IBRAHIM \"ahmed\"                     0   \n",
            "2  LucianaMachadoMKimonos \"LucianaMachadoSimon\"                     1   \n",
            "\n",
            "   HelpfulnessDenominator     Score        Time  \\\n",
            "0                       0  positive  1333411200   \n",
            "1                       1  positive  1215475200   \n",
            "2                       1  positive  1340323200   \n",
            "\n",
            "                                  Summary  \\\n",
            "0                              Excellent!   \n",
            "1                         Simply the best   \n",
            "2  As GREAT and the other 5 star ones!!!!   \n",
            "\n",
            "                                                Text  \\\n",
            "0  Bought this product and it was great. I am an ...   \n",
            "1  The best soap i ever used, it smells great and...   \n",
            "2  People sometimes are \"afraid\" of trying new th...   \n",
            "\n",
            "                                         CleanedText  \n",
            "0  bought product great australian live difficult...  \n",
            "1  best soap ever use smell great make skin smoot...  \n",
            "2  peopl sometim afraid tri new thing see star zi...  \n",
            "(60000, 13)\n"
          ],
          "name": "stdout"
        }
      ]
    },
    {
      "metadata": {
        "id": "sWcCLytGG3Jt",
        "colab_type": "code",
        "outputId": "5057a9d1-3249-416a-feb0-052e5f1e44a8",
        "colab": {
          "base_uri": "https://localhost:8080/",
          "height": 68
        }
      },
      "cell_type": "code",
      "source": [
        " sample.Score.value_counts()"
      ],
      "execution_count": 0,
      "outputs": [
        {
          "output_type": "execute_result",
          "data": {
            "text/plain": [
              "positive    50662\n",
              "negative     9338\n",
              "Name: Score, dtype: int64"
            ]
          },
          "metadata": {
            "tags": []
          },
          "execution_count": 31
        }
      ]
    },
    {
      "metadata": {
        "id": "J7-EHNJOG6o5",
        "colab_type": "code",
        "outputId": "782e051a-2ba0-4479-a13a-4c64c0fd0ad8",
        "colab": {
          "base_uri": "https://localhost:8080/",
          "height": 417
        }
      },
      "cell_type": "code",
      "source": [
        "sample['Score'] = sample.Score.astype('category')\n",
        "sample['Score'] = sample.Score.cat.codes\n",
        "sample.head(3)"
      ],
      "execution_count": 0,
      "outputs": [
        {
          "output_type": "execute_result",
          "data": {
            "text/html": [
              "<div>\n",
              "<style scoped>\n",
              "    .dataframe tbody tr th:only-of-type {\n",
              "        vertical-align: middle;\n",
              "    }\n",
              "\n",
              "    .dataframe tbody tr th {\n",
              "        vertical-align: top;\n",
              "    }\n",
              "\n",
              "    .dataframe thead th {\n",
              "        text-align: right;\n",
              "    }\n",
              "</style>\n",
              "<table border=\"1\" class=\"dataframe\">\n",
              "  <thead>\n",
              "    <tr style=\"text-align: right;\">\n",
              "      <th></th>\n",
              "      <th>level_0</th>\n",
              "      <th>index</th>\n",
              "      <th>Id</th>\n",
              "      <th>ProductId</th>\n",
              "      <th>UserId</th>\n",
              "      <th>ProfileName</th>\n",
              "      <th>HelpfulnessNumerator</th>\n",
              "      <th>HelpfulnessDenominator</th>\n",
              "      <th>Score</th>\n",
              "      <th>Time</th>\n",
              "      <th>Summary</th>\n",
              "      <th>Text</th>\n",
              "      <th>CleanedText</th>\n",
              "    </tr>\n",
              "  </thead>\n",
              "  <tbody>\n",
              "    <tr>\n",
              "      <th>0</th>\n",
              "      <td>80396</td>\n",
              "      <td>230394</td>\n",
              "      <td>249898</td>\n",
              "      <td>B000H27OQY</td>\n",
              "      <td>A44TW1QDNJVM5</td>\n",
              "      <td>i8i3d</td>\n",
              "      <td>0</td>\n",
              "      <td>0</td>\n",
              "      <td>1</td>\n",
              "      <td>1333411200</td>\n",
              "      <td>Excellent!</td>\n",
              "      <td>Bought this product and it was great. I am an ...</td>\n",
              "      <td>bought product great australian live difficult...</td>\n",
              "    </tr>\n",
              "    <tr>\n",
              "      <th>1</th>\n",
              "      <td>29080</td>\n",
              "      <td>204274</td>\n",
              "      <td>221318</td>\n",
              "      <td>B0009PJRMS</td>\n",
              "      <td>A11YKMMGMN0726</td>\n",
              "      <td>N. IBRAHIM \"ahmed\"</td>\n",
              "      <td>0</td>\n",
              "      <td>1</td>\n",
              "      <td>1</td>\n",
              "      <td>1215475200</td>\n",
              "      <td>Simply the best</td>\n",
              "      <td>The best soap i ever used, it smells great and...</td>\n",
              "      <td>best soap ever use smell great make skin smoot...</td>\n",
              "    </tr>\n",
              "    <tr>\n",
              "      <th>2</th>\n",
              "      <td>355086</td>\n",
              "      <td>441703</td>\n",
              "      <td>477619</td>\n",
              "      <td>B007FMNZ62</td>\n",
              "      <td>A37XC5PH84JEO</td>\n",
              "      <td>LucianaMachadoMKimonos \"LucianaMachadoSimon\"</td>\n",
              "      <td>1</td>\n",
              "      <td>1</td>\n",
              "      <td>1</td>\n",
              "      <td>1340323200</td>\n",
              "      <td>As GREAT and the other 5 star ones!!!!</td>\n",
              "      <td>People sometimes are \"afraid\" of trying new th...</td>\n",
              "      <td>peopl sometim afraid tri new thing see star zi...</td>\n",
              "    </tr>\n",
              "  </tbody>\n",
              "</table>\n",
              "</div>"
            ],
            "text/plain": [
              "   level_0   index      Id   ProductId          UserId  \\\n",
              "0    80396  230394  249898  B000H27OQY   A44TW1QDNJVM5   \n",
              "1    29080  204274  221318  B0009PJRMS  A11YKMMGMN0726   \n",
              "2   355086  441703  477619  B007FMNZ62   A37XC5PH84JEO   \n",
              "\n",
              "                                    ProfileName  HelpfulnessNumerator  \\\n",
              "0                                         i8i3d                     0   \n",
              "1                            N. IBRAHIM \"ahmed\"                     0   \n",
              "2  LucianaMachadoMKimonos \"LucianaMachadoSimon\"                     1   \n",
              "\n",
              "   HelpfulnessDenominator  Score        Time  \\\n",
              "0                       0      1  1333411200   \n",
              "1                       1      1  1215475200   \n",
              "2                       1      1  1340323200   \n",
              "\n",
              "                                  Summary  \\\n",
              "0                              Excellent!   \n",
              "1                         Simply the best   \n",
              "2  As GREAT and the other 5 star ones!!!!   \n",
              "\n",
              "                                                Text  \\\n",
              "0  Bought this product and it was great. I am an ...   \n",
              "1  The best soap i ever used, it smells great and...   \n",
              "2  People sometimes are \"afraid\" of trying new th...   \n",
              "\n",
              "                                         CleanedText  \n",
              "0  bought product great australian live difficult...  \n",
              "1  best soap ever use smell great make skin smoot...  \n",
              "2  peopl sometim afraid tri new thing see star zi...  "
            ]
          },
          "metadata": {
            "tags": []
          },
          "execution_count": 32
        }
      ]
    },
    {
      "metadata": {
        "id": "jYxuIWjxG_7k",
        "colab_type": "code",
        "outputId": "e6e59d30-8569-47db-af6a-fb8548305ba6",
        "colab": {
          "base_uri": "https://localhost:8080/",
          "height": 468
        }
      },
      "cell_type": "code",
      "source": [
        "# sorting data by time\n",
        "sample = sample.sort_values(by = 'Time')\n",
        "sample.head(3)"
      ],
      "execution_count": 0,
      "outputs": [
        {
          "output_type": "execute_result",
          "data": {
            "text/html": [
              "<div>\n",
              "<style scoped>\n",
              "    .dataframe tbody tr th:only-of-type {\n",
              "        vertical-align: middle;\n",
              "    }\n",
              "\n",
              "    .dataframe tbody tr th {\n",
              "        vertical-align: top;\n",
              "    }\n",
              "\n",
              "    .dataframe thead th {\n",
              "        text-align: right;\n",
              "    }\n",
              "</style>\n",
              "<table border=\"1\" class=\"dataframe\">\n",
              "  <thead>\n",
              "    <tr style=\"text-align: right;\">\n",
              "      <th></th>\n",
              "      <th>level_0</th>\n",
              "      <th>index</th>\n",
              "      <th>Id</th>\n",
              "      <th>ProductId</th>\n",
              "      <th>UserId</th>\n",
              "      <th>ProfileName</th>\n",
              "      <th>HelpfulnessNumerator</th>\n",
              "      <th>HelpfulnessDenominator</th>\n",
              "      <th>Score</th>\n",
              "      <th>Time</th>\n",
              "      <th>Summary</th>\n",
              "      <th>Text</th>\n",
              "      <th>CleanedText</th>\n",
              "    </tr>\n",
              "  </thead>\n",
              "  <tbody>\n",
              "    <tr>\n",
              "      <th>43048</th>\n",
              "      <td>30</td>\n",
              "      <td>138683</td>\n",
              "      <td>150501</td>\n",
              "      <td>0006641040</td>\n",
              "      <td>AJ46FKXOVC7NR</td>\n",
              "      <td>Nicholas A Mesiano</td>\n",
              "      <td>2</td>\n",
              "      <td>2</td>\n",
              "      <td>1</td>\n",
              "      <td>940809600</td>\n",
              "      <td>This whole series is great way to spend time w...</td>\n",
              "      <td>I can remember seeing the show when it aired o...</td>\n",
              "      <td>rememb see show air televis year ago child sis...</td>\n",
              "    </tr>\n",
              "    <tr>\n",
              "      <th>35945</th>\n",
              "      <td>245</td>\n",
              "      <td>346116</td>\n",
              "      <td>374422</td>\n",
              "      <td>B00004CI84</td>\n",
              "      <td>A1048CYU0OV4O8</td>\n",
              "      <td>Judy L. Eans</td>\n",
              "      <td>2</td>\n",
              "      <td>2</td>\n",
              "      <td>1</td>\n",
              "      <td>947376000</td>\n",
              "      <td>GREAT</td>\n",
              "      <td>THIS IS ONE MOVIE THAT SHOULD BE IN YOUR MOVIE...</td>\n",
              "      <td>one movi movi collect fill comedi action whate...</td>\n",
              "    </tr>\n",
              "    <tr>\n",
              "      <th>54900</th>\n",
              "      <td>427</td>\n",
              "      <td>417883</td>\n",
              "      <td>451903</td>\n",
              "      <td>B00004CXX9</td>\n",
              "      <td>A2DEE7F9XKP3ZR</td>\n",
              "      <td>jerome</td>\n",
              "      <td>0</td>\n",
              "      <td>1</td>\n",
              "      <td>1</td>\n",
              "      <td>959990400</td>\n",
              "      <td>Research</td>\n",
              "      <td>I'm getting crazy.&lt;p&gt;Is it really impossible t...</td>\n",
              "      <td>get crazi realli imposs today find french vhs ...</td>\n",
              "    </tr>\n",
              "  </tbody>\n",
              "</table>\n",
              "</div>"
            ],
            "text/plain": [
              "       level_0   index      Id   ProductId          UserId  \\\n",
              "43048       30  138683  150501  0006641040   AJ46FKXOVC7NR   \n",
              "35945      245  346116  374422  B00004CI84  A1048CYU0OV4O8   \n",
              "54900      427  417883  451903  B00004CXX9  A2DEE7F9XKP3ZR   \n",
              "\n",
              "              ProfileName  HelpfulnessNumerator  HelpfulnessDenominator  \\\n",
              "43048  Nicholas A Mesiano                     2                       2   \n",
              "35945        Judy L. Eans                     2                       2   \n",
              "54900              jerome                     0                       1   \n",
              "\n",
              "       Score       Time                                            Summary  \\\n",
              "43048      1  940809600  This whole series is great way to spend time w...   \n",
              "35945      1  947376000                                              GREAT   \n",
              "54900      1  959990400                                           Research   \n",
              "\n",
              "                                                    Text  \\\n",
              "43048  I can remember seeing the show when it aired o...   \n",
              "35945  THIS IS ONE MOVIE THAT SHOULD BE IN YOUR MOVIE...   \n",
              "54900  I'm getting crazy.<p>Is it really impossible t...   \n",
              "\n",
              "                                             CleanedText  \n",
              "43048  rememb see show air televis year ago child sis...  \n",
              "35945  one movi movi collect fill comedi action whate...  \n",
              "54900  get crazi realli imposs today find french vhs ...  "
            ]
          },
          "metadata": {
            "tags": []
          },
          "execution_count": 33
        }
      ]
    },
    {
      "metadata": {
        "id": "R8g-FYghHDET",
        "colab_type": "code",
        "outputId": "fe830650-7f60-4c5b-d7a4-16a0219af712",
        "colab": {
          "base_uri": "https://localhost:8080/",
          "height": 136
        }
      },
      "cell_type": "code",
      "source": [
        "#seperating labels from final_sample\n",
        "label = sample.Score\n",
        "print (label.value_counts())\n",
        "print (label.head(3))"
      ],
      "execution_count": 0,
      "outputs": [
        {
          "output_type": "stream",
          "text": [
            "1    50662\n",
            "0     9338\n",
            "Name: Score, dtype: int64\n",
            "43048    1\n",
            "35945    1\n",
            "54900    1\n",
            "Name: Score, dtype: int8\n"
          ],
          "name": "stdout"
        }
      ]
    },
    {
      "metadata": {
        "id": "RL-L8dJYXfzp",
        "colab_type": "code",
        "outputId": "52e23cfc-e09d-46e3-880c-d3cbd8a8452d",
        "colab": {
          "base_uri": "https://localhost:8080/",
          "height": 221
        }
      },
      "cell_type": "code",
      "source": [
        "# train, test split 70:30\n",
        "X_train = sample.CleanedText[:int(len(sample)*0.6)]\n",
        "y_train = label[:int(len(sample)*0.6)]\n",
        "\n",
        "X_cv = sample.CleanedText[int(len(sample)*0.6):int(len(sample)*0.8)]\n",
        "y_cv = label[int(len(sample)*0.6):int(len(sample)*0.8)]\n",
        "\n",
        "X_test = sample.CleanedText[int(len(sample)*0.8):]\n",
        "y_test = label[int(len(sample)*0.8):]\n",
        "\n",
        "print ('training set :', X_train.shape)\n",
        "print ('cross-validation set:',X_cv.shape)\n",
        "print('test set', X_test.shape)\n",
        "print (X_train.head(2))\n",
        "print (X_cv.head(2))\n",
        "print (X_test.head(2))"
      ],
      "execution_count": 0,
      "outputs": [
        {
          "output_type": "stream",
          "text": [
            "training set : (36000,)\n",
            "cross-validation set: (12000,)\n",
            "test set (12000,)\n",
            "43048    rememb see show air televis year ago child sis...\n",
            "35945    one movi movi collect fill comedi action whate...\n",
            "Name: CleanedText, dtype: object\n",
            "34089    ive tri varieti cook method work best sprinkl ...\n",
            "7301     get signific product money didnt particular ca...\n",
            "Name: CleanedText, dtype: object\n",
            "47576    awsom buy price product deliv time packag well...\n",
            "27009    stuff bit spici realli make differ burger fri ...\n",
            "Name: CleanedText, dtype: object\n"
          ],
          "name": "stdout"
        }
      ]
    },
    {
      "metadata": {
        "id": "VTpHRwVBHIm-",
        "colab_type": "code",
        "outputId": "376960af-1858-4347-c22a-8b7d07749b8f",
        "colab": {
          "base_uri": "https://localhost:8080/",
          "height": 68
        }
      },
      "cell_type": "code",
      "source": [
        "# BOW vectorizer\n",
        "# training data\n",
        "count_vec = CountVectorizer()\n",
        "X_train_bow = count_vec.fit_transform(X_train.values)\n",
        "print ('the type of count vectorizer' , type(X_train_bow))\n",
        "print ('shape of text BOW vectorizer' , X_train_bow.get_shape())\n",
        "print ('Number of unique words',X_train_bow.get_shape()[1])"
      ],
      "execution_count": 0,
      "outputs": [
        {
          "output_type": "stream",
          "text": [
            "the type of count vectorizer <class 'scipy.sparse.csr.csr_matrix'>\n",
            "shape of text BOW vectorizer (36000, 23810)\n",
            "Number of unique words 23810\n"
          ],
          "name": "stdout"
        }
      ]
    },
    {
      "metadata": {
        "id": "AO8RQsB4HMJi",
        "colab_type": "code",
        "outputId": "c633a712-af98-4f65-fd07-ae64d54bdf0f",
        "colab": {
          "base_uri": "https://localhost:8080/",
          "height": 136
        }
      },
      "cell_type": "code",
      "source": [
        "# cross validation and test data\n",
        "X_cv_bow = count_vec.transform(X_cv.values)\n",
        "print ('the type of count vectorizer' , type(X_cv_bow))\n",
        "print ('shape of text BOW vectorizer' , X_cv_bow.get_shape())\n",
        "print ('Number of unique words',X_cv_bow.get_shape()[1])\n",
        "print ('**********************************************************')\n",
        "X_test_bow = count_vec.transform(X_test.values)\n",
        "print ('the type of count vectorizer' , type(X_test_bow))\n",
        "print ('shape of text BOW vectorizer' , X_test_bow.get_shape())\n",
        "print ('Number of unique words',X_test_bow.get_shape()[1])"
      ],
      "execution_count": 0,
      "outputs": [
        {
          "output_type": "stream",
          "text": [
            "the type of count vectorizer <class 'scipy.sparse.csr.csr_matrix'>\n",
            "shape of text BOW vectorizer (12000, 23810)\n",
            "Number of unique words 23810\n",
            "**********************************************************\n",
            "the type of count vectorizer <class 'scipy.sparse.csr.csr_matrix'>\n",
            "shape of text BOW vectorizer (12000, 23810)\n",
            "Number of unique words 23810\n"
          ],
          "name": "stdout"
        }
      ]
    },
    {
      "metadata": {
        "id": "Ly1VYw6XESpg",
        "colab_type": "code",
        "outputId": "c1026471-3743-4e88-b486-56275030f162",
        "colab": {
          "base_uri": "https://localhost:8080/",
          "height": 54
        }
      },
      "cell_type": "code",
      "source": [
        "from sklearn.metrics import f1_score\n",
        "from sklearn.naive_bayes import MultinomialNB\n",
        "\n",
        "f1 = list()\n",
        "alpha=[0.001,0.01,0.1,1.0,10.0,100.0,1000.0]\n",
        "for i in alpha:\n",
        "    mNB = MultinomialNB(alpha=i, class_prior=None, fit_prior=True)\n",
        "    mNB.fit(X_train_bow , y_train)\n",
        "    pred = mNB.predict(X_cv_bow)\n",
        "    score = f1_score(y_cv, pred) \n",
        "    f1.append(score)\n",
        "    \n",
        "\n",
        "print (f1) "
      ],
      "execution_count": 0,
      "outputs": [
        {
          "output_type": "stream",
          "text": [
            "[0.9276939978028563, 0.9306781701444622, 0.9321905722208218, 0.934634049717738, 0.9039698584818967, 0.9011995238531271, 0.9013001281816517]\n"
          ],
          "name": "stdout"
        }
      ]
    },
    {
      "metadata": {
        "id": "4jlDSTCjExDE",
        "colab_type": "code",
        "outputId": "80e9f8cd-f253-4866-dbe1-4dc20abb5828",
        "colab": {
          "base_uri": "https://localhost:8080/",
          "height": 348
        }
      },
      "cell_type": "code",
      "source": [
        "\n",
        "\n",
        "# selcting best alpha \n",
        "optimal_alpha = alpha[f1.index(max(f1))]\n",
        "print (\"\\n the optimal alpha in mNB is \",optimal_alpha)\n",
        "\n",
        "# ploting cv_scores and alpha \n",
        "plt.plot(alpha , f1)\n",
        "for xy in zip(alpha , np.round(f1,3)):\n",
        "  plt.annotate('(%s , %s)' % xy , xy = xy, textcoords = 'data')\n",
        "\n",
        "plt.xlabel('alpha')\n",
        "plt.ylabel('f1-score')\n",
        "\n",
        "print ('\\n the f1-score for each alpha value is ',np.round(f1,3))\n",
        "\n",
        "   "
      ],
      "execution_count": 0,
      "outputs": [
        {
          "output_type": "stream",
          "text": [
            "\n",
            " the optimal alpha in mNB is  1.0\n",
            "\n",
            " the f1-score for each alpha value is  [0.928 0.931 0.932 0.935 0.904 0.901 0.901]\n"
          ],
          "name": "stdout"
        },
        {
          "output_type": "display_data",
          "data": {
            "image/png": "[encoded data removed]",
            "text/plain": [
              "<matplotlib.figure.Figure at 0x7f852da85b38>"
            ]
          },
          "metadata": {
            "tags": []
          }
        }
      ]
    },
    {
      "metadata": {
        "id": "cqfLIKnpcXci",
        "colab_type": "code",
        "outputId": "6b1c33f7-15ae-428f-96a3-c39d763a17b3",
        "colab": {
          "base_uri": "https://localhost:8080/",
          "height": 51
        }
      },
      "cell_type": "code",
      "source": [
        "from sklearn.metrics import f1_score\n",
        "# test accurayc, confusion matrix , precision, recall , f1score with optimal alpha\n",
        "mNB_optimal = MultinomialNB(alpha = optimal_alpha)\n",
        "mNB_optimal.fit(X_train_bow , y_train )\n",
        "pred = mNB_optimal.predict(X_test_bow)\n",
        "#test accuracy\n",
        "score = f1_score(y_test , pred)*100\n",
        "print ('\\n the accuracy of multinomial naive bayes classifier with alpha = %f is %f%%' %(optimal_alpha , score))\n",
        "\n",
        "\n",
        "\n"
      ],
      "execution_count": 0,
      "outputs": [
        {
          "output_type": "stream",
          "text": [
            "\n",
            " the accuracy of multinomial naive bayes classifier with alpha = 1.000000 is 93.875147%\n"
          ],
          "name": "stdout"
        }
      ]
    },
    {
      "metadata": {
        "id": "j8y2pAZ24cIt",
        "colab_type": "code",
        "outputId": "e86ce99d-c555-4d17-c70c-350f70fc274b",
        "colab": {
          "base_uri": "https://localhost:8080/",
          "height": 51
        }
      },
      "cell_type": "code",
      "source": [
        "from sklearn.metrics import confusion_matrix\n",
        "cf = confusion_matrix(y_test , pred)\n",
        "cf"
      ],
      "execution_count": 0,
      "outputs": [
        {
          "output_type": "execute_result",
          "data": {
            "text/plain": [
              "array([[1188,  846],\n",
              "       [ 402, 9564]])"
            ]
          },
          "metadata": {
            "tags": []
          },
          "execution_count": 41
        }
      ]
    },
    {
      "metadata": {
        "id": "dU3YSPGLCbs0",
        "colab_type": "code",
        "outputId": "d695868f-4df4-48f3-9c7a-12485fec350c",
        "colab": {
          "base_uri": "https://localhost:8080/",
          "height": 362
        }
      },
      "cell_type": "code",
      "source": [
        "# confusion matrix\n",
        "import seaborn as sn\n",
        "from sklearn.metrics import confusion_matrix\n",
        "conf_matrix = confusion_matrix(y_test , pred)\n",
        "tn, fp, fn, tp = confusion_matrix(y_test , pred).ravel()\n",
        "print (\"true negative:\" ,tn)\n",
        "print ('false positive',fp)\n",
        "print ('false negative',fn)\n",
        "print ('true positive',tp)\n",
        "labels = ['negative', 'positive']\n",
        "conf_matrix_df = pd.DataFrame(conf_matrix , index = labels , columns = labels)\n",
        "sn.heatmap(conf_matrix_df, annot = True, fmt = 'd')\n",
        "plt.title('Confusion matix')\n",
        "plt.xlabel('pred')\n",
        "plt.ylabel('true')\n",
        "plt.show()\n",
        "\n"
      ],
      "execution_count": 0,
      "outputs": [
        {
          "output_type": "stream",
          "text": [
            "true negative: 1188\n",
            "false positive 846\n",
            "false negative 402\n",
            "true positive 9564\n"
          ],
          "name": "stdout"
        },
        {
          "output_type": "display_data",
          "data": {
            "image/png": "[encoded data removed]",
            "text/plain": [
              "<matplotlib.figure.Figure at 0x7f852c82a278>"
            ]
          },
          "metadata": {
            "tags": []
          }
        }
      ]
    },
    {
      "metadata": {
        "id": "IHAd-ger42wK",
        "colab_type": "code",
        "outputId": "0e5e9ab3-0b9b-46d4-84b4-abe592c17f43",
        "colab": {
          "base_uri": "https://localhost:8080/",
          "height": 170
        }
      },
      "cell_type": "code",
      "source": [
        "from sklearn.metrics import classification_report\n",
        "print(classification_report(y_test , pred))\n"
      ],
      "execution_count": 0,
      "outputs": [
        {
          "output_type": "stream",
          "text": [
            "              precision    recall  f1-score   support\n",
            "\n",
            "           0       0.75      0.58      0.66      2034\n",
            "           1       0.92      0.96      0.94      9966\n",
            "\n",
            "   micro avg       0.90      0.90      0.90     12000\n",
            "   macro avg       0.83      0.77      0.80     12000\n",
            "weighted avg       0.89      0.90      0.89     12000\n",
            "\n"
          ],
          "name": "stdout"
        }
      ]
    },
    {
      "metadata": {
        "id": "oGvtiMBg5Glt",
        "colab_type": "code",
        "outputId": "754deaa0-71a8-42df-d348-786d2c34d387",
        "colab": {
          "base_uri": "https://localhost:8080/",
          "height": 34
        }
      },
      "cell_type": "code",
      "source": [
        "from sklearn.metrics import accuracy_score \n",
        "\n",
        "accuracy_score(y_test , pred)"
      ],
      "execution_count": 0,
      "outputs": [
        {
          "output_type": "execute_result",
          "data": {
            "text/plain": [
              "0.896"
            ]
          },
          "metadata": {
            "tags": []
          },
          "execution_count": 44
        }
      ]
    },
    {
      "metadata": {
        "id": "N5Nl62a0AKi3",
        "colab_type": "code",
        "colab": {}
      },
      "cell_type": "code",
      "source": [
        "#https://stackoverflow.com/questions/11116697/how-to-get-most-informative-features-for-scikit-learn-classifiers\n",
        "def important_features(vectorizer,classifier,n=20):\n",
        "  class_labels = classifier.classes_\n",
        "  feature_names =vectorizer.get_feature_names()\n",
        "  topn_class1 = sorted(zip(classifier.feature_log_prob_[0], feature_names),reverse=True)[:n]\n",
        "  topn_class2 = sorted(zip(classifier.feature_log_prob_[1], feature_names),reverse=True)[:n]\n",
        "  print(\"Important words in negative reviews\")\n",
        "  for coef, feat in topn_class1:\n",
        "    print(class_labels[0], coef, feat)\n",
        "  print(\"-----------------------------------------\")\n",
        "  print(\"Important words in positive reviews\")\n",
        "  for coef, feat in topn_class2:\n",
        "    print(class_labels[1], coef, feat) "
      ],
      "execution_count": 0,
      "outputs": []
    },
    {
      "metadata": {
        "id": "cV2n4M65AKtK",
        "colab_type": "code",
        "outputId": "c8411f86-71e1-49aa-9881-4631739475bf",
        "colab": {
          "base_uri": "https://localhost:8080/",
          "height": 408
        }
      },
      "cell_type": "code",
      "source": [
        "important_features(count_vec ,mNB_optimal,n=10 )"
      ],
      "execution_count": 0,
      "outputs": [
        {
          "output_type": "stream",
          "text": [
            "Important words in negative reviews\n",
            "0 -4.317056018519025 tast\n",
            "0 -4.382706618414052 like\n",
            "0 -4.540671527680429 product\n",
            "0 -4.833876296614862 one\n",
            "0 -4.912864707933491 flavor\n",
            "0 -4.945939959615278 would\n",
            "0 -4.997388521451319 tri\n",
            "0 -5.1435997875063855 good\n",
            "0 -5.202070009925794 use\n",
            "0 -5.251279469304251 get\n",
            "-----------------------------------------\n",
            "Important words in positive reviews\n",
            "1 -4.4547636267824835 like\n",
            "1 -4.533818041157966 tast\n",
            "1 -4.648657712553851 good\n",
            "1 -4.700341627458542 flavor\n",
            "1 -4.717775303422357 love\n",
            "1 -4.757078339889272 great\n",
            "1 -4.767346876647698 use\n",
            "1 -4.8299147989957465 one\n",
            "1 -4.853420380931686 tea\n",
            "1 -4.9003588215598 product\n"
          ],
          "name": "stdout"
        }
      ]
    },
    {
      "metadata": {
        "id": "j1zEHgYZAK1_",
        "colab_type": "code",
        "colab": {}
      },
      "cell_type": "code",
      "source": [
        ""
      ],
      "execution_count": 0,
      "outputs": []
    },
    {
      "metadata": {
        "id": "ErRDOc9VgsyD",
        "colab_type": "code",
        "outputId": "fcd99095-6e9f-417d-8fef-79fedd488188",
        "colab": {
          "base_uri": "https://localhost:8080/",
          "height": 170
        }
      },
      "cell_type": "code",
      "source": [
        "#tfidf sparse\n",
        "tfidf_vect = TfidfVectorizer(ngram_range=(1,2)) #in scikit-learn\n",
        "# training data\n",
        "X_train_TS = tfidf_vect.fit_transform(X_train.values)\n",
        "print ('the type of count vectorizer' , type(X_train_TS))\n",
        "print ('shape of text tfidf vectorizer' , X_train_TS.get_shape())\n",
        "print ('Number of unique words',X_train_TS.get_shape()[1])\n",
        "\n",
        "# cross validation data\n",
        "X_cv_TS = tfidf_vect.transform(X_cv.values)\n",
        "print ('the type of count vectorizer' , type(X_cv_TS))\n",
        "print ('shape of cv tfidf vectorizer' , X_cv_TS.get_shape())\n",
        "print ('Number of unique words',X_cv_TS.get_shape()[1])\n",
        "\n",
        "# test data\n",
        "X_test_TS = tfidf_vect.transform(X_test.values)\n",
        "print ('the type of count vectorizer' , type(X_test_TS))\n",
        "print ('shape of text tfidf vectorizer' , X_test_TS.get_shape())\n",
        "print ('Number of unique words',X_test_TS.get_shape()[1])\n"
      ],
      "execution_count": 0,
      "outputs": [
        {
          "output_type": "stream",
          "text": [
            "the type of count vectorizer <class 'scipy.sparse.csr.csr_matrix'>\n",
            "shape of text tfidf vectorizer (6000, 151815)\n",
            "Number of unique words 151815\n",
            "the type of count vectorizer <class 'scipy.sparse.csr.csr_matrix'>\n",
            "shape of cv tfidf vectorizer (2000, 151815)\n",
            "Number of unique words 151815\n",
            "the type of count vectorizer <class 'scipy.sparse.csr.csr_matrix'>\n",
            "shape of text tfidf vectorizer (2000, 151815)\n",
            "Number of unique words 151815\n"
          ],
          "name": "stdout"
        }
      ]
    },
    {
      "metadata": {
        "id": "-sqDJzOZpz44",
        "colab_type": "code",
        "outputId": "e883472c-c8d0-4b9e-ef19-a756e88db43b",
        "colab": {
          "base_uri": "https://localhost:8080/",
          "height": 54
        }
      },
      "cell_type": "code",
      "source": [
        "from sklearn.metrics import f1_score\n",
        "from sklearn.naive_bayes import MultinomialNB\n",
        "\n",
        "f1 = list()\n",
        "alpha=[0.001,0.01,0.1,1.0,10.0,100.0,1000.0]\n",
        "for i in alpha:\n",
        "    mNB = MultinomialNB(alpha=i, class_prior=None, fit_prior=True)\n",
        "    mNB.fit(X_train_TS , y_train)\n",
        "    pred = mNB.predict(X_cv_TS)\n",
        "    score = f1_score(y_cv, pred) \n",
        "    f1.append(score)\n",
        "    \n",
        "\n",
        "print (f1) "
      ],
      "execution_count": 0,
      "outputs": [
        {
          "output_type": "stream",
          "text": [
            "[0.9048943270300334, 0.908431044109436, 0.9000825763831544, 0.8995873452544705, 0.8995873452544705, 0.8995873452544705, 0.8995873452544705]\n"
          ],
          "name": "stdout"
        }
      ]
    },
    {
      "metadata": {
        "id": "VbG6DhY9qK7G",
        "colab_type": "code",
        "outputId": "34ee772a-f683-4ba1-ca83-ba6d9824df50",
        "colab": {
          "base_uri": "https://localhost:8080/",
          "height": 347
        }
      },
      "cell_type": "code",
      "source": [
        "\n",
        "\n",
        "# selcting best alpha \n",
        "optimal_alpha = alpha[f1.index(max(f1))]\n",
        "print (\"\\n the optimal alpha in mNB is \",optimal_alpha)\n",
        "\n",
        "# ploting cv_scores and alpha \n",
        "plt.plot(alpha , f1)\n",
        "for xy in zip(alpha , np.round(f1,3)):\n",
        "  plt.annotate('(%s , %s)' % xy , xy = xy, textcoords = 'data')\n",
        "\n",
        "plt.xlabel('alpha')\n",
        "plt.ylabel('f1-score')\n",
        "\n",
        "print ('\\n the f1-score for each alpha value is ',np.round(f1,3))\n",
        "\n",
        "\n",
        "   "
      ],
      "execution_count": 0,
      "outputs": [
        {
          "output_type": "stream",
          "text": [
            "\n",
            " the optimal alpha in mNB is  0.01\n",
            "\n",
            " the f1-score for each alpha value is  [0.905 0.908 0.9   0.9   0.9   0.9   0.9  ]\n"
          ],
          "name": "stdout"
        },
        {
          "output_type": "display_data",
          "data": {
            "image/png": "[encoded data removed]",
            "text/plain": [
              "<matplotlib.figure.Figure at 0x7f85302822b0>"
            ]
          },
          "metadata": {
            "tags": []
          }
        }
      ]
    },
    {
      "metadata": {
        "id": "Q_084HC2qdkD",
        "colab_type": "code",
        "outputId": "68eb4fab-092a-4ad0-869b-91eb1e42e757",
        "colab": {
          "base_uri": "https://localhost:8080/",
          "height": 51
        }
      },
      "cell_type": "code",
      "source": [
        "from sklearn.metrics import f1_score\n",
        "# test accurayc, confusion matrix , precision, recall , f1score with optimal alpha\n",
        "mNB_optimal = MultinomialNB(alpha = optimal_alpha)\n",
        "mNB_optimal.fit(X_train_TS , y_train )\n",
        "pred = mNB_optimal.predict(X_test_TS)\n",
        "#test accuracy\n",
        "score = f1_score(y_test , pred)*100\n",
        "print ('\\n the accuracy of multinomial naive bayes classifier with alpha = %f is %f%%' %(optimal_alpha , score))"
      ],
      "execution_count": 0,
      "outputs": [
        {
          "output_type": "stream",
          "text": [
            "\n",
            " the accuracy of multinomial naive bayes classifier with alpha = 0.010000 is 91.815145%\n"
          ],
          "name": "stdout"
        }
      ]
    },
    {
      "metadata": {
        "id": "LqoeydXHrWsd",
        "colab_type": "code",
        "outputId": "6cec9766-b470-44c6-a1da-c77dc3177037",
        "colab": {
          "base_uri": "https://localhost:8080/",
          "height": 51
        }
      },
      "cell_type": "code",
      "source": [
        "from sklearn.metrics import confusion_matrix\n",
        "cf = confusion_matrix(y_test , pred)\n",
        "cf"
      ],
      "execution_count": 0,
      "outputs": [
        {
          "output_type": "execute_result",
          "data": {
            "text/plain": [
              "array([[  57,  276],\n",
              "       [  18, 1649]])"
            ]
          },
          "metadata": {
            "tags": []
          },
          "execution_count": 22
        }
      ]
    },
    {
      "metadata": {
        "id": "SZ41P22br6Hg",
        "colab_type": "code",
        "outputId": "ffb741a3-a9f8-40af-89b0-8116b755dd74",
        "colab": {
          "base_uri": "https://localhost:8080/",
          "height": 362
        }
      },
      "cell_type": "code",
      "source": [
        "# confusion matrix\n",
        "import seaborn as sn\n",
        "from sklearn.metrics import confusion_matrix\n",
        "conf_matrix = confusion_matrix(y_test , pred)\n",
        "tn, fp, fn, tp = confusion_matrix(y_test , pred).ravel()\n",
        "print (\"true negative:\" ,tn)\n",
        "print ('false positive',fp)\n",
        "print ('false negative',fn)\n",
        "print ('true positive',tp)\n",
        "labels = ['negative', 'positive']\n",
        "conf_matrix_df = pd.DataFrame(conf_matrix , index = labels , columns = labels)\n",
        "sn.heatmap(conf_matrix_df, annot = True, fmt = 'd')\n",
        "plt.title('Confusion matix')\n",
        "plt.xlabel('pred')\n",
        "plt.ylabel('true')\n",
        "plt.show()\n",
        "\n"
      ],
      "execution_count": 0,
      "outputs": [
        {
          "output_type": "stream",
          "text": [
            "true negative: 57\n",
            "false positive 276\n",
            "false negative 18\n",
            "true positive 1649\n"
          ],
          "name": "stdout"
        },
        {
          "output_type": "display_data",
          "data": {
            "image/png": "[encoded data removed]",
            "text/plain": [
              "<matplotlib.figure.Figure at 0x7f8530ac15c0>"
            ]
          },
          "metadata": {
            "tags": []
          }
        }
      ]
    },
    {
      "metadata": {
        "id": "IXgIEZ_WsC4_",
        "colab_type": "code",
        "outputId": "e8f4e1fa-2e21-453b-be36-9908bf4aef91",
        "colab": {
          "base_uri": "https://localhost:8080/",
          "height": 170
        }
      },
      "cell_type": "code",
      "source": [
        "from sklearn.metrics import classification_report\n",
        "print(classification_report(y_test , pred))\n"
      ],
      "execution_count": 0,
      "outputs": [
        {
          "output_type": "stream",
          "text": [
            "              precision    recall  f1-score   support\n",
            "\n",
            "           0       0.75      0.58      0.66      2034\n",
            "           1       0.92      0.96      0.94      9966\n",
            "\n",
            "   micro avg       0.90      0.90      0.90     12000\n",
            "   macro avg       0.83      0.77      0.80     12000\n",
            "weighted avg       0.89      0.90      0.89     12000\n",
            "\n"
          ],
          "name": "stdout"
        }
      ]
    },
    {
      "metadata": {
        "id": "NaMOW1tIsOIx",
        "colab_type": "code",
        "outputId": "5f26ac9d-d6b3-4b66-93f0-7c95402a812b",
        "colab": {
          "base_uri": "https://localhost:8080/",
          "height": 34
        }
      },
      "cell_type": "code",
      "source": [
        "from sklearn.metrics import accuracy_score \n",
        "\n",
        "accuracy_score(y_test , pred)"
      ],
      "execution_count": 0,
      "outputs": [
        {
          "output_type": "execute_result",
          "data": {
            "text/plain": [
              "0.896"
            ]
          },
          "metadata": {
            "tags": []
          },
          "execution_count": 48
        }
      ]
    },
    {
      "metadata": {
        "id": "hhidvy3rIC5G",
        "colab_type": "code",
        "outputId": "6d30a364-6dc6-4b35-99f0-14138b7cfa4c",
        "colab": {
          "base_uri": "https://localhost:8080/",
          "height": 408
        }
      },
      "cell_type": "code",
      "source": [
        "important_features(tfidf_vect ,mNB_optimal,n=10 )"
      ],
      "execution_count": 0,
      "outputs": [
        {
          "output_type": "stream",
          "text": [
            "Important words in negative reviews\n",
            "0 -4.317056018519025 case dont\n",
            "0 -4.382706618414052 better ear\n",
            "0 -4.540671527680429 breath coat\n",
            "0 -4.833876296614862 bottl littl\n",
            "0 -4.912864707933491 away amazon\n",
            "0 -4.945939959615278 chili obvious\n",
            "0 -4.997388521451319 cereal grandaught\n",
            "0 -5.1435997875063855 bag kind\n",
            "0 -5.202070009925794 check sorbet\n",
            "0 -5.251279469304251 bad price\n",
            "-----------------------------------------\n",
            "Important words in positive reviews\n",
            "1 -4.4547636267824835 better ear\n",
            "1 -4.533818041157966 case dont\n",
            "1 -4.648657712553851 bag kind\n",
            "1 -4.700341627458542 away amazon\n",
            "1 -4.717775303422357 betti drop\n",
            "1 -4.757078339889272 bag white\n",
            "1 -4.767346876647698 check sorbet\n",
            "1 -4.8299147989957465 bottl littl\n",
            "1 -4.853420380931686 case must\n",
            "1 -4.9003588215598 breath coat\n"
          ],
          "name": "stdout"
        }
      ]
    },
    {
      "metadata": {
        "id": "v01coOZCIO6W",
        "colab_type": "code",
        "colab": {
          "base_uri": "https://localhost:8080/",
          "height": 153
        },
        "outputId": "c99e5bc8-444b-4ad6-bec6-25a2859d8341"
      },
      "cell_type": "code",
      "source": [
        "! pip install PTable\n",
        "from prettytable import PrettyTable"
      ],
      "execution_count": 1,
      "outputs": [
        {
          "output_type": "stream",
          "text": [
            "Collecting PTable\n",
            "  Downloading https://files.pythonhosted.org/packages/ab/b3/b54301811173ca94119eb474634f120a49cd370f257d1aae5a4abaf12729/PTable-0.9.2.tar.gz\n",
            "Building wheels for collected packages: PTable\n",
            "  Building wheel for PTable (setup.py) ... \u001b[?25ldone\n",
            "\u001b[?25h  Stored in directory: /root/.cache/pip/wheels/22/cc/2e/55980bfe86393df3e9896146a01f6802978d09d7ebcba5ea56\n",
            "Successfully built PTable\n",
            "Installing collected packages: PTable\n",
            "Successfully installed PTable-0.9.2\n"
          ],
          "name": "stdout"
        }
      ]
    },
    {
      "metadata": {
        "id": "MEw3OKIcqM4i",
        "colab_type": "code",
        "colab": {
          "base_uri": "https://localhost:8080/",
          "height": 119
        },
        "outputId": "4767178a-09f6-4eb9-f1e3-acf247ed65a2"
      },
      "cell_type": "code",
      "source": [
        "x = PrettyTable()\n",
        "x.field_names=['Vectorizer','Hyper-parameter','f1-score']\n",
        "\n",
        "x.add_row(['BOW',1.0,0.93])\n",
        "x.add_row(['tfidf',0.01,0.91])\n",
        "print (x)"
      ],
      "execution_count": 4,
      "outputs": [
        {
          "output_type": "stream",
          "text": [
            "+------------+-----------------+----------+\n",
            "| Vectorizer | Hyper-parameter | f1-score |\n",
            "+------------+-----------------+----------+\n",
            "|    BOW     |       1.0       |   0.93   |\n",
            "|   tfidf    |       0.01      |   0.91   |\n",
            "+------------+-----------------+----------+\n"
          ],
          "name": "stdout"
        }
      ]
    },
    {
      "metadata": {
        "id": "Ow5E565TsyKS",
        "colab_type": "code",
        "colab": {}
      },
      "cell_type": "code",
      "source": [
        ""
      ],
      "execution_count": 0,
      "outputs": []
    }
  ]
}