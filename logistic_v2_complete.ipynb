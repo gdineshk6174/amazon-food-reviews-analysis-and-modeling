{
  "nbformat": 4,
  "nbformat_minor": 0,
  "metadata": {
    "colab": {
      "name": "logistic_v2_incomplete.ipynb",
      "version": "0.3.2",
      "provenance": []
    },
    "kernelspec": {
      "display_name": "Python 3",
      "language": "python",
      "name": "python3"
    }
  },
  "cells": [
    {
      "metadata": {
        "_uuid": "f57609dc3c08fa275fdf932f1a327131a3fd0329",
        "id": "1aZ5EYqv5NLS",
        "colab_type": "text"
      },
      "cell_type": "markdown",
      "source": [
        "# Amazon Fine Food Reviews Analysis\n",
        "\n",
        "\n",
        "Data Source: https://www.kaggle.com/snap/amazon-fine-food-reviews <br>\n",
        "\n",
        "EDA: https://nycdatascience.com/blog/student-works/amazon-fine-foods-visualization/\n",
        "\n",
        "\n",
        "The Amazon Fine Food Reviews dataset consists of reviews of fine foods from Amazon.<br>\n",
        "\n",
        "Number of reviews: 568,454<br>\n",
        "Number of users: 256,059<br>\n",
        "Number of products: 74,258<br>\n",
        "Timespan: Oct 1999 - Oct 2012<br>\n",
        "Number of Attributes/Columns in data: 10 \n",
        "\n",
        "Attribute Information:\n",
        "\n",
        "1. Id\n",
        "2. ProductId - unique identifier for the product\n",
        "3. UserId - unqiue identifier for the user\n",
        "4. ProfileName\n",
        "5. HelpfulnessNumerator - number of users who found the review helpful\n",
        "6. HelpfulnessDenominator - number of users who indicated whether they found the review helpful or not\n",
        "7. Score - rating between 1 and 5\n",
        "8. Time - timestamp for the review\n",
        "9. Summary - brief summary of the review\n",
        "10. Text - text of the review\n",
        "\n",
        "\n",
        "#### Objective:\n",
        "Given a review, determine whether the review is positive (rating of 4 or 5) or negative (rating of 1 or 2).\n",
        "\n",
        "<br>\n",
        "[Q] How to determine if a review is positive or negative?<br>\n",
        "<br> \n",
        "[Ans] We could use Score/Rating. A rating of 4 or 5 can be cosnidered as a positive review. A rating of 1 or 2 can be considered as negative one. A review of rating 3 is considered nuetral and such reviews are ignored from our analysis. This is an approximate and proxy way of determining the polarity (positivity/negativity) of a review.\n",
        "\n",
        "\n"
      ]
    },
    {
      "metadata": {
        "_uuid": "acee8b69f100a2d81c788ede2f1786bbef5fc68e",
        "id": "bA_Hphff5NLV",
        "colab_type": "text"
      },
      "cell_type": "markdown",
      "source": [
        "# [1]. Reading Data"
      ]
    },
    {
      "metadata": {
        "_uuid": "d4441b9850f9999a6df00f3eb49da8e4cc120891",
        "id": "g3foUU-S5NLY",
        "colab_type": "text"
      },
      "cell_type": "markdown",
      "source": [
        "## [1.1] Loading the data\n",
        "\n",
        "The dataset is available in two forms\n",
        "1. .csv file\n",
        "2. SQLite Database\n",
        "\n",
        "In order to load the data, We have used the SQLITE dataset as it is easier to query the data and visualise the data efficiently.\n",
        "<br> \n",
        "\n",
        "Here as we only want to get the global sentiment of the recommendations (positive or negative), we will purposefully ignore all Scores equal to 3. If the score is above 3, then the recommendation wil be set to \"positive\". Otherwise, it will be set to \"negative\"."
      ]
    },
    {
      "metadata": {
        "trusted": true,
        "_uuid": "9f697c85e40fb2a72c0c109903559039f1762e28",
        "id": "jekXX6cC5NLa",
        "colab_type": "code",
        "colab": {}
      },
      "cell_type": "code",
      "source": [
        "%matplotlib inline\n",
        "import warnings\n",
        "warnings.filterwarnings(\"ignore\")\n",
        "\n",
        "\n",
        "import sqlite3\n",
        "import pandas as pd\n",
        "import numpy as np\n",
        "import nltk\n",
        "import string\n",
        "import matplotlib.pyplot as plt\n",
        "import seaborn as sns\n",
        "from sklearn.feature_extraction.text import TfidfTransformer\n",
        "from sklearn.feature_extraction.text import TfidfVectorizer\n",
        "\n",
        "from sklearn.feature_extraction.text import CountVectorizer\n",
        "from sklearn.metrics import confusion_matrix\n",
        "from sklearn import metrics\n",
        "from sklearn.metrics import roc_curve, auc\n",
        "from nltk.stem.porter import PorterStemmer\n",
        "\n",
        "import re\n",
        "# Tutorial about Python regular expressions: https://pymotw.com/2/re/\n",
        "import string\n",
        "from nltk.corpus import stopwords\n",
        "from nltk.stem import PorterStemmer\n",
        "from nltk.stem.wordnet import WordNetLemmatizer\n",
        "\n",
        "from gensim.models import Word2Vec\n",
        "from gensim.models import KeyedVectors\n",
        "import pickle\n",
        "\n",
        "from tqdm import tqdm\n",
        "import os"
      ],
      "execution_count": 0,
      "outputs": []
    },
    {
      "metadata": {
        "trusted": true,
        "_uuid": "0f5272269192e92c3e9ee38f8f583e8a434cc8aa",
        "id": "I6DhODIj5NLm",
        "colab_type": "code",
        "colab": {}
      },
      "cell_type": "code",
      "source": [
        "# using SQLite Table to read data.\n",
        "con = sqlite3.connect('../input/database.sqlite') \n",
        "\n",
        "# filtering only positive and negative reviews i.e. \n",
        "# not taking into consideration those reviews with Score=3\n",
        "# SELECT * FROM Reviews WHERE Score != 3 LIMIT 500000, will give top 500000 data points\n",
        "# you can change the number to any other number based on your computing power\n",
        "\n",
        "# filtered_data = pd.read_sql_query(\"\"\" SELECT * FROM Reviews WHERE Score != 3 LIMIT 500000\"\"\", con) \n",
        "# for tsne assignment you can take 5k data points\n",
        "\n",
        "filtered_data = pd.read_sql_query(\"\"\" SELECT * FROM Reviews WHERE Score != 3 LIMIT 50000\"\"\", con) \n",
        "\n",
        "# Give reviews with Score>3 a positive rating(1), and reviews with a score<3 a negative rating(0).\n",
        "def partition(x):\n",
        "    if x < 3:\n",
        "        return 0\n",
        "    return 1\n",
        "\n",
        "#changing reviews with score less than 3 to be positive and vice-versa\n",
        "actualScore = filtered_data['Score']\n",
        "positiveNegative = actualScore.map(partition) \n",
        "filtered_data['Score'] = positiveNegative\n",
        "print(\"Number of data points in our data\", filtered_data.shape)\n",
        "filtered_data.head(3)"
      ],
      "execution_count": 0,
      "outputs": []
    },
    {
      "metadata": {
        "trusted": true,
        "_uuid": "3b1bba3a2f9e4ca86b506fd2d1d9aac2894f2fd5",
        "id": "7PqpQi465NLw",
        "colab_type": "code",
        "colab": {}
      },
      "cell_type": "code",
      "source": [
        "display = pd.read_sql_query(\"\"\"\n",
        "SELECT UserId, ProductId, ProfileName, Time, Score, Text, COUNT(*)\n",
        "FROM Reviews\n",
        "GROUP BY UserId\n",
        "HAVING COUNT(*)>1\n",
        "\"\"\", con)"
      ],
      "execution_count": 0,
      "outputs": []
    },
    {
      "metadata": {
        "scrolled": true,
        "trusted": true,
        "_uuid": "c58ef9c6f5c46eb5ae548a3a3be1c8d7e9f0a86d",
        "id": "ZGRUMLK45NL6",
        "colab_type": "code",
        "colab": {}
      },
      "cell_type": "code",
      "source": [
        "print(display.shape)\n",
        "display.head()"
      ],
      "execution_count": 0,
      "outputs": []
    },
    {
      "metadata": {
        "trusted": true,
        "_uuid": "550eb9eba43c76f9ff3704477cb7fab1a9337e89",
        "id": "0qZrhia95NMC",
        "colab_type": "code",
        "colab": {}
      },
      "cell_type": "code",
      "source": [
        "display[display['UserId']=='AZY10LLTJ71NX']"
      ],
      "execution_count": 0,
      "outputs": []
    },
    {
      "metadata": {
        "trusted": true,
        "_uuid": "fac91ecd672bb3c374692c8febf5fcc18fcc3623",
        "id": "AlwyiuzN5NML",
        "colab_type": "code",
        "colab": {}
      },
      "cell_type": "code",
      "source": [
        "display['COUNT(*)'].sum()"
      ],
      "execution_count": 0,
      "outputs": []
    },
    {
      "metadata": {
        "_uuid": "b1eed7ee47ee24820b1dedeef70194ed50f814f7",
        "id": "flE7tblU5NMV",
        "colab_type": "text"
      },
      "cell_type": "markdown",
      "source": [
        "#  [2] Exploratory Data Analysis"
      ]
    },
    {
      "metadata": {
        "_uuid": "c85e96f1636fa1686e5a1c2a3546ddc0c0d2e160",
        "id": "R82j7SLn5NMY",
        "colab_type": "text"
      },
      "cell_type": "markdown",
      "source": [
        "## [2.1] Data Cleaning: Deduplication\n",
        "\n",
        "It is observed (as shown in the table below) that the reviews data had many duplicate entries. Hence it was necessary to remove duplicates in order to get unbiased results for the analysis of the data.  Following is an example:"
      ]
    },
    {
      "metadata": {
        "scrolled": false,
        "trusted": true,
        "_uuid": "197afaaf0f5ffe7098696e3f1fdac26c26dbbe10",
        "id": "MdPyRnHZ5NMf",
        "colab_type": "code",
        "colab": {}
      },
      "cell_type": "code",
      "source": [
        "display= pd.read_sql_query(\"\"\"\n",
        "SELECT *\n",
        "FROM Reviews\n",
        "WHERE Score != 3 AND UserId=\"AR5J8UI46CURR\"\n",
        "ORDER BY ProductID\n",
        "\"\"\", con)\n",
        "display.head()"
      ],
      "execution_count": 0,
      "outputs": []
    },
    {
      "metadata": {
        "_uuid": "846f7dfdae72382d5aabedc5ec8743841a4872f0",
        "id": "eqT8rbF55NMw",
        "colab_type": "text"
      },
      "cell_type": "markdown",
      "source": [
        "As it can be seen above that same user has multiple reviews with same values for HelpfulnessNumerator, HelpfulnessDenominator, Score, Time, Summary and Text and on doing analysis it was found that <br>\n",
        "<br> \n",
        "ProductId=B000HDOPZG was Loacker Quadratini Vanilla Wafer Cookies, 8.82-Ounce Packages (Pack of 8)<br>\n",
        "<br> \n",
        "ProductId=B000HDL1RQ was Loacker Quadratini Lemon Wafer Cookies, 8.82-Ounce Packages (Pack of 8) and so on<br>\n",
        "\n",
        "It was inferred after analysis that reviews with same parameters other than ProductId belonged to the same product just having different flavour or quantity. Hence in order to reduce redundancy it was decided to eliminate the rows having same parameters.<br>\n",
        "\n",
        "The method used for the same was that we first sort the data according to ProductId and then just keep the first similar product review and delelte the others. for eg. in the above just the review for ProductId=B000HDL1RQ remains. This method ensures that there is only one representative for each product and deduplication without sorting would lead to possibility of different representatives still existing for the same product."
      ]
    },
    {
      "metadata": {
        "trusted": true,
        "_uuid": "c7ed4b36c8e29f1f58f6d32f85e5a249f9eadd65",
        "id": "TRfk-5Yg5NM3",
        "colab_type": "code",
        "colab": {}
      },
      "cell_type": "code",
      "source": [
        "#Sorting data according to ProductId in ascending order\n",
        "sorted_data=filtered_data.sort_values('ProductId', axis=0, ascending=True, inplace=False, kind='quicksort', na_position='last')"
      ],
      "execution_count": 0,
      "outputs": []
    },
    {
      "metadata": {
        "trusted": true,
        "_uuid": "3e0fbed5c163c3685c2a5190f5f5860aea6eb84c",
        "id": "RREQFz3z5NNB",
        "colab_type": "code",
        "colab": {}
      },
      "cell_type": "code",
      "source": [
        "#Deduplication of entries\n",
        "final=sorted_data.drop_duplicates(subset={\"UserId\",\"ProfileName\",\"Time\",\"Text\"}, keep='first', inplace=False)\n",
        "final.shape"
      ],
      "execution_count": 0,
      "outputs": []
    },
    {
      "metadata": {
        "trusted": true,
        "_uuid": "2d5399618b333db99a7e70c69cc2fec9f4796571",
        "id": "Vxx_-frY5NNN",
        "colab_type": "code",
        "colab": {}
      },
      "cell_type": "code",
      "source": [
        "#Checking to see how much % of data still remains\n",
        "(final['Id'].size*1.0)/(filtered_data['Id'].size*1.0)*100"
      ],
      "execution_count": 0,
      "outputs": []
    },
    {
      "metadata": {
        "_uuid": "d43a79cc8431e5d31afab83038a83f35681ff6fc",
        "id": "9XVNY0Fw5NNW",
        "colab_type": "text"
      },
      "cell_type": "markdown",
      "source": [
        "<b>Observation:-</b> It was also seen that in two rows given below the value of HelpfulnessNumerator is greater than HelpfulnessDenominator which is not practically possible hence these two rows too are removed from calcualtions"
      ]
    },
    {
      "metadata": {
        "trusted": true,
        "_uuid": "c6cc9b8e1b83d965bb7e5e97d04a34830beb8d3e",
        "id": "lERiI4DF5NNZ",
        "colab_type": "code",
        "colab": {}
      },
      "cell_type": "code",
      "source": [
        "display= pd.read_sql_query(\"\"\"\n",
        "SELECT *\n",
        "FROM Reviews\n",
        "WHERE Score != 3 AND Id=44737 OR Id=64422\n",
        "ORDER BY ProductID\n",
        "\"\"\", con)\n",
        "\n",
        "display.head()"
      ],
      "execution_count": 0,
      "outputs": []
    },
    {
      "metadata": {
        "trusted": true,
        "_uuid": "92de04e368aec0e3cd04916d73c0f3ca3a5c339d",
        "id": "DApdJLTt5NNj",
        "colab_type": "code",
        "colab": {}
      },
      "cell_type": "code",
      "source": [
        "final=final[final.HelpfulnessNumerator<=final.HelpfulnessDenominator]"
      ],
      "execution_count": 0,
      "outputs": []
    },
    {
      "metadata": {
        "trusted": true,
        "_uuid": "f9bce4109754940d1d8aedec9ede55a06f747bc1",
        "id": "uTaaQdiB5NNr",
        "colab_type": "code",
        "colab": {}
      },
      "cell_type": "code",
      "source": [
        "#Before starting the next phase of preprocessing lets see the number of entries left\n",
        "print(final.shape)\n",
        "\n",
        "#How many positive and negative reviews are present in our dataset?\n",
        "final['Score'].value_counts()"
      ],
      "execution_count": 0,
      "outputs": []
    },
    {
      "metadata": {
        "_uuid": "aca650abc89b5004713bee0ee1efe7cde6838154",
        "id": "cb5ypLJ25NNx",
        "colab_type": "text"
      },
      "cell_type": "markdown",
      "source": [
        "#  [3] Preprocessing"
      ]
    },
    {
      "metadata": {
        "_uuid": "da85f4b20e25574f07a92b1a18001852d4cf8405",
        "id": "laoDMw265NN1",
        "colab_type": "text"
      },
      "cell_type": "markdown",
      "source": [
        "## [3.1].  Preprocessing Review Text\n",
        "\n",
        "Now that we have finished deduplication our data requires some preprocessing before we go on further with analysis and making the prediction model.\n",
        "\n",
        "Hence in the Preprocessing phase we do the following in the order below:-\n",
        "\n",
        "1. Begin by removing the html tags\n",
        "2. Remove any punctuations or limited set of special characters like , or . or # etc.\n",
        "3. Check if the word is made up of english letters and is not alpha-numeric\n",
        "4. Check to see if the length of the word is greater than 2 (as it was researched that there is no adjective in 2-letters)\n",
        "5. Convert the word to lowercase\n",
        "6. Remove Stopwords\n",
        "7. Finally Snowball Stemming the word (it was obsereved to be better than Porter Stemming)<br>\n",
        "\n",
        "After which we collect the words used to describe positive and negative reviews"
      ]
    },
    {
      "metadata": {
        "trusted": true,
        "_uuid": "25547d9366d6f15faa062e03191c80519c64097f",
        "id": "vyNpw0eF5NN3",
        "colab_type": "code",
        "colab": {}
      },
      "cell_type": "code",
      "source": [
        "# printing some random reviews\n",
        "sent_0 = final['Text'].values[0]\n",
        "print(sent_0)\n",
        "print(\"=\"*50)\n",
        "\n",
        "sent_1000 = final['Text'].values[1000]\n",
        "print(sent_1000)\n",
        "print(\"=\"*50)\n",
        "\n",
        "sent_1500 = final['Text'].values[1500]\n",
        "print(sent_1500)\n",
        "print(\"=\"*50)\n",
        "\n",
        "sent_4900 = final['Text'].values[4900]\n",
        "print(sent_4900)\n",
        "print(\"=\"*50)"
      ],
      "execution_count": 0,
      "outputs": []
    },
    {
      "metadata": {
        "trusted": true,
        "_uuid": "27a8a829de0afd69ab90c4b85e9cc366f2ac7f13",
        "id": "LN1bVD_95NOA",
        "colab_type": "code",
        "colab": {}
      },
      "cell_type": "code",
      "source": [
        "# remove urls from text python: https://stackoverflow.com/a/40823105/4084039\n",
        "sent_0 = re.sub(r\"http\\S+\", \"\", sent_0)\n",
        "sent_1000 = re.sub(r\"http\\S+\", \"\", sent_1000)\n",
        "sent_150 = re.sub(r\"http\\S+\", \"\", sent_1500)\n",
        "sent_4900 = re.sub(r\"http\\S+\", \"\", sent_4900)\n",
        "\n",
        "print(sent_0)"
      ],
      "execution_count": 0,
      "outputs": []
    },
    {
      "metadata": {
        "trusted": true,
        "_uuid": "03e1218997cabaaa9407d39d5daf14e0f840bc75",
        "id": "gbvdUiRy5NOM",
        "colab_type": "code",
        "colab": {}
      },
      "cell_type": "code",
      "source": [
        "# https://stackoverflow.com/questions/16206380/python-beautifulsoup-how-to-remove-all-tags-from-an-element\n",
        "from bs4 import BeautifulSoup\n",
        "\n",
        "soup = BeautifulSoup(sent_0, 'lxml')\n",
        "text = soup.get_text()\n",
        "print(text)\n",
        "print(\"=\"*50)\n",
        "\n",
        "soup = BeautifulSoup(sent_1000, 'lxml')\n",
        "text = soup.get_text()\n",
        "print(text)\n",
        "print(\"=\"*50)\n",
        "\n",
        "soup = BeautifulSoup(sent_1500, 'lxml')\n",
        "text = soup.get_text()\n",
        "print(text)\n",
        "print(\"=\"*50)\n",
        "\n",
        "soup = BeautifulSoup(sent_4900, 'lxml')\n",
        "text = soup.get_text()\n",
        "print(text)"
      ],
      "execution_count": 0,
      "outputs": []
    },
    {
      "metadata": {
        "trusted": true,
        "_uuid": "952edb11b4af5daadff9324be68675c94e808ae3",
        "id": "rKu5ZZYg5NOY",
        "colab_type": "code",
        "colab": {}
      },
      "cell_type": "code",
      "source": [
        "# https://stackoverflow.com/a/47091490/4084039\n",
        "import re\n",
        "\n",
        "def decontracted(phrase):\n",
        "    # specific\n",
        "    phrase = re.sub(r\"won't\", \"will not\", phrase)\n",
        "    phrase = re.sub(r\"can\\'t\", \"can not\", phrase)\n",
        "\n",
        "    # general\n",
        "    phrase = re.sub(r\"n\\'t\", \" not\", phrase)\n",
        "    phrase = re.sub(r\"\\'re\", \" are\", phrase)\n",
        "    phrase = re.sub(r\"\\'s\", \" is\", phrase)\n",
        "    phrase = re.sub(r\"\\'d\", \" would\", phrase)\n",
        "    phrase = re.sub(r\"\\'ll\", \" will\", phrase)\n",
        "    phrase = re.sub(r\"\\'t\", \" not\", phrase)\n",
        "    phrase = re.sub(r\"\\'ve\", \" have\", phrase)\n",
        "    phrase = re.sub(r\"\\'m\", \" am\", phrase)\n",
        "    return phrase"
      ],
      "execution_count": 0,
      "outputs": []
    },
    {
      "metadata": {
        "trusted": true,
        "_uuid": "36504221df64c88cb03cad3cdf41bbfb3061fc94",
        "id": "Z68YuJY45NOh",
        "colab_type": "code",
        "colab": {}
      },
      "cell_type": "code",
      "source": [
        "sent_1500 = decontracted(sent_1500)\n",
        "print(sent_1500)\n",
        "print(\"=\"*50)"
      ],
      "execution_count": 0,
      "outputs": []
    },
    {
      "metadata": {
        "trusted": true,
        "_uuid": "7ef1c1b3f008008b6424421916d3512e86c8248e",
        "id": "uA_xJsSQ5NOn",
        "colab_type": "code",
        "colab": {}
      },
      "cell_type": "code",
      "source": [
        "#remove words with numbers python: https://stackoverflow.com/a/18082370/4084039\n",
        "sent_0 = re.sub(\"\\S*\\d\\S*\", \"\", sent_0).strip()\n",
        "print(sent_0)"
      ],
      "execution_count": 0,
      "outputs": []
    },
    {
      "metadata": {
        "trusted": true,
        "_uuid": "1a572ff4433023055b64bc2b90ba6971897d1348",
        "id": "MhJMbJj-5NOu",
        "colab_type": "code",
        "colab": {}
      },
      "cell_type": "code",
      "source": [
        "#remove spacial character: https://stackoverflow.com/a/5843547/4084039\n",
        "sent_1500 = re.sub('[^A-Za-z0-9]+', ' ', sent_1500)\n",
        "print(sent_1500)"
      ],
      "execution_count": 0,
      "outputs": []
    },
    {
      "metadata": {
        "trusted": true,
        "_uuid": "64e19515baf0359045d4af07eea6dcd531ae167c",
        "id": "Mdz8zbtt5NO1",
        "colab_type": "code",
        "colab": {}
      },
      "cell_type": "code",
      "source": [
        "# https://gist.github.com/sebleier/554280\n",
        "# we are removing the words from the stop words list: 'no', 'nor', 'not'\n",
        "# <br /><br /> ==> after the above steps, we are getting \"br br\"\n",
        "# we are including them into stop words list\n",
        "# instead of <br /> if we have <br/> these tags would have revmoved in the 1st step\n",
        "\n",
        "stopwords= set(['br', 'the', 'i', 'me', 'my', 'myself', 'we', 'our', 'ours', 'ourselves', 'you', \"you're\", \"you've\",\\\n",
        "            \"you'll\", \"you'd\", 'your', 'yours', 'yourself', 'yourselves', 'he', 'him', 'his', 'himself', \\\n",
        "            'she', \"she's\", 'her', 'hers', 'herself', 'it', \"it's\", 'its', 'itself', 'they', 'them', 'their',\\\n",
        "            'theirs', 'themselves', 'what', 'which', 'who', 'whom', 'this', 'that', \"that'll\", 'these', 'those', \\\n",
        "            'am', 'is', 'are', 'was', 'were', 'be', 'been', 'being', 'have', 'has', 'had', 'having', 'do', 'does', \\\n",
        "            'did', 'doing', 'a', 'an', 'the', 'and', 'but', 'if', 'or', 'because', 'as', 'until', 'while', 'of', \\\n",
        "            'at', 'by', 'for', 'with', 'about', 'against', 'between', 'into', 'through', 'during', 'before', 'after',\\\n",
        "            'above', 'below', 'to', 'from', 'up', 'down', 'in', 'out', 'on', 'off', 'over', 'under', 'again', 'further',\\\n",
        "            'then', 'once', 'here', 'there', 'when', 'where', 'why', 'how', 'all', 'any', 'both', 'each', 'few', 'more',\\\n",
        "            'most', 'other', 'some', 'such', 'only', 'own', 'same', 'so', 'than', 'too', 'very', \\\n",
        "            's', 't', 'can', 'will', 'just', 'don', \"don't\", 'should', \"should've\", 'now', 'd', 'll', 'm', 'o', 're', \\\n",
        "            've', 'y', 'ain', 'aren', \"aren't\", 'couldn', \"couldn't\", 'didn', \"didn't\", 'doesn', \"doesn't\", 'hadn',\\\n",
        "            \"hadn't\", 'hasn', \"hasn't\", 'haven', \"haven't\", 'isn', \"isn't\", 'ma', 'mightn', \"mightn't\", 'mustn',\\\n",
        "            \"mustn't\", 'needn', \"needn't\", 'shan', \"shan't\", 'shouldn', \"shouldn't\", 'wasn', \"wasn't\", 'weren', \"weren't\", \\\n",
        "            'won', \"won't\", 'wouldn', \"wouldn't\"])"
      ],
      "execution_count": 0,
      "outputs": []
    },
    {
      "metadata": {
        "trusted": true,
        "_uuid": "5804cdd3d76517174338b271483bf7399f49f63c",
        "id": "KFk7yeQy5NO7",
        "colab_type": "code",
        "colab": {}
      },
      "cell_type": "code",
      "source": [
        "# Combining all the above stundents \n",
        "from tqdm import tqdm\n",
        "preprocessed_reviews = []\n",
        "# tqdm is for printing the status bar\n",
        "for sentance in tqdm(final['Text'].values):\n",
        "    sentance = re.sub(r\"http\\S+\", \"\", sentance)\n",
        "    sentance = BeautifulSoup(sentance, 'lxml').get_text()\n",
        "    sentance = decontracted(sentance)\n",
        "    sentance = re.sub(\"\\S*\\d\\S*\", \"\", sentance).strip()\n",
        "    sentance = re.sub('[^A-Za-z]+', ' ', sentance)\n",
        "    # https://gist.github.com/sebleier/554280\n",
        "    sentance = ' '.join(e.lower() for e in sentance.split() if e.lower() not in stopwords)\n",
        "    preprocessed_reviews.append(sentance.strip())"
      ],
      "execution_count": 0,
      "outputs": []
    },
    {
      "metadata": {
        "trusted": true,
        "_uuid": "28c6e884dbd5cb827fcc8e53cf21de7419d51958",
        "id": "maXutN-m5NPB",
        "colab_type": "code",
        "colab": {}
      },
      "cell_type": "code",
      "source": [
        "preprocessed_reviews[1500]"
      ],
      "execution_count": 0,
      "outputs": []
    },
    {
      "metadata": {
        "_uuid": "a748cc2abd819004724f1cbaeea101402851db5b",
        "id": "iVzTBnGV5NPI",
        "colab_type": "text"
      },
      "cell_type": "markdown",
      "source": [
        "<h2><font color='red'>[3.2] Preprocessing Review Summary</font></h2>"
      ]
    },
    {
      "metadata": {
        "trusted": true,
        "_uuid": "091ddbb709f664c2a1bde70e91b46c70aa26c6f5",
        "id": "AK04x4n05NPM",
        "colab_type": "code",
        "colab": {}
      },
      "cell_type": "code",
      "source": [
        "# splitting data train, cv and test\n",
        "# train,cv, test split(60:20:20)\n",
        "X_train = preprocessed_reviews[:int(len(preprocessed_reviews)*0.6)]\n",
        "y_train = final['Score'][:int(len(preprocessed_reviews)*0.6)]\n",
        "\n",
        "X_cv = preprocessed_reviews[int(len(preprocessed_reviews)*0.6):int(len(preprocessed_reviews)*0.8)]\n",
        "y_cv = final['Score'][int(len(preprocessed_reviews)*0.6):int(len(preprocessed_reviews)*0.8)]\n",
        "\n",
        "X_test = preprocessed_reviews[int(len(preprocessed_reviews)*0.8):]\n",
        "y_test = final['Score'][int(len(preprocessed_reviews)*0.8):]\n",
        "\n",
        "print ('training set :', len(X_train))\n",
        "print ('cross-validation set:',len(X_cv))\n",
        "print('test set', len(X_test))\n",
        "print (X_train[:2])\n"
      ],
      "execution_count": 0,
      "outputs": []
    },
    {
      "metadata": {
        "trusted": true,
        "_uuid": "2409c6fe9540e03954425b791624c058e11cdd25",
        "id": "SwuajXlc5NPV",
        "colab_type": "code",
        "colab": {}
      },
      "cell_type": "code",
      "source": [
        ""
      ],
      "execution_count": 0,
      "outputs": []
    },
    {
      "metadata": {
        "trusted": true,
        "_uuid": "6f1f80474b5f9f70c9692156f32069d2d91a4cbe",
        "id": "Y9JIcKEZ5NPb",
        "colab_type": "code",
        "colab": {}
      },
      "cell_type": "code",
      "source": [
        ""
      ],
      "execution_count": 0,
      "outputs": []
    },
    {
      "metadata": {
        "trusted": true,
        "_uuid": "12001af8051e35df2f4041ca1fffe66088881db8",
        "id": "CdjLwuh-5NPh",
        "colab_type": "code",
        "colab": {}
      },
      "cell_type": "code",
      "source": [
        ""
      ],
      "execution_count": 0,
      "outputs": []
    },
    {
      "metadata": {
        "trusted": true,
        "_uuid": "2cf748ca7ced9b4e7b1f0b2168856e4aea88c037",
        "id": "Ft919Vr55NPm",
        "colab_type": "code",
        "colab": {}
      },
      "cell_type": "code",
      "source": [
        ""
      ],
      "execution_count": 0,
      "outputs": []
    },
    {
      "metadata": {
        "trusted": true,
        "_uuid": "10d9feea86d80d47acf74eabb24dcac27b162db4",
        "id": "tZZNFRf95NP0",
        "colab_type": "code",
        "colab": {}
      },
      "cell_type": "code",
      "source": [
        ""
      ],
      "execution_count": 0,
      "outputs": []
    },
    {
      "metadata": {
        "_uuid": "8a986ecd6ab85789afcc179e517f06cf5d3d295d",
        "id": "kPnOxZyr5NP7",
        "colab_type": "text"
      },
      "cell_type": "markdown",
      "source": [
        "# [4] Featurization"
      ]
    },
    {
      "metadata": {
        "_uuid": "59cf4a3fc89ed754792ebf1dd7bac86d7fcf94ec",
        "id": "FoFLrlqS5NP-",
        "colab_type": "text"
      },
      "cell_type": "markdown",
      "source": [
        "## [4.1] BAG OF WORDS"
      ]
    },
    {
      "metadata": {
        "trusted": true,
        "_uuid": "544c8c516139681a54e337a1445b623b05cc6e3b",
        "id": "eLzIFpca5NQB",
        "colab_type": "code",
        "colab": {},
        "outputId": "a19a7c10-3078-48c5-f50f-b122bfdb1926"
      },
      "cell_type": "code",
      "source": [
        "#BoW\n",
        "count_vect = CountVectorizer() #in scikit-learn\n",
        "model_bow = count_vect.fit(X_train)\n",
        "print(\"some feature names \", count_vect.get_feature_names()[:10])\n",
        "print('='*50)\n",
        "\n",
        "X_train_bow = count_vect.transform(X_train)\n",
        "print(\"the type of count vectorizer \",type(X_train_bow))\n",
        "print(\"the shape of out text BOW vectorizer \",X_train_bow.get_shape())\n",
        "print(\"the number of unique words \", X_train_bow.get_shape()[1])\n",
        "\n",
        "\n",
        "X_cv_bow = count_vect.transform(X_cv)\n",
        "print(\"the type of count vectorizer \",type(X_cv_bow))\n",
        "print(\"the shape of out text BOW vectorizer \",X_cv_bow.get_shape())\n",
        "print(\"the number of unique words \", X_cv_bow.get_shape()[1])\n",
        "\n",
        "\n",
        "X_test_bow = count_vect.transform(X_test)\n",
        "print(\"the type of count vectorizer \",type(X_test_bow))\n",
        "print(\"the shape of out text BOW vectorizer \",X_test_bow.get_shape())\n",
        "print(\"the number of unique words \", X_test_bow.get_shape()[1])"
      ],
      "execution_count": 0,
      "outputs": [
        {
          "output_type": "stream",
          "text": [
            "some feature names  ['aa', 'aaaa', 'aaaaaaaaaaaa', 'aaaaaaaaaaaaaaa', 'aaaaah', 'aaaand', 'aachen', 'aadp', 'aafco', 'aahs']\n",
            "==================================================\n",
            "the type of count vectorizer  <class 'scipy.sparse.csr.csr_matrix'>\n",
            "the shape of out text BOW vectorizer  (27642, 30974)\n",
            "the number of unique words  30974\n",
            "the type of count vectorizer  <class 'scipy.sparse.csr.csr_matrix'>\n",
            "the shape of out text BOW vectorizer  (9214, 30974)\n",
            "the number of unique words  30974\n",
            "the type of count vectorizer  <class 'scipy.sparse.csr.csr_matrix'>\n",
            "the shape of out text BOW vectorizer  (9215, 30974)\n",
            "the number of unique words  30974\n"
          ],
          "name": "stdout"
        }
      ]
    },
    {
      "metadata": {
        "_uuid": "fb72466cc71daf168ca2d90a04a56edeaa2314a2",
        "id": "b1043fyD5NQJ",
        "colab_type": "text"
      },
      "cell_type": "markdown",
      "source": [
        "## [4.2] Bi-Grams and n-Grams."
      ]
    },
    {
      "metadata": {
        "trusted": true,
        "_uuid": "f426492afdc7a51622e7e1efe8c8d018d649d427",
        "id": "CXr_zxiu5NQK",
        "colab_type": "code",
        "colab": {}
      },
      "cell_type": "code",
      "source": [
        "#bi-gram, tri-gram and n-gram\n",
        "\n",
        "#removing stop words like \"not\" should be avoided before building n-grams\n",
        "# count_vect = CountVectorizer(ngram_range=(1,2))\n",
        "# please do read the CountVectorizer documentation http://scikit-learn.org/stable/modules/generated/sklearn.feature_extraction.text.CountVectorizer.html\n",
        "\n",
        "# you can choose these numebrs min_df=10, max_features=5000, of your choice\n",
        "count_vect = CountVectorizer(ngram_range=(1,2), min_df=10, max_features=5000)\n",
        "X_train_bigrams = count_vect.fit_transform(X_train)\n",
        "print(\"the type of count vectorizer \",type(X_train_bigrams))\n",
        "print(\"the shape of out text BOW vectorizer \",X_train_bigrams.get_shape())\n",
        "print(\"the number of unique words including both unigrams and bigrams \", X_train_bigrams.get_shape()[1])\n",
        "print ('='*50)\n",
        "X_cv_bigrams = count_vect.transform(X_cv)\n",
        "print(\"the type of count vectorizer \",type(X_cv_bigrams))\n",
        "print(\"the shape of out text BOW vectorizer \",X_cv_bigrams.get_shape())\n",
        "print(\"the number of unique words including both unigrams and bigrams \", X_cv_bigrams.get_shape()[1])\n",
        "print ('='*50)\n",
        "X_test_bigrams = count_vect.transform(X_test)\n",
        "print(\"the type of count vectorizer \",type(X_test_bigrams))\n",
        "print(\"the shape of out text BOW vectorizer \",X_test_bigrams.get_shape())\n",
        "print(\"the number of unique words including both unigrams and bigrams \", X_test_bigrams.get_shape()[1])"
      ],
      "execution_count": 0,
      "outputs": []
    },
    {
      "metadata": {
        "_uuid": "610ca02fd2e28dc5e71aef4e740de342065a8dd7",
        "id": "16Nzn3kW5NQP",
        "colab_type": "text"
      },
      "cell_type": "markdown",
      "source": [
        "## [4.3] TF-IDF"
      ]
    },
    {
      "metadata": {
        "trusted": true,
        "_uuid": "e8eb444fb4847dff390723fd4140fdfd52a5bcea",
        "id": "LnjavjGD5NQR",
        "colab_type": "code",
        "colab": {},
        "outputId": "8a283f46-4c62-4945-bfe5-5c8b4ab6b167"
      },
      "cell_type": "code",
      "source": [
        "tf_idf_vect = TfidfVectorizer(ngram_range=(1,2), min_df=10)\n",
        "model_tfidf =tf_idf_vect.fit(X_train)\n",
        "print(\"some sample features(unique words in the corpus)\",tf_idf_vect.get_feature_names()[0:10])\n",
        "print('='*50)\n",
        "\n",
        "X_train_tfidf = tf_idf_vect.transform(X_train)\n",
        "print(\"the type of count vectorizer \",type(X_train_tfidf))\n",
        "print(\"the shape of out text TFIDF vectorizer \",X_train_tfidf.get_shape())\n",
        "print(\"the number of unique words including both unigrams and bigrams \", X_train_tfidf.get_shape()[1])\n",
        "print('='*50)\n",
        "X_cv_tfidf = tf_idf_vect.transform(X_cv)\n",
        "print(\"the type of count vectorizer \",type(X_cv_tfidf))\n",
        "print(\"the shape of out text TFIDF vectorizer \",X_cv_tfidf.get_shape())\n",
        "print(\"the number of unique words including both unigrams and bigrams \", X_cv_tfidf.get_shape()[1])\n",
        "print('='*50)\n",
        "X_test_tfidf = tf_idf_vect.transform(X_test)\n",
        "print(\"the type of count vectorizer \",type(X_test_tfidf))\n",
        "print(\"the shape of out text TFIDF vectorizer \",X_test_tfidf.get_shape())\n",
        "print(\"the number of unique words including both unigrams and bigrams \", X_test_tfidf.get_shape()[1])"
      ],
      "execution_count": 0,
      "outputs": [
        {
          "output_type": "stream",
          "text": [
            "some sample features(unique words in the corpus) ['ability', 'able', 'able buy', 'able eat', 'able enjoy', 'able find', 'able get', 'able give', 'able make', 'able order']\n",
            "==================================================\n",
            "the type of count vectorizer  <class 'scipy.sparse.csr.csr_matrix'>\n",
            "the shape of out text TFIDF vectorizer  (27642, 16357)\n",
            "the number of unique words including both unigrams and bigrams  16357\n",
            "==================================================\n",
            "the type of count vectorizer  <class 'scipy.sparse.csr.csr_matrix'>\n",
            "the shape of out text TFIDF vectorizer  (9214, 16357)\n",
            "the number of unique words including both unigrams and bigrams  16357\n",
            "==================================================\n",
            "the type of count vectorizer  <class 'scipy.sparse.csr.csr_matrix'>\n",
            "the shape of out text TFIDF vectorizer  (9215, 16357)\n",
            "the number of unique words including both unigrams and bigrams  16357\n"
          ],
          "name": "stdout"
        }
      ]
    },
    {
      "metadata": {
        "_uuid": "c22639aa50248b79c668b81dd76adcbdc8b24ee9",
        "id": "Bj_4-NNG5NQY",
        "colab_type": "text"
      },
      "cell_type": "markdown",
      "source": [
        "## [4.4] Word2Vec"
      ]
    },
    {
      "metadata": {
        "trusted": true,
        "_uuid": "af485d3eef7ce66a1cfae7751753e6a4159ae530",
        "id": "ivLzELzT5NQZ",
        "colab_type": "code",
        "colab": {}
      },
      "cell_type": "code",
      "source": [
        "# Train your own Word2Vec model using your own text corpus\n",
        "i=0\n",
        "list_of_sentance_train=[]\n",
        "for sentance in X_train:\n",
        "    list_of_sentance_train.append(sentance.split())\n",
        "    \n",
        "list_of_sentance_cv=[]\n",
        "for sentance in X_cv:\n",
        "    list_of_sentance_cv.append(sentance.split())\n",
        "    \n",
        "list_of_sentance_test=[]\n",
        "for sentance in X_test:\n",
        "    list_of_sentance_test.append(sentance.split())"
      ],
      "execution_count": 0,
      "outputs": []
    },
    {
      "metadata": {
        "scrolled": true,
        "trusted": true,
        "_uuid": "70f3dbbd5ebaa487250476659eb259b2abe3816b",
        "id": "aiOIwlvq5NQk",
        "colab_type": "code",
        "colab": {},
        "outputId": "155b52ff-a1e9-4295-ccc9-091331559003"
      },
      "cell_type": "code",
      "source": [
        "# Using Google News Word2Vectors\n",
        "\n",
        "# in this project we are using a pretrained model by google\n",
        "# its 3.3G file, once you load this into your memory \n",
        "# it occupies ~9Gb, so please do this step only if you have >12G of ram\n",
        "# we will provide a pickle file wich contains a dict , \n",
        "# and it contains all our courpus words as keys and  model[word] as values\n",
        "# To use this code-snippet, download \"GoogleNews-vectors-negative300.bin\" \n",
        "# from https://drive.google.com/file/d/0B7XkCwpI5KDYNlNUTTlSS21pQmM/edit\n",
        "# it's 1.9GB in size.\n",
        "\n",
        "\n",
        "# http://kavita-ganesan.com/gensim-word2vec-tutorial-starter-code/#.W17SRFAzZPY\n",
        "# you can comment this whole cell\n",
        "# or change these varible according to your need\n",
        "\n",
        "is_your_ram_gt_16g=False\n",
        "want_to_use_google_w2v = False\n",
        "want_to_train_w2v = True\n",
        "\n",
        "if want_to_train_w2v:\n",
        "    # min_count = 5 considers only words that occured atleast 5 times\n",
        "    w2v_model=Word2Vec(list_of_sentance_train,min_count=5,size=50, workers=4)\n",
        "    print(w2v_model.wv.most_similar('great'))\n",
        "    print('='*50)\n",
        "    print(w2v_model.wv.most_similar('worst'))\n",
        "    \n",
        "elif want_to_use_google_w2v and is_your_ram_gt_16g:\n",
        "    if os.path.isfile('GoogleNews-vectors-negative300.bin'):\n",
        "        w2v_model=KeyedVectors.load_word2vec_format('GoogleNews-vectors-negative300.bin', binary=True)\n",
        "        print(w2v_model.wv.most_similar('great'))\n",
        "        print(w2v_model.wv.most_similar('worst'))\n",
        "    else:\n",
        "        print(\"you don't have gogole's word2vec file, keep want_to_train_w2v = True, to train your own w2v \")"
      ],
      "execution_count": 0,
      "outputs": [
        {
          "output_type": "stream",
          "text": [
            "[('fantastic', 0.8510028123855591), ('awesome', 0.8465115427970886), ('good', 0.832621157169342), ('excellent', 0.813118577003479), ('terrific', 0.8025708794593811), ('amazing', 0.7900035977363586), ('perfect', 0.7870621085166931), ('wonderful', 0.7802210450172424), ('decent', 0.7558706402778625), ('nice', 0.6829219460487366)]\n",
            "==================================================\n",
            "[('best', 0.762111246585846), ('closest', 0.7606121301651001), ('experienced', 0.7583847045898438), ('tastiest', 0.7393225431442261), ('greatest', 0.7317992448806763), ('ive', 0.725967288017273), ('eaten', 0.7165707349777222), ('nastiest', 0.7126070857048035), ('nicest', 0.6966274380683899), ('hottest', 0.6948556900024414)]\n"
          ],
          "name": "stdout"
        }
      ]
    },
    {
      "metadata": {
        "trusted": true,
        "_uuid": "7c6f5874948bd40250c015a47205e7d5ca9573b9",
        "id": "hqtJ55c75NQs",
        "colab_type": "code",
        "colab": {}
      },
      "cell_type": "code",
      "source": [
        "w2v_words = list(w2v_model.wv.vocab)\n",
        "print(\"number of words that occured minimum 5 times \",len(w2v_words))\n",
        "print(\"sample words \", w2v_words[0:50])"
      ],
      "execution_count": 0,
      "outputs": []
    },
    {
      "metadata": {
        "_uuid": "7496fb0896275cc9f22e5071ebc417f706f2b82b",
        "id": "xjKsLp9z5NQ7",
        "colab_type": "text"
      },
      "cell_type": "markdown",
      "source": [
        "## [4.4.1] Converting text into vectors using Avg W2V, TFIDF-W2V"
      ]
    },
    {
      "metadata": {
        "_uuid": "32776061973b1151e8794dd32355ecbd440c2f83",
        "id": "fx_4hJRc5NQ9",
        "colab_type": "text"
      },
      "cell_type": "markdown",
      "source": [
        "#### [4.4.1.1] Avg W2v"
      ]
    },
    {
      "metadata": {
        "trusted": true,
        "_uuid": "1a14c64182158e2661ea155d4ab4b9eff3233cc3",
        "id": "IpmpPlW_5NQ_",
        "colab_type": "code",
        "colab": {},
        "outputId": "e0d7b525-f183-4b76-8295-d2845ad66929"
      },
      "cell_type": "code",
      "source": [
        "# average Word2Vec\n",
        "# compute average word2vec for each review.\n",
        "sent_vectors_train = []; # the avg-w2v for each sentence/review is stored in this list\n",
        "for sent in tqdm(list_of_sentance_train): # for each review/sentence\n",
        "    sent_vec = np.zeros(50) # as word vectors are of zero length 50, you might need to change this to 300 if you use google's w2v\n",
        "    cnt_words =0; # num of words with a valid vector in the sentence/review\n",
        "    for word in sent: # for each word in a review/sentence\n",
        "        if word in w2v_words:\n",
        "            vec = w2v_model.wv[word]\n",
        "            sent_vec += vec\n",
        "            cnt_words += 1\n",
        "    if cnt_words != 0:\n",
        "        sent_vec /= cnt_words\n",
        "    sent_vectors_train.append(sent_vec)\n",
        "print(len(sent_vectors_train))\n",
        "print(len(sent_vectors_train[0]))\n",
        "print ('='*50)\n",
        "sent_vectors_cv = []; # the avg-w2v for each sentence/review is stored in this list\n",
        "for sent in tqdm(list_of_sentance_cv): # for each review/sentence\n",
        "    sent_vec = np.zeros(50) # as word vectors are of zero length 50, you might need to change this to 300 if you use google's w2v\n",
        "    cnt_words =0; # num of words with a valid vector in the sentence/review\n",
        "    for word in sent: # for each word in a review/sentence\n",
        "        if word in w2v_words:\n",
        "            vec = w2v_model.wv[word]\n",
        "            sent_vec += vec\n",
        "            cnt_words += 1\n",
        "    if cnt_words != 0:\n",
        "        sent_vec /= cnt_words\n",
        "    sent_vectors_cv.append(sent_vec)\n",
        "print(len(sent_vectors_cv))\n",
        "print(len(sent_vectors_cv[0]))\n",
        "print ('='*50)\n",
        "sent_vectors_test = []; # the avg-w2v for each sentence/review is stored in this list\n",
        "for sent in tqdm(list_of_sentance_test): # for each review/sentence\n",
        "    sent_vec = np.zeros(50) # as word vectors are of zero length 50, you might need to change this to 300 if you use google's w2v\n",
        "    cnt_words =0; # num of words with a valid vector in the sentence/review\n",
        "    for word in sent: # for each word in a review/sentence\n",
        "        if word in w2v_words:\n",
        "            vec = w2v_model.wv[word]\n",
        "            sent_vec += vec\n",
        "            cnt_words += 1\n",
        "    if cnt_words != 0:\n",
        "        sent_vec /= cnt_words\n",
        "    sent_vectors_test.append(sent_vec)\n",
        "print(len(sent_vectors_test))\n",
        "print(len(sent_vectors_test[0]))"
      ],
      "execution_count": 0,
      "outputs": [
        {
          "output_type": "stream",
          "text": [
            "100%|██████████| 27642/27642 [00:53<00:00, 520.35it/s]\n",
            "  1%|          | 55/9214 [00:00<00:17, 531.35it/s]"
          ],
          "name": "stderr"
        },
        {
          "output_type": "stream",
          "text": [
            "27642\n",
            "50\n",
            "==================================================\n"
          ],
          "name": "stdout"
        },
        {
          "output_type": "stream",
          "text": [
            "100%|██████████| 9214/9214 [00:17<00:00, 526.11it/s]\n",
            "  0%|          | 31/9215 [00:00<00:29, 308.21it/s]"
          ],
          "name": "stderr"
        },
        {
          "output_type": "stream",
          "text": [
            "9214\n",
            "50\n",
            "==================================================\n"
          ],
          "name": "stdout"
        },
        {
          "output_type": "stream",
          "text": [
            "100%|██████████| 9215/9215 [00:18<00:00, 485.56it/s]"
          ],
          "name": "stderr"
        },
        {
          "output_type": "stream",
          "text": [
            "9215\n",
            "50\n"
          ],
          "name": "stdout"
        },
        {
          "output_type": "stream",
          "text": [
            "\n"
          ],
          "name": "stderr"
        }
      ]
    },
    {
      "metadata": {
        "_uuid": "9dca13609d5ca71ddcf038ba4ab16a9486983af4",
        "id": "RbFJ0SnI5NRI",
        "colab_type": "text"
      },
      "cell_type": "markdown",
      "source": [
        "#### [4.4.1.2] TFIDF weighted W2v"
      ]
    },
    {
      "metadata": {
        "trusted": true,
        "_uuid": "e41a47021852ef70b00b682eea482270f07ddf96",
        "id": "WZtp-2Ed5NRL",
        "colab_type": "code",
        "colab": {}
      },
      "cell_type": "code",
      "source": [
        "# S = [\"abc def pqr\", \"def def def abc\", \"pqr pqr def\"]\n",
        "model = TfidfVectorizer()\n",
        "tf_idf_matrix = model.fit_transform(X_train)\n",
        "# we are converting a dictionary with word as a key, and the idf as a value\n",
        "dictionary = dict(zip(model.get_feature_names(), list(model.idf_)))"
      ],
      "execution_count": 0,
      "outputs": []
    },
    {
      "metadata": {
        "scrolled": true,
        "trusted": true,
        "_uuid": "79eeb2a18c31de2b359c4947591864d58be19018",
        "id": "HYAfpFPs5NRR",
        "colab_type": "code",
        "colab": {},
        "outputId": "693e86cd-5e0d-4807-a529-68097ffdd32e"
      },
      "cell_type": "code",
      "source": [
        "# TF-IDF weighted Word2Vec\n",
        "tfidf_feat = model.get_feature_names() # tfidf words/col-names\n",
        "# final_tf_idf is the sparse matrix with row= sentence, col=word and cell_val = tfidf\n",
        "\n",
        "tfidf_sent_vectors_train = []; # the tfidf-w2v for each sentence/review is stored in this list\n",
        "row=0;\n",
        "for sent in tqdm(list_of_sentance_train): # for each review/sentence \n",
        "    sent_vec = np.zeros(50) # as word vectors are of zero length\n",
        "    weight_sum =0; # num of words with a valid vector in the sentence/review\n",
        "    for word in sent: # for each word in a review/sentence\n",
        "        if word in w2v_words and word in tfidf_feat:\n",
        "            vec = w2v_model.wv[word]\n",
        "#             tf_idf = tf_idf_matrix[row, tfidf_feat.index(word)]\n",
        "            # to reduce the computation we are \n",
        "            # dictionary[word] = idf value of word in whole courpus\n",
        "            # sent.count(word) = tf valeus of word in this review\n",
        "            tf_idf = dictionary[word]*(sent.count(word)/len(sent))\n",
        "            sent_vec += (vec * tf_idf)\n",
        "            weight_sum += tf_idf\n",
        "    if weight_sum != 0:\n",
        "        sent_vec /= weight_sum\n",
        "    tfidf_sent_vectors_train.append(sent_vec)\n",
        "    row += 1\n",
        "print (len(tfidf_sent_vectors_train))\n",
        "print (len(tfidf_sent_vectors_train[0]))\n",
        "print ('='*50)  \n",
        "tfidf_sent_vectors_cv = []; # the tfidf-w2v for each sentence/review is stored in this list\n",
        "row=0;\n",
        "for sent in tqdm(list_of_sentance_cv): # for each review/sentence \n",
        "    sent_vec = np.zeros(50) # as word vectors are of zero length\n",
        "    weight_sum =0; # num of words with a valid vector in the sentence/review\n",
        "    for word in sent: # for each word in a review/sentence\n",
        "        if word in w2v_words and word in tfidf_feat:\n",
        "            vec = w2v_model.wv[word]\n",
        "#             tf_idf = tf_idf_matrix[row, tfidf_feat.index(word)]\n",
        "            # to reduce the computation we are \n",
        "            # dictionary[word] = idf value of word in whole courpus\n",
        "            # sent.count(word) = tf valeus of word in this review\n",
        "            tf_idf = dictionary[word]*(sent.count(word)/len(sent))\n",
        "            sent_vec += (vec * tf_idf)\n",
        "            weight_sum += tf_idf\n",
        "    if weight_sum != 0:\n",
        "        sent_vec /= weight_sum\n",
        "    tfidf_sent_vectors_cv.append(sent_vec)\n",
        "    row += 1\n",
        "print (len(tfidf_sent_vectors_cv))\n",
        "print (len(tfidf_sent_vectors_cv[0]))\n",
        "print ('='*50)    \n",
        "tfidf_sent_vectors_test = []; # the tfidf-w2v for each sentence/review is stored in this list\n",
        "row=0;\n",
        "for sent in tqdm(list_of_sentance_test): # for each review/sentence \n",
        "    sent_vec = np.zeros(50) # as word vectors are of zero length\n",
        "    weight_sum =0; # num of words with a valid vector in the sentence/review\n",
        "    for word in sent: # for each word in a review/sentence\n",
        "        if word in w2v_words and word in tfidf_feat:\n",
        "            vec = w2v_model.wv[word]\n",
        "#             tf_idf = tf_idf_matrix[row, tfidf_feat.index(word)]\n",
        "            # to reduce the computation we are \n",
        "            # dictionary[word] = idf value of word in whole courpus\n",
        "            # sent.count(word) = tf valeus of word in this review\n",
        "            tf_idf = dictionary[word]*(sent.count(word)/len(sent))\n",
        "            sent_vec += (vec * tf_idf)\n",
        "            weight_sum += tf_idf\n",
        "    if weight_sum != 0:\n",
        "        sent_vec /= weight_sum\n",
        "    tfidf_sent_vectors_test.append(sent_vec)\n",
        "    row += 1\n",
        "print (len(tfidf_sent_vectors_test))\n",
        "print (len(tfidf_sent_vectors_test[0]))"
      ],
      "execution_count": 0,
      "outputs": [
        {
          "output_type": "stream",
          "text": [
            "100%|██████████| 27642/27642 [08:55<00:00, 51.62it/s]\n",
            "  0%|          | 13/9214 [00:00<02:46, 55.29it/s]"
          ],
          "name": "stderr"
        },
        {
          "output_type": "stream",
          "text": [
            "27642\n",
            "50\n",
            "==================================================\n"
          ],
          "name": "stdout"
        },
        {
          "output_type": "stream",
          "text": [
            "100%|██████████| 9214/9214 [02:55<00:00, 52.63it/s]\n",
            "  0%|          | 7/9215 [00:00<06:28, 23.67it/s]"
          ],
          "name": "stderr"
        },
        {
          "output_type": "stream",
          "text": [
            "9214\n",
            "50\n",
            "==================================================\n"
          ],
          "name": "stdout"
        },
        {
          "output_type": "stream",
          "text": [
            "100%|██████████| 9215/9215 [03:01<00:00, 50.11it/s] "
          ],
          "name": "stderr"
        },
        {
          "output_type": "stream",
          "text": [
            "9215\n",
            "50\n"
          ],
          "name": "stdout"
        },
        {
          "output_type": "stream",
          "text": [
            "\n"
          ],
          "name": "stderr"
        }
      ]
    },
    {
      "metadata": {
        "_uuid": "289c54a038596037dd5035f1ebf283d4b521458b",
        "id": "5Cxer06b5NRZ",
        "colab_type": "text"
      },
      "cell_type": "markdown",
      "source": [
        "# [5] Assignment 5: Apply Logistic Regression"
      ]
    },
    {
      "metadata": {
        "_uuid": "03ef94255e76dcca78f6572ea4f8c184c038c697",
        "id": "ijXdhSGG5NRb",
        "colab_type": "text"
      },
      "cell_type": "markdown",
      "source": [
        "<ol>\n",
        "    <li><strong>Apply Logistic Regression on these feature sets</strong>\n",
        "        <ul>\n",
        "            <li><font color='red'>SET 1:</font>Review text, preprocessed one converted into vectors using (BOW)</li>\n",
        "            <li><font color='red'>SET 2:</font>Review text, preprocessed one converted into vectors using (TFIDF)</li>\n",
        "            <li><font color='red'>SET 3:</font>Review text, preprocessed one converted into vectors using (AVG W2v)</li>\n",
        "            <li><font color='red'>SET 4:</font>Review text, preprocessed one converted into vectors using (TFIDF W2v)</li>\n",
        "        </ul>\n",
        "    </li>\n",
        "    <br>\n",
        "    <li><strong>Hyper paramter tuning (find best hyper parameters corresponding the algorithm that you choose)</strong>\n",
        "        <ul>\n",
        "    <li>Find the best hyper parameter which will give the maximum <a href='https://www.appliedaicourse.com/course/applied-ai-course-online/lessons/receiver-operating-characteristic-curve-roc-curve-and-auc-1/'>AUC</a> value</li>\n",
        "    <li>Find the best hyper paramter using k-fold cross validation or simple cross validation data</li>\n",
        "    <li>Use gridsearch cv or randomsearch cv or you can also write your own for loops to do this task of hyperparameter tuning</li>          \n",
        "        </ul>\n",
        "    </li>\n",
        "    <br>\n",
        "    <li><strong>Pertubation Test</strong>\n",
        "        <ul>\n",
        "    <li>Get the weights W after fit your model with the data X.</li>\n",
        "    <li>Add a noise to the X (X' = X + e) and get the new data set X' (if X is a sparse\n",
        "matrix, X.data+=e)</li>\n",
        "    <li>Fit the model again on data X' and get the weights W'</li>\n",
        "    <li>Add a small eps value(to eliminate the divisible by zero error) to W and W’ i.e\n",
        "W=W+10^-6 and W’ = W’+10^-6</li>\n",
        "    <li>Now find the % change between W and W' (| (W-W') / (W) |)*100)</li>\n",
        "    <li>Calculate the 0th, 10th, 20th, 30th, ...100th percentiles, and observe any sudden rise in the values of percentage_change_vector</li>\n",
        "    <li> Ex: consider your 99th percentile is 1.3 and your 100th percentiles are 34.6, there is sudden rise from 1.3 to 34.6, now calculate the 99.1, 99.2, 99.3,..., 100th percentile values and get the proper value after which there is sudden rise the values, assume it is 2.5</li>\n",
        "            <li> Print the feature names whose % change is more than a threshold x(in our example it's 2.5)</li>\n",
        "        </ul>\n",
        "    </li>\n",
        "    <br>\n",
        "    <li><strong>Sparsity</strong>\n",
        "        <ul>\n",
        "    <li>Calculate sparsity on weight vector obtained after using L1 regularization</li>\n",
        "        </ul>\n",
        "    </li>\n",
        "    <br><font color='red'>NOTE: Do sparsity and multicollinearity for any one of the vectorizers. Bow or tf-idf is recommended.</font>\n",
        "    <br>\n",
        "    <br>\n",
        "    <li><strong>Feature importance</strong>\n",
        "        <ul>\n",
        "    <li>Get top 10 important features for both positive and negative classes separately.</li>\n",
        "        </ul>\n",
        "    </li>\n",
        "    <br>\n",
        "    <li><strong>Feature engineering</strong>\n",
        "        <ul>\n",
        "    <li>To increase the performance of your model, you can also experiment with with feature engineering like :</li>\n",
        "            <ul>\n",
        "            <li>Taking length of reviews as another feature.</li>\n",
        "            <li>Considering some features from review summary as well.</li>\n",
        "        </ul>\n",
        "        </ul>\n",
        "    </li>\n",
        "    <br>\n",
        "    <li><strong>Representation of results</strong>\n",
        "        <ul>\n",
        "    <li>You need to plot the performance of model both on train data and cross validation data for each hyper parameter, like shown in the figure.\n",
        "    <img src='train_cv_auc.JPG' width=300px></li>\n",
        "    <li>Once after you found the best hyper parameter, you need to train your model with it, and find the AUC on test data and plot the ROC curve on both train and test.\n",
        "    <img src='train_test_auc.JPG' width=300px></li>\n",
        "    <li>Along with plotting ROC curve, you need to print the <a href='https://www.appliedaicourse.com/course/applied-ai-course-online/lessons/confusion-matrix-tpr-fpr-fnr-tnr-1/'>confusion matrix</a> with predicted and original labels of test data points. Please visualize your confusion matrices using <a href='https://seaborn.pydata.org/generated/seaborn.heatmap.html'>seaborn heatmaps.\n",
        "    <img src='confusion_matrix.png' width=300px></li>\n",
        "        </ul>\n",
        "    </li>\n",
        "    <br>\n",
        "    <li><strong>Conclusion</strong>\n",
        "        <ul>\n",
        "    <li>You need to summarize the results at the end of the notebook, summarize it in the table format. To print out a table please refer to this prettytable library<a href='http://zetcode.com/python/prettytable/'>  link</a> \n",
        "        <img src='summary.JPG' width=400px>\n",
        "    </li>\n",
        "        </ul>\n",
        "</ol>"
      ]
    },
    {
      "metadata": {
        "_uuid": "e3e2a4ce95ddfee05e95cb68beac09881cfde647",
        "id": "1WceOXDQ5NRd",
        "colab_type": "text"
      },
      "cell_type": "markdown",
      "source": [
        "<h4><font color='red'>Note: Data Leakage</font></h4>\n",
        "\n",
        "1. There will be an issue of data-leakage if you vectorize the entire data and then split it into train/cv/test.\n",
        "2. To avoid the issue of data-leakag, make sure to split your data first and then vectorize it. \n",
        "3. While vectorizing your data, apply the method fit_transform() on you train data, and apply the method transform() on cv/test data.\n",
        "4. For more details please go through this <a href='https://soundcloud.com/applied-ai-course/leakage-bow-and-tfidf'>link.</a>"
      ]
    },
    {
      "metadata": {
        "_uuid": "70e2e1491b41c0ac5b13fe77b62fe984a35c569e",
        "id": "-ewBZqwP5NRe",
        "colab_type": "text"
      },
      "cell_type": "markdown",
      "source": [
        "# Applying Logistic Regression"
      ]
    },
    {
      "metadata": {
        "_uuid": "7fadbf2a3d5cabf08ce90d9d070842443b818af7",
        "id": "BaeA6nBG5NRe",
        "colab_type": "text"
      },
      "cell_type": "markdown",
      "source": [
        "## [5.1] Logistic Regression on BOW,<font color='red'> SET 1</font>"
      ]
    },
    {
      "metadata": {
        "_uuid": "50d7b12b47ccbc1f0d8203faf62100203d23b7f7",
        "id": "_z3mPYFo5NRf",
        "colab_type": "text"
      },
      "cell_type": "markdown",
      "source": [
        "### [5.1.1] Applying Logistic Regression with L1 regularization on BOW,<font color='red'> SET 1</font>"
      ]
    },
    {
      "metadata": {
        "trusted": true,
        "_uuid": "35e4c38c7480b60e1e2a85674e467570e4cf3dba",
        "id": "vsUuZadO5NRg",
        "colab_type": "code",
        "colab": {},
        "outputId": "2c101eb5-8512-4fa8-80bb-b69c74a9c0bf"
      },
      "cell_type": "code",
      "source": [
        "# Please write all the code with proper documentation\n",
        "from sklearn.linear_model import LogisticRegression\n",
        "from sklearn.metrics import roc_auc_score\n",
        "\n",
        "train_auc = []\n",
        "cv_auc=[]\n",
        "c = [0.001,0.01,0.1,1,10,100,1000]\n",
        "for i in c:\n",
        "    clf = LogisticRegression(penalty = 'l1', C = i, n_jobs = -1).fit(X_train_bow, y_train)\n",
        "    pred_train = clf.predict(X_train_bow)\n",
        "    train_auc.append(roc_auc_score(y_train, pred_train))\n",
        "    pred_cv = clf.predict(X_cv_bow)\n",
        "    cv_auc.append(roc_auc_score(y_cv, pred_cv))\n",
        "    \n",
        "print('train auc',train_auc)\n",
        "print('cv auc',cv_auc)\n",
        "    \n",
        "    "
      ],
      "execution_count": 0,
      "outputs": [
        {
          "output_type": "stream",
          "text": [
            "/opt/conda/lib/python3.6/site-packages/sklearn/linear_model/logistic.py:1300: UserWarning: 'n_jobs' > 1 does not have any effect when 'solver' is set to 'liblinear'. Got 'n_jobs' = 4.\n",
            "  \" = {}.\".format(effective_n_jobs(self.n_jobs)))\n",
            "/opt/conda/lib/python3.6/site-packages/sklearn/linear_model/logistic.py:1300: UserWarning: 'n_jobs' > 1 does not have any effect when 'solver' is set to 'liblinear'. Got 'n_jobs' = 4.\n",
            "  \" = {}.\".format(effective_n_jobs(self.n_jobs)))\n",
            "/opt/conda/lib/python3.6/site-packages/sklearn/linear_model/logistic.py:1300: UserWarning: 'n_jobs' > 1 does not have any effect when 'solver' is set to 'liblinear'. Got 'n_jobs' = 4.\n",
            "  \" = {}.\".format(effective_n_jobs(self.n_jobs)))\n",
            "/opt/conda/lib/python3.6/site-packages/sklearn/linear_model/logistic.py:1300: UserWarning: 'n_jobs' > 1 does not have any effect when 'solver' is set to 'liblinear'. Got 'n_jobs' = 4.\n",
            "  \" = {}.\".format(effective_n_jobs(self.n_jobs)))\n",
            "/opt/conda/lib/python3.6/site-packages/sklearn/linear_model/logistic.py:1300: UserWarning: 'n_jobs' > 1 does not have any effect when 'solver' is set to 'liblinear'. Got 'n_jobs' = 4.\n",
            "  \" = {}.\".format(effective_n_jobs(self.n_jobs)))\n",
            "/opt/conda/lib/python3.6/site-packages/sklearn/linear_model/logistic.py:1300: UserWarning: 'n_jobs' > 1 does not have any effect when 'solver' is set to 'liblinear'. Got 'n_jobs' = 4.\n",
            "  \" = {}.\".format(effective_n_jobs(self.n_jobs)))\n",
            "/opt/conda/lib/python3.6/site-packages/sklearn/linear_model/logistic.py:1300: UserWarning: 'n_jobs' > 1 does not have any effect when 'solver' is set to 'liblinear'. Got 'n_jobs' = 4.\n",
            "  \" = {}.\".format(effective_n_jobs(self.n_jobs)))\n"
          ],
          "name": "stderr"
        },
        {
          "output_type": "stream",
          "text": [
            "train auc [0.5001114330287497, 0.5510738885920924, 0.7547177221635555, 0.9082020821012375, 0.9958804429235503, 0.9991085357700022, 0.999219968798752]\n",
            "cv auc [0.5, 0.5522411388448035, 0.7481452425228576, 0.8122394956636048, 0.8111342726184559, 0.8027188971181541, 0.7954757076366512]\n"
          ],
          "name": "stdout"
        }
      ]
    },
    {
      "metadata": {
        "trusted": true,
        "_uuid": "d29a3607d45ce6e401dc0fa6bf5ab5fcef1175c7",
        "id": "PaEU0EVp5NRm",
        "colab_type": "code",
        "colab": {},
        "outputId": "689c51f4-870e-4725-f9a6-29f71f4d9b74"
      },
      "cell_type": "code",
      "source": [
        "# ploting auc and C for train and cv data\n",
        "import math\n",
        "log_c = [math.log(i) for i in c]\n",
        "plt.plot(log_c , train_auc , label = \"train data\")\n",
        "plt.plot(log_c , cv_auc , label = \"cv data\")\n",
        "plt.xlabel(\"hyper parameter\")\n",
        "plt.ylabel(\"Area under ROC curve\")\n",
        "plt.grid()\n",
        "plt.legend()\n",
        "plt.show()"
      ],
      "execution_count": 0,
      "outputs": [
        {
          "output_type": "display_data",
          "data": {
            "text/plain": [
              "<Figure size 432x288 with 1 Axes>"
            ],
            "image/png": "[encoded data removed]"
          },
          "metadata": {
            "tags": []
          }
        }
      ]
    },
    {
      "metadata": {
        "trusted": true,
        "_uuid": "02f826d0a93a75a1371feee378c0209ce66a4c05",
        "id": "fu_oDsT95NRw",
        "colab_type": "code",
        "colab": {},
        "outputId": "59f32bb1-5bdb-4a38-c79f-bcba7e8ac0b6"
      },
      "cell_type": "code",
      "source": [
        "# c = 1 is the parameter value with highest auc value\n",
        "clf = LogisticRegression(penalty = 'l1', C = 1, n_jobs = -1).fit(X_train_bow, y_train)\n",
        "pred_test = clf.predict(X_test_bow)\n",
        "\n",
        "print ('auc = ',roc_auc_score(y_test, pred_test))"
      ],
      "execution_count": 0,
      "outputs": [
        {
          "output_type": "stream",
          "text": [
            "/opt/conda/lib/python3.6/site-packages/sklearn/linear_model/logistic.py:1300: UserWarning: 'n_jobs' > 1 does not have any effect when 'solver' is set to 'liblinear'. Got 'n_jobs' = 4.\n",
            "  \" = {}.\".format(effective_n_jobs(self.n_jobs)))\n"
          ],
          "name": "stderr"
        },
        {
          "output_type": "stream",
          "text": [
            "auc =  0.8239864191097473\n"
          ],
          "name": "stdout"
        }
      ]
    },
    {
      "metadata": {
        "trusted": true,
        "_uuid": "3a75b4fa1fdcce5c0f2550c703ee7f174903bc9c",
        "id": "Y7CMcQY35NR3",
        "colab_type": "code",
        "colab": {},
        "outputId": "cf4a2ae9-b84b-4c97-aed6-d2dd797be875"
      },
      "cell_type": "code",
      "source": [
        "#plotting roc curve test data\n",
        "from sklearn import metrics\n",
        "fpr, tpr, thresholds = metrics.roc_curve(y_test, pred_test)\n",
        "\n",
        "plt.plot(fpr , tpr , label = \"test data\")\n",
        "plt.plot([0,1],[0,1],'--' )\n",
        "plt.xlabel(\"false positive rate\")\n",
        "plt.ylabel(\"true positive rate\")\n",
        "plt.grid()\n",
        "plt.legend()\n",
        "plt.show()\n"
      ],
      "execution_count": 0,
      "outputs": [
        {
          "output_type": "display_data",
          "data": {
            "text/plain": [
              "<Figure size 432x288 with 1 Axes>"
            ],
            "image/png": "[encoded data removed]"
          },
          "metadata": {
            "tags": []
          }
        }
      ]
    },
    {
      "metadata": {
        "trusted": true,
        "_uuid": "ec7d3bf7edce9246874de552dab4322dc075cdfa",
        "id": "rhD52Y955NR9",
        "colab_type": "code",
        "colab": {},
        "outputId": "6fe3e612-8336-40a9-d72f-5d844aaafbeb"
      },
      "cell_type": "code",
      "source": [
        "# confusion matrix\n",
        "from sklearn.metrics import confusion_matrix\n",
        "import seaborn as sn\n",
        "cm = confusion_matrix(y_test, pred_test)\n",
        "print (cm)\n",
        "df_cm = pd.DataFrame(cm, index = ['neg','pos'],columns = ['neg','pos'])\n",
        "sn.heatmap(df_cm, annot=True)\n",
        "plt.xlabel(\"predicted\")\n",
        "plt.ylabel(\"actual\")\n"
      ],
      "execution_count": 0,
      "outputs": [
        {
          "output_type": "stream",
          "text": [
            "[[1066  473]\n",
            " [ 343 7333]]\n"
          ],
          "name": "stdout"
        },
        {
          "output_type": "execute_result",
          "data": {
            "text/plain": [
              "Text(33,0.5,'actual')"
            ]
          },
          "metadata": {
            "tags": []
          },
          "execution_count": 40
        },
        {
          "output_type": "display_data",
          "data": {
            "text/plain": [
              "<Figure size 432x288 with 2 Axes>"
            ],
            "image/png": "[encoded data removed]"
          },
          "metadata": {
            "tags": []
          }
        }
      ]
    },
    {
      "metadata": {
        "trusted": true,
        "_uuid": "5bf6514004c10b2d301d3542033f67df13d2d9d2",
        "id": "dNvsI2lF5NSH",
        "colab_type": "code",
        "colab": {}
      },
      "cell_type": "code",
      "source": [
        ""
      ],
      "execution_count": 0,
      "outputs": []
    },
    {
      "metadata": {
        "_uuid": "b226f459017a8ca8f56ebda677d76b37ca31168f",
        "id": "9JNy4gSq5NSL",
        "colab_type": "text"
      },
      "cell_type": "markdown",
      "source": [
        "#### [5.1.1.1] Calculating sparsity on weight vector obtained using L1 regularization on BOW,<font color='red'> SET 1</font>"
      ]
    },
    {
      "metadata": {
        "trusted": true,
        "_uuid": "5d5db5c21e22fe72c64b0bda143192fea24586e8",
        "id": "DtaN7i9w5NSN",
        "colab_type": "code",
        "colab": {},
        "outputId": "c518dcb4-a6d9-461a-b6a5-1eee91444694"
      },
      "cell_type": "code",
      "source": [
        "from numpy import count_nonzero\n",
        "w = clf.coef_\n",
        "sparsity = 1.0 - count_nonzero(w) / w.size\n",
        "print(sparsity)"
      ],
      "execution_count": 0,
      "outputs": [
        {
          "output_type": "stream",
          "text": [
            "0.9115064247433331\n"
          ],
          "name": "stdout"
        }
      ]
    },
    {
      "metadata": {
        "_uuid": "3a155ca7458c9058cd0952f645c7896348d33845",
        "id": "rA_d2eYs5NST",
        "colab_type": "text"
      },
      "cell_type": "markdown",
      "source": [
        "### [5.1.2] Applying Logistic Regression with L2 regularization on BOW,<font color='red'> SET 1</font>"
      ]
    },
    {
      "metadata": {
        "trusted": true,
        "_uuid": "82ab6fd71f3113ca2a22ba2cfacf8a286498947a",
        "id": "wQkyViH15NSW",
        "colab_type": "code",
        "colab": {},
        "outputId": "ebb267c9-7a1b-4085-858b-c15e497e0253"
      },
      "cell_type": "code",
      "source": [
        "# Please write all the code with proper documentation\n",
        "from sklearn.linear_model import LogisticRegression\n",
        "from sklearn.metrics import roc_auc_score\n",
        "\n",
        "train_auc = []\n",
        "cv_auc=[]\n",
        "c = [0.001,0.01,0.1,1,10,100,1000]\n",
        "for i in c:\n",
        "    clf = LogisticRegression(penalty = 'l2', C = i, n_jobs = -1).fit(X_train_bow, y_train)\n",
        "    pred_train = clf.predict(X_train_bow)\n",
        "    train_auc.append(roc_auc_score(y_train, pred_train))\n",
        "    pred_cv = clf.predict(X_cv_bow)\n",
        "    cv_auc.append(roc_auc_score(y_cv, pred_cv))\n",
        "    \n",
        "print('train auc',train_auc)\n",
        "print('cv auc',cv_auc)\n",
        "    \n",
        "    "
      ],
      "execution_count": 0,
      "outputs": [
        {
          "output_type": "stream",
          "text": [
            "/opt/conda/lib/python3.6/site-packages/sklearn/linear_model/logistic.py:1300: UserWarning: 'n_jobs' > 1 does not have any effect when 'solver' is set to 'liblinear'. Got 'n_jobs' = 4.\n",
            "  \" = {}.\".format(effective_n_jobs(self.n_jobs)))\n",
            "/opt/conda/lib/python3.6/site-packages/sklearn/linear_model/logistic.py:1300: UserWarning: 'n_jobs' > 1 does not have any effect when 'solver' is set to 'liblinear'. Got 'n_jobs' = 4.\n",
            "  \" = {}.\".format(effective_n_jobs(self.n_jobs)))\n",
            "/opt/conda/lib/python3.6/site-packages/sklearn/linear_model/logistic.py:1300: UserWarning: 'n_jobs' > 1 does not have any effect when 'solver' is set to 'liblinear'. Got 'n_jobs' = 4.\n",
            "  \" = {}.\".format(effective_n_jobs(self.n_jobs)))\n",
            "/opt/conda/lib/python3.6/site-packages/sklearn/linear_model/logistic.py:1300: UserWarning: 'n_jobs' > 1 does not have any effect when 'solver' is set to 'liblinear'. Got 'n_jobs' = 4.\n",
            "  \" = {}.\".format(effective_n_jobs(self.n_jobs)))\n",
            "/opt/conda/lib/python3.6/site-packages/sklearn/linear_model/logistic.py:1300: UserWarning: 'n_jobs' > 1 does not have any effect when 'solver' is set to 'liblinear'. Got 'n_jobs' = 4.\n",
            "  \" = {}.\".format(effective_n_jobs(self.n_jobs)))\n",
            "/opt/conda/lib/python3.6/site-packages/sklearn/linear_model/logistic.py:1300: UserWarning: 'n_jobs' > 1 does not have any effect when 'solver' is set to 'liblinear'. Got 'n_jobs' = 4.\n",
            "  \" = {}.\".format(effective_n_jobs(self.n_jobs)))\n",
            "/opt/conda/lib/python3.6/site-packages/sklearn/linear_model/logistic.py:1300: UserWarning: 'n_jobs' > 1 does not have any effect when 'solver' is set to 'liblinear'. Got 'n_jobs' = 4.\n",
            "  \" = {}.\".format(effective_n_jobs(self.n_jobs)))\n"
          ],
          "name": "stderr"
        },
        {
          "output_type": "stream",
          "text": [
            "train auc [0.5442087814616635, 0.708409591527567, 0.8482079254173036, 0.9501222442703429, 0.9921453021245136, 0.9983285045687541, 0.9991085357700022]\n",
            "cv auc [0.5390455087716486, 0.6905690249656669, 0.7886184319509237, 0.8196864128953654, 0.8111600725671567, 0.799340523253018, 0.7948021536361062]\n"
          ],
          "name": "stdout"
        }
      ]
    },
    {
      "metadata": {
        "trusted": true,
        "_uuid": "0d1768d6369258782cae0a7a4d139b0ae8fe2439",
        "id": "lQSNG1-s5NSg",
        "colab_type": "code",
        "colab": {},
        "outputId": "a0c6662b-f019-4d6d-c630-add5717876d0"
      },
      "cell_type": "code",
      "source": [
        "# ploting auc and C for train and cv data\n",
        "import math\n",
        "log_c = [math.log(i) for i in c]\n",
        "plt.plot(log_c , train_auc , label = \"train data\")\n",
        "plt.plot(log_c , cv_auc , label = \"cv data\")\n",
        "plt.xlabel(\"hyper parameter\")\n",
        "plt.ylabel(\"Area under ROC curve\")\n",
        "plt.grid()\n",
        "plt.legend()\n",
        "plt.show()"
      ],
      "execution_count": 0,
      "outputs": [
        {
          "output_type": "display_data",
          "data": {
            "text/plain": [
              "<Figure size 432x288 with 1 Axes>"
            ],
            "image/png": "[encoded data removed]"
          },
          "metadata": {
            "tags": []
          }
        }
      ]
    },
    {
      "metadata": {
        "trusted": true,
        "_uuid": "a5e7e87edfc5a7671ebd43cfd08a2016b9fb5932",
        "id": "c8TcNXPe5NSq",
        "colab_type": "code",
        "colab": {},
        "outputId": "d7c7baed-92f0-44d2-f328-a3c9ae36ca7e"
      },
      "cell_type": "code",
      "source": [
        "# c = 1 is the parameter value with highest auc value\n",
        "clf = LogisticRegression(penalty = 'l2', C = 1, n_jobs = -1).fit(X_train_bow, y_train)\n",
        "pred_test = clf.predict(X_test_bow)\n",
        "\n",
        "print ('auc = ',roc_auc_score(y_test, pred_test))"
      ],
      "execution_count": 0,
      "outputs": [
        {
          "output_type": "stream",
          "text": [
            "/opt/conda/lib/python3.6/site-packages/sklearn/linear_model/logistic.py:1300: UserWarning: 'n_jobs' > 1 does not have any effect when 'solver' is set to 'liblinear'. Got 'n_jobs' = 4.\n",
            "  \" = {}.\".format(effective_n_jobs(self.n_jobs)))\n"
          ],
          "name": "stderr"
        },
        {
          "output_type": "stream",
          "text": [
            "auc =  0.8252200220022002\n"
          ],
          "name": "stdout"
        }
      ]
    },
    {
      "metadata": {
        "trusted": true,
        "_uuid": "5b08c42b05f25887f113c8f4a1302e7f4fcf0bd1",
        "id": "VdY0sAPQ5NSz",
        "colab_type": "code",
        "colab": {}
      },
      "cell_type": "code",
      "source": [
        "#plotting roc curve test data\n",
        "from sklearn import metrics\n",
        "fpr, tpr, thresholds = metrics.roc_curve(y_test, pred_test)\n",
        "\n",
        "plt.plot(fpr , tpr , label = \"test data\")\n",
        "plt.plot([0,1],[0,1],'--' )\n",
        "plt.xlabel(\"false positive rate\")\n",
        "plt.ylabel(\"true positive rate\")\n",
        "plt.grid()\n",
        "plt.legend()\n",
        "plt.show()\n"
      ],
      "execution_count": 0,
      "outputs": []
    },
    {
      "metadata": {
        "trusted": true,
        "_uuid": "02d2e0e56a33449ef4173688de6bc7e6ff88f1e4",
        "id": "g7rT4DEq5NS2",
        "colab_type": "code",
        "colab": {},
        "outputId": "bb9c4a90-d811-4b43-b517-c1360b16e9ea"
      },
      "cell_type": "code",
      "source": [
        "# confusion matrix\n",
        "from sklearn.metrics import confusion_matrix\n",
        "import seaborn as sn\n",
        "cm = confusion_matrix(y_test, pred_test)\n",
        "print (cm)\n",
        "df_cm = pd.DataFrame(cm, index = ['neg','pos'],columns = ['neg','pos'])\n",
        "sn.heatmap(df_cm, annot=True)\n",
        "plt.xlabel(\"predicted\")\n",
        "plt.ylabel(\"actual\")\n"
      ],
      "execution_count": 0,
      "outputs": [
        {
          "output_type": "stream",
          "text": [
            "[[1071  468]\n",
            " [ 349 7327]]\n"
          ],
          "name": "stdout"
        },
        {
          "output_type": "execute_result",
          "data": {
            "text/plain": [
              "Text(33,0.5,'actual')"
            ]
          },
          "metadata": {
            "tags": []
          },
          "execution_count": 45
        },
        {
          "output_type": "display_data",
          "data": {
            "text/plain": [
              "<Figure size 432x288 with 2 Axes>"
            ],
            "image/png": "[encoded data removed]"
          },
          "metadata": {
            "tags": []
          }
        }
      ]
    },
    {
      "metadata": {
        "_uuid": "bc4cbc5a2b3b8b6299d95420d86f1d50e1351043",
        "id": "B2iy0paC5NS9",
        "colab_type": "text"
      },
      "cell_type": "markdown",
      "source": [
        "#### [5.1.2.1] Performing pertubation test (multicollinearity check) on BOW,<font color='red'> SET 1</font>"
      ]
    },
    {
      "metadata": {
        "trusted": true,
        "_uuid": "a289dd10cdc2133730e32c857f0fc2fa6c38f82d",
        "id": "rD0V0_In5NTu",
        "colab_type": "code",
        "colab": {},
        "outputId": "af5a1613-e6e1-42c5-aebd-69759f1d7b46"
      },
      "cell_type": "code",
      "source": [
        "# weights from l2 model\n",
        "w = clf.coef_\n",
        "print (w)"
      ],
      "execution_count": 0,
      "outputs": [
        {
          "output_type": "stream",
          "text": [
            "[[-5.90521534e-01  2.18915109e-02  1.20263993e-04 ... -7.74700141e-02\n",
            "   6.97171582e-03  6.42154477e-02]]\n"
          ],
          "name": "stdout"
        }
      ]
    },
    {
      "metadata": {
        "trusted": true,
        "_uuid": "a45e204d3f08801c55de469a53ee005094bbca26",
        "id": "b1dcS81X5NT7",
        "colab_type": "code",
        "colab": {},
        "outputId": "e36d3edb-1f2c-40fb-e08b-e86fd50dc0fa"
      },
      "cell_type": "code",
      "source": [
        "# addinf small eps value to the weights to avoid division by zero error\n",
        "w = w + 10**-6\n",
        "print (w)"
      ],
      "execution_count": 0,
      "outputs": [
        {
          "output_type": "stream",
          "text": [
            "[[-5.90520534e-01  2.18925109e-02  1.21263993e-04 ... -7.74690141e-02\n",
            "   6.97271582e-03  6.42164477e-02]]\n"
          ],
          "name": "stdout"
        }
      ]
    },
    {
      "metadata": {
        "trusted": true,
        "_uuid": "f0ddde6090ab925e5c49d8c9cc08dacfce81327c",
        "id": "9Q16wSja5NUE",
        "colab_type": "code",
        "colab": {},
        "outputId": "3ff260bb-13c2-4364-bb6e-dcc25fa1e42b"
      },
      "cell_type": "code",
      "source": [
        "# addinf small e= 0.05 value to the bow vectors to perform pertubation test\n",
        "e = 0.05\n",
        "X_train_bow.data = X_train_bow.data + e\n",
        "# now calculating auc and getting weights of the model with l2 model\n",
        "clf = LogisticRegression(penalty = 'l2', C = 1, n_jobs = -1).fit(X_train_bow, y_train)\n",
        "pred_test = clf.predict(X_test_bow)\n",
        "\n",
        "print ('auc = ',roc_auc_score(y_test, pred_test))"
      ],
      "execution_count": 0,
      "outputs": [
        {
          "output_type": "stream",
          "text": [
            "/opt/conda/lib/python3.6/site-packages/sklearn/linear_model/logistic.py:1300: UserWarning: 'n_jobs' > 1 does not have any effect when 'solver' is set to 'liblinear'. Got 'n_jobs' = 4.\n",
            "  \" = {}.\".format(effective_n_jobs(self.n_jobs)))\n"
          ],
          "name": "stderr"
        },
        {
          "output_type": "stream",
          "text": [
            "auc =  0.825025411897915\n"
          ],
          "name": "stdout"
        }
      ]
    },
    {
      "metadata": {
        "trusted": true,
        "_uuid": "b56b237884cd019f9dc06a8117f2d35a04cf1ffb",
        "id": "oeayTWT75NUP",
        "colab_type": "code",
        "colab": {},
        "outputId": "abac7f3a-272e-4c93-ce28-5eac602f30c7"
      },
      "cell_type": "code",
      "source": [
        "# obtaining new weights from the model\n",
        "w_n = clf.coef_\n",
        "w_n = w_n + 10**-6 # to avoid division by zero error\n",
        "print (w_n)"
      ],
      "execution_count": 0,
      "outputs": [
        {
          "output_type": "stream",
          "text": [
            "[[-5.87717975e-01  2.17002171e-02  1.18218906e-04 ... -8.01084906e-02\n",
            "   6.16948982e-03  6.28460563e-02]]\n"
          ],
          "name": "stdout"
        }
      ]
    },
    {
      "metadata": {
        "trusted": true,
        "_uuid": "614c998096a49e24c834a27c21672b81db10a0be",
        "id": "8CP4hgPa5NUg",
        "colab_type": "code",
        "colab": {},
        "outputId": "2c673d72-788b-4533-b9fa-9a85dab84a60"
      },
      "cell_type": "code",
      "source": [
        "# % change in w and w_n\n",
        "w_diff = (abs(w[0]-w_n[0])/w[0]) * 100\n",
        "print (w_diff)\n",
        "print (len(w_diff))"
      ],
      "execution_count": 0,
      "outputs": [
        {
          "output_type": "stream",
          "text": [
            "[-0.47459127  0.87835392  2.51112165 ... -3.40713843 11.51955739\n",
            "  2.13401937]\n",
            "30974\n"
          ],
          "name": "stdout"
        }
      ]
    },
    {
      "metadata": {
        "trusted": true,
        "_uuid": "f1512ab9fd8cbe20bbb6f68c3b02777620ce9f8a",
        "id": "F9pv89nm5NUs",
        "colab_type": "code",
        "colab": {},
        "outputId": "028a3dca-f6f8-4d67-9c38-03fdf29e15ca"
      },
      "cell_type": "code",
      "source": [
        "import math\n",
        "\n",
        "def percentile(data, percentile):\n",
        "    size = len(data)\n",
        "    return sorted(data)[int(math.ceil((size * percentile) / 100)) - 1]\n",
        "\n",
        "for i in np.arange(0,110,10):\n",
        "    print ('{}th percentile is {}'.format(i,percentile(w_diff, i)))"
      ],
      "execution_count": 0,
      "outputs": [
        {
          "output_type": "stream",
          "text": [
            "0th percentile is 76175.2177780426\n",
            "10th percentile is -4.556873111413813\n",
            "20th percentile is -1.5159541120552198\n",
            "30th percentile is -0.03856177116783109\n",
            "40th percentile is 0.7873540905732297\n",
            "50th percentile is 1.724270007754402\n",
            "60th percentile is 2.9903049607188192\n",
            "70th percentile is 4.818227474054501\n",
            "80th percentile is 8.196612713253478\n",
            "90th percentile is 14.845455946162456\n",
            "100th percentile is 76175.2177780426\n"
          ],
          "name": "stdout"
        }
      ]
    },
    {
      "metadata": {
        "trusted": true,
        "_uuid": "342fb75332ed42648c82fbbd40c49c8a13f67793",
        "id": "Nsp1Bpkw5NU2",
        "colab_type": "code",
        "colab": {},
        "outputId": "dbd3e114-511f-4c41-b33c-e3a71f6ad81b"
      },
      "cell_type": "code",
      "source": [
        "\n",
        "def percentile(low,high,step,array):\n",
        "    \"\"\"function to calculate percentiles.\n",
        "    Input: low,high,step,array. 'array' is the array whose percentiles we want to calculate. 'low is the lowest percentile\n",
        "           we want to calculate and high is the highest percentile value we want to calculate. 'step' defines the amount of\n",
        "           step size.\"\"\"\n",
        "    for i in np.arange(low,high,step):\n",
        "        print('The {}th percentile is: {}'.format(i,np.percentile(array,i)))\n",
        "percentile(0,110,10,w_diff)"
      ],
      "execution_count": 0,
      "outputs": [
        {
          "output_type": "stream",
          "text": [
            "The 0th percentile is: -18568.662704061717\n",
            "The 10th percentile is: -4.5567023683951335\n",
            "The 20th percentile is: -1.5152631796279745\n",
            "The 30th percentile is: -0.03870843889191992\n",
            "The 40th percentile is: 0.7873641483537721\n",
            "The 50th percentile is: 1.724270007754402\n",
            "The 60th percentile is: 2.9902943028036417\n",
            "The 70th percentile is: 4.818246785088136\n",
            "The 80th percentile is: 8.195777214776781\n",
            "The 90th percentile is: 14.844617499734419\n",
            "The 100th percentile is: 76175.2177780426\n"
          ],
          "name": "stdout"
        }
      ]
    },
    {
      "metadata": {
        "trusted": true,
        "_uuid": "4cc760a98d49b9fed70d47ee1d73c9a8ed195c84",
        "id": "ZHDoNBMN5NVL",
        "colab_type": "code",
        "colab": {},
        "outputId": "a70d2608-cf5e-4c88-a219-4e73e274a46b"
      },
      "cell_type": "code",
      "source": [
        "percentile(90,101,1,w_diff)"
      ],
      "execution_count": 0,
      "outputs": [
        {
          "output_type": "stream",
          "text": [
            "The 90th percentile is: 14.844617499734419\n",
            "The 91th percentile is: 15.983782342862243\n",
            "The 92th percentile is: 17.412432794665417\n",
            "The 93th percentile is: 18.781889484540713\n",
            "The 94th percentile is: 20.24797603649386\n",
            "The 95th percentile is: 21.88497351980792\n",
            "The 96th percentile is: 23.90826618010933\n",
            "The 97th percentile is: 27.19297323049858\n",
            "The 98th percentile is: 31.156171855121435\n",
            "The 99th percentile is: 47.07578411704589\n",
            "The 100th percentile is: 76175.2177780426\n"
          ],
          "name": "stdout"
        }
      ]
    },
    {
      "metadata": {
        "trusted": true,
        "_uuid": "96b3b3d82630e4c8a9a6a7dda479c2f01b9725e9",
        "id": "BYpIOidK5NVU",
        "colab_type": "code",
        "colab": {},
        "outputId": "83e3e86d-1ccb-4935-8291-a3c6b74af9de"
      },
      "cell_type": "code",
      "source": [
        "percentile(99,100.1,0.1,w_diff)"
      ],
      "execution_count": 0,
      "outputs": [
        {
          "output_type": "stream",
          "text": [
            "The 99.0th percentile is: 47.07578411704589\n",
            "The 99.1th percentile is: 47.07578411704589\n",
            "The 99.19999999999999th percentile is: 47.1609465471241\n",
            "The 99.29999999999998th percentile is: 50.194689113263834\n",
            "The 99.39999999999998th percentile is: 53.768445226014016\n",
            "The 99.49999999999997th percentile is: 65.56648696339214\n",
            "The 99.59999999999997th percentile is: 88.25314448188118\n",
            "The 99.69999999999996th percentile is: 119.41271921861986\n",
            "The 99.79999999999995th percentile is: 181.81779879156807\n",
            "The 99.89999999999995th percentile is: 324.13420387794025\n",
            "The 99.99999999999994th percentile is: 76175.21777773365\n"
          ],
          "name": "stdout"
        }
      ]
    },
    {
      "metadata": {
        "trusted": true,
        "_uuid": "a41d455664194f317495d4db460e95afcdd75986",
        "id": "Otdj-teK5NVa",
        "colab_type": "code",
        "colab": {}
      },
      "cell_type": "code",
      "source": [
        "#Creating an empty dataframe with feature from bow and w_diff\n",
        "df = pd.DataFrame()\n",
        "df['features'] = model_bow.get_feature_names() \n",
        "df['w_diff'] = w_diff "
      ],
      "execution_count": 0,
      "outputs": []
    },
    {
      "metadata": {
        "trusted": true,
        "_uuid": "92e25a1a2ce2d3a8d568267267ffcf91f70e22de",
        "id": "TqanIQTA5NVf",
        "colab_type": "code",
        "colab": {}
      },
      "cell_type": "code",
      "source": [
        "df.sort_values(\"w_diff\", inplace=True)\n"
      ],
      "execution_count": 0,
      "outputs": []
    },
    {
      "metadata": {
        "trusted": true,
        "_uuid": "a0cf867dc27ab9024e01df360234fdcd7d830ae3",
        "id": "6hfkQR565NVk",
        "colab_type": "code",
        "colab": {},
        "outputId": "e85ae82f-e90b-477e-8d43-e51adcf2eff1"
      },
      "cell_type": "code",
      "source": [
        "df[df.w_diff>88.6]"
      ],
      "execution_count": 0,
      "outputs": [
        {
          "output_type": "execute_result",
          "data": {
            "text/plain": [
              "              features        w_diff\n",
              "7635   digestibilityno     88.679446\n",
              "25363          soulful     89.487732\n",
              "9107       entertained     90.363051\n",
              "9119       enthusiasts     94.326826\n",
              "10143          figures     95.777835\n",
              "17080       minestrone     96.757154\n",
              "24512          showers    102.760859\n",
              "19380        pakistani    102.838396\n",
              "13270       hyderabadi    102.838396\n",
              "314            address    104.741495\n",
              "28260         traveled    105.441883\n",
              "792              alpha    106.289967\n",
              "26926         systemmy    106.452580\n",
              "667                ale    106.654194\n",
              "5262              coco    106.863878\n",
              "27038        tangerine    109.847978\n",
              "18306         noticing    109.989124\n",
              "8828         elevation    110.896600\n",
              "26545              sun    112.737801\n",
              "1268          appalled    113.082018\n",
              "24063           seitan    114.952073\n",
              "7608         different    115.808526\n",
              "20763            posts    116.146781\n",
              "18136             nine    116.362853\n",
              "26473       sufficient    118.507411\n",
              "837             altria    119.412719\n",
              "22920            revel    119.412719\n",
              "21044         pretense    119.412719\n",
              "17453           morris    119.412719\n",
              "4983       circulatory    119.412719\n",
              "...                ...           ...\n",
              "3031          borleans    324.134204\n",
              "18216          nonstop    324.134204\n",
              "26123            stopo    324.134204\n",
              "10628           footed    341.061004\n",
              "8420           drugged    341.488432\n",
              "810        alterations    373.262132\n",
              "869           amassing    373.262132\n",
              "24708          sirloin    375.257031\n",
              "7279        department    394.061061\n",
              "17523          mousses    396.609766\n",
              "13114            hound    426.342083\n",
              "19746           pebbly    432.182686\n",
              "604            airline    438.945188\n",
              "18712               ol    496.528728\n",
              "10943            frogs    559.391308\n",
              "381           adrenals    595.193817\n",
              "2891            boasts    595.249886\n",
              "1799            averse    626.230711\n",
              "27989         tomorrow    634.111934\n",
              "5742         confusion    708.057890\n",
              "1483           artemis    766.870725\n",
              "25933    statistically    796.822559\n",
              "16625             mead    801.487202\n",
              "29820             want    840.803736\n",
              "15167            laden   1098.320118\n",
              "5232          coatings   2009.312329\n",
              "4717          chillier   2249.821288\n",
              "23067            rings  11194.621320\n",
              "29700            vowed  59190.536823\n",
              "8233             doubt  76175.217778\n",
              "\n",
              "[124 rows x 2 columns]"
            ],
            "text/html": [
              "<div>\n",
              "<style scoped>\n",
              "    .dataframe tbody tr th:only-of-type {\n",
              "        vertical-align: middle;\n",
              "    }\n",
              "\n",
              "    .dataframe tbody tr th {\n",
              "        vertical-align: top;\n",
              "    }\n",
              "\n",
              "    .dataframe thead th {\n",
              "        text-align: right;\n",
              "    }\n",
              "</style>\n",
              "<table border=\"1\" class=\"dataframe\">\n",
              "  <thead>\n",
              "    <tr style=\"text-align: right;\">\n",
              "      <th></th>\n",
              "      <th>features</th>\n",
              "      <th>w_diff</th>\n",
              "    </tr>\n",
              "  </thead>\n",
              "  <tbody>\n",
              "    <tr>\n",
              "      <th>7635</th>\n",
              "      <td>digestibilityno</td>\n",
              "      <td>88.679446</td>\n",
              "    </tr>\n",
              "    <tr>\n",
              "      <th>25363</th>\n",
              "      <td>soulful</td>\n",
              "      <td>89.487732</td>\n",
              "    </tr>\n",
              "    <tr>\n",
              "      <th>9107</th>\n",
              "      <td>entertained</td>\n",
              "      <td>90.363051</td>\n",
              "    </tr>\n",
              "    <tr>\n",
              "      <th>9119</th>\n",
              "      <td>enthusiasts</td>\n",
              "      <td>94.326826</td>\n",
              "    </tr>\n",
              "    <tr>\n",
              "      <th>10143</th>\n",
              "      <td>figures</td>\n",
              "      <td>95.777835</td>\n",
              "    </tr>\n",
              "    <tr>\n",
              "      <th>17080</th>\n",
              "      <td>minestrone</td>\n",
              "      <td>96.757154</td>\n",
              "    </tr>\n",
              "    <tr>\n",
              "      <th>24512</th>\n",
              "      <td>showers</td>\n",
              "      <td>102.760859</td>\n",
              "    </tr>\n",
              "    <tr>\n",
              "      <th>19380</th>\n",
              "      <td>pakistani</td>\n",
              "      <td>102.838396</td>\n",
              "    </tr>\n",
              "    <tr>\n",
              "      <th>13270</th>\n",
              "      <td>hyderabadi</td>\n",
              "      <td>102.838396</td>\n",
              "    </tr>\n",
              "    <tr>\n",
              "      <th>314</th>\n",
              "      <td>address</td>\n",
              "      <td>104.741495</td>\n",
              "    </tr>\n",
              "    <tr>\n",
              "      <th>28260</th>\n",
              "      <td>traveled</td>\n",
              "      <td>105.441883</td>\n",
              "    </tr>\n",
              "    <tr>\n",
              "      <th>792</th>\n",
              "      <td>alpha</td>\n",
              "      <td>106.289967</td>\n",
              "    </tr>\n",
              "    <tr>\n",
              "      <th>26926</th>\n",
              "      <td>systemmy</td>\n",
              "      <td>106.452580</td>\n",
              "    </tr>\n",
              "    <tr>\n",
              "      <th>667</th>\n",
              "      <td>ale</td>\n",
              "      <td>106.654194</td>\n",
              "    </tr>\n",
              "    <tr>\n",
              "      <th>5262</th>\n",
              "      <td>coco</td>\n",
              "      <td>106.863878</td>\n",
              "    </tr>\n",
              "    <tr>\n",
              "      <th>27038</th>\n",
              "      <td>tangerine</td>\n",
              "      <td>109.847978</td>\n",
              "    </tr>\n",
              "    <tr>\n",
              "      <th>18306</th>\n",
              "      <td>noticing</td>\n",
              "      <td>109.989124</td>\n",
              "    </tr>\n",
              "    <tr>\n",
              "      <th>8828</th>\n",
              "      <td>elevation</td>\n",
              "      <td>110.896600</td>\n",
              "    </tr>\n",
              "    <tr>\n",
              "      <th>26545</th>\n",
              "      <td>sun</td>\n",
              "      <td>112.737801</td>\n",
              "    </tr>\n",
              "    <tr>\n",
              "      <th>1268</th>\n",
              "      <td>appalled</td>\n",
              "      <td>113.082018</td>\n",
              "    </tr>\n",
              "    <tr>\n",
              "      <th>24063</th>\n",
              "      <td>seitan</td>\n",
              "      <td>114.952073</td>\n",
              "    </tr>\n",
              "    <tr>\n",
              "      <th>7608</th>\n",
              "      <td>different</td>\n",
              "      <td>115.808526</td>\n",
              "    </tr>\n",
              "    <tr>\n",
              "      <th>20763</th>\n",
              "      <td>posts</td>\n",
              "      <td>116.146781</td>\n",
              "    </tr>\n",
              "    <tr>\n",
              "      <th>18136</th>\n",
              "      <td>nine</td>\n",
              "      <td>116.362853</td>\n",
              "    </tr>\n",
              "    <tr>\n",
              "      <th>26473</th>\n",
              "      <td>sufficient</td>\n",
              "      <td>118.507411</td>\n",
              "    </tr>\n",
              "    <tr>\n",
              "      <th>837</th>\n",
              "      <td>altria</td>\n",
              "      <td>119.412719</td>\n",
              "    </tr>\n",
              "    <tr>\n",
              "      <th>22920</th>\n",
              "      <td>revel</td>\n",
              "      <td>119.412719</td>\n",
              "    </tr>\n",
              "    <tr>\n",
              "      <th>21044</th>\n",
              "      <td>pretense</td>\n",
              "      <td>119.412719</td>\n",
              "    </tr>\n",
              "    <tr>\n",
              "      <th>17453</th>\n",
              "      <td>morris</td>\n",
              "      <td>119.412719</td>\n",
              "    </tr>\n",
              "    <tr>\n",
              "      <th>4983</th>\n",
              "      <td>circulatory</td>\n",
              "      <td>119.412719</td>\n",
              "    </tr>\n",
              "    <tr>\n",
              "      <th>...</th>\n",
              "      <td>...</td>\n",
              "      <td>...</td>\n",
              "    </tr>\n",
              "    <tr>\n",
              "      <th>3031</th>\n",
              "      <td>borleans</td>\n",
              "      <td>324.134204</td>\n",
              "    </tr>\n",
              "    <tr>\n",
              "      <th>18216</th>\n",
              "      <td>nonstop</td>\n",
              "      <td>324.134204</td>\n",
              "    </tr>\n",
              "    <tr>\n",
              "      <th>26123</th>\n",
              "      <td>stopo</td>\n",
              "      <td>324.134204</td>\n",
              "    </tr>\n",
              "    <tr>\n",
              "      <th>10628</th>\n",
              "      <td>footed</td>\n",
              "      <td>341.061004</td>\n",
              "    </tr>\n",
              "    <tr>\n",
              "      <th>8420</th>\n",
              "      <td>drugged</td>\n",
              "      <td>341.488432</td>\n",
              "    </tr>\n",
              "    <tr>\n",
              "      <th>810</th>\n",
              "      <td>alterations</td>\n",
              "      <td>373.262132</td>\n",
              "    </tr>\n",
              "    <tr>\n",
              "      <th>869</th>\n",
              "      <td>amassing</td>\n",
              "      <td>373.262132</td>\n",
              "    </tr>\n",
              "    <tr>\n",
              "      <th>24708</th>\n",
              "      <td>sirloin</td>\n",
              "      <td>375.257031</td>\n",
              "    </tr>\n",
              "    <tr>\n",
              "      <th>7279</th>\n",
              "      <td>department</td>\n",
              "      <td>394.061061</td>\n",
              "    </tr>\n",
              "    <tr>\n",
              "      <th>17523</th>\n",
              "      <td>mousses</td>\n",
              "      <td>396.609766</td>\n",
              "    </tr>\n",
              "    <tr>\n",
              "      <th>13114</th>\n",
              "      <td>hound</td>\n",
              "      <td>426.342083</td>\n",
              "    </tr>\n",
              "    <tr>\n",
              "      <th>19746</th>\n",
              "      <td>pebbly</td>\n",
              "      <td>432.182686</td>\n",
              "    </tr>\n",
              "    <tr>\n",
              "      <th>604</th>\n",
              "      <td>airline</td>\n",
              "      <td>438.945188</td>\n",
              "    </tr>\n",
              "    <tr>\n",
              "      <th>18712</th>\n",
              "      <td>ol</td>\n",
              "      <td>496.528728</td>\n",
              "    </tr>\n",
              "    <tr>\n",
              "      <th>10943</th>\n",
              "      <td>frogs</td>\n",
              "      <td>559.391308</td>\n",
              "    </tr>\n",
              "    <tr>\n",
              "      <th>381</th>\n",
              "      <td>adrenals</td>\n",
              "      <td>595.193817</td>\n",
              "    </tr>\n",
              "    <tr>\n",
              "      <th>2891</th>\n",
              "      <td>boasts</td>\n",
              "      <td>595.249886</td>\n",
              "    </tr>\n",
              "    <tr>\n",
              "      <th>1799</th>\n",
              "      <td>averse</td>\n",
              "      <td>626.230711</td>\n",
              "    </tr>\n",
              "    <tr>\n",
              "      <th>27989</th>\n",
              "      <td>tomorrow</td>\n",
              "      <td>634.111934</td>\n",
              "    </tr>\n",
              "    <tr>\n",
              "      <th>5742</th>\n",
              "      <td>confusion</td>\n",
              "      <td>708.057890</td>\n",
              "    </tr>\n",
              "    <tr>\n",
              "      <th>1483</th>\n",
              "      <td>artemis</td>\n",
              "      <td>766.870725</td>\n",
              "    </tr>\n",
              "    <tr>\n",
              "      <th>25933</th>\n",
              "      <td>statistically</td>\n",
              "      <td>796.822559</td>\n",
              "    </tr>\n",
              "    <tr>\n",
              "      <th>16625</th>\n",
              "      <td>mead</td>\n",
              "      <td>801.487202</td>\n",
              "    </tr>\n",
              "    <tr>\n",
              "      <th>29820</th>\n",
              "      <td>want</td>\n",
              "      <td>840.803736</td>\n",
              "    </tr>\n",
              "    <tr>\n",
              "      <th>15167</th>\n",
              "      <td>laden</td>\n",
              "      <td>1098.320118</td>\n",
              "    </tr>\n",
              "    <tr>\n",
              "      <th>5232</th>\n",
              "      <td>coatings</td>\n",
              "      <td>2009.312329</td>\n",
              "    </tr>\n",
              "    <tr>\n",
              "      <th>4717</th>\n",
              "      <td>chillier</td>\n",
              "      <td>2249.821288</td>\n",
              "    </tr>\n",
              "    <tr>\n",
              "      <th>23067</th>\n",
              "      <td>rings</td>\n",
              "      <td>11194.621320</td>\n",
              "    </tr>\n",
              "    <tr>\n",
              "      <th>29700</th>\n",
              "      <td>vowed</td>\n",
              "      <td>59190.536823</td>\n",
              "    </tr>\n",
              "    <tr>\n",
              "      <th>8233</th>\n",
              "      <td>doubt</td>\n",
              "      <td>76175.217778</td>\n",
              "    </tr>\n",
              "  </tbody>\n",
              "</table>\n",
              "<p>124 rows × 2 columns</p>\n",
              "</div>"
            ]
          },
          "metadata": {
            "tags": []
          },
          "execution_count": 83
        }
      ]
    },
    {
      "metadata": {
        "_uuid": "3d4408d648890369400d3b662381780467b7d51a",
        "id": "vjnjyuPL5NVt",
        "colab_type": "text"
      },
      "cell_type": "markdown",
      "source": [
        "### [5.1.3] Feature Importance on BOW,<font color='red'> SET 1</font>"
      ]
    },
    {
      "metadata": {
        "_uuid": "3bb400f5e46c3c004a440a104628d1d28c501d8a",
        "id": "SQ3WQjYZ5NVt",
        "colab_type": "text"
      },
      "cell_type": "markdown",
      "source": [
        "#### [5.1.3.1] Top 10 important features of positive class from<font color='red'> SET 1</font>"
      ]
    },
    {
      "metadata": {
        "trusted": true,
        "_uuid": "ba584e10e692ef0a2bd63a791b43b3f8b6104608",
        "id": "Sz0X1HFl5NVu",
        "colab_type": "code",
        "colab": {},
        "outputId": "ef116f0a-a572-4ef2-b001-795f90d3373d"
      },
      "cell_type": "code",
      "source": [
        "\n",
        "#function to get important features\n",
        "def most_important_features(model, clf, n=10):\n",
        "    feature_names = model.get_feature_names()#Here I am getting feature names stored in my model\n",
        "    coefs_with_fns = sorted(zip(clf.coef_[0], feature_names)) #Here I am trying to create a sorted list containing tuples of-\n",
        "    #-the form (prob,feature_name)\n",
        "    top = zip(coefs_with_fns[:n], coefs_with_fns[:-(n + 1):-1])#here I am selecting top n important words-\n",
        "    #- corresponding to positive class and bottom n words corresponding to negative class\n",
        "    print(\"\\t\\t\\tNegative\\t\\t\\t\\t\\t\\tPositive\")\n",
        "    print(\"________________________________________________________________________________________________\")\n",
        "    for (coef_1, fn_1), (coef_2, fn_2) in top:\n",
        "        print(\"\\t%.4f\\t%-15s\\t\\t\\t\\t%.4f\\t%-15s\" % (coef_1, fn_1, coef_2, fn_2))\n",
        "        \n",
        "most_important_features(model_bow,clf)\n",
        "#Reference:https://stackoverflow.com/questions/11116697/how-to-get-most-informative-features-for-scikit-learn-classifiers"
      ],
      "execution_count": 0,
      "outputs": [
        {
          "output_type": "stream",
          "text": [
            "\t\t\tNegative\t\t\t\t\t\tPositive\n",
            "________________________________________________________________________________________________\n",
            "\t-36.4532\tmachinesince   \t\t\t\t34.0393\tcortizone      \n",
            "\t-34.3477\tfarmer         \t\t\t\t32.8298\tbritt          \n",
            "\t-29.4677\tlaps           \t\t\t\t32.1425\texpelled       \n",
            "\t-28.8893\texposure       \t\t\t\t27.8791\tcontacted      \n",
            "\t-28.5795\tbunny          \t\t\t\t27.1953\tanneeavon      \n",
            "\t-26.1309\tbureau         \t\t\t\t26.2374\tforming        \n",
            "\t-25.9955\tjerkies        \t\t\t\t24.7179\tfridays        \n",
            "\t-25.8625\tbudy           \t\t\t\t22.4124\tcrippling      \n",
            "\t-25.2959\tfactories      \t\t\t\t22.3770\tdolmas         \n",
            "\t-25.1193\tfad            \t\t\t\t21.7926\tcutlets        \n"
          ],
          "name": "stdout"
        }
      ]
    },
    {
      "metadata": {
        "trusted": true,
        "_uuid": "72bccd5cccf4e4d9b736aeb006e470bd9a9a7b4d",
        "id": "QloF7cot5NVz",
        "colab_type": "code",
        "colab": {}
      },
      "cell_type": "code",
      "source": [
        ""
      ],
      "execution_count": 0,
      "outputs": []
    },
    {
      "metadata": {
        "_uuid": "667fce6e6dda53bfb4c919ce1cfd377e1235adfd",
        "id": "0O0WtNVH5NV2",
        "colab_type": "text"
      },
      "cell_type": "markdown",
      "source": [
        "#### [5.1.3.2] Top 10 important features of negative class from<font color='red'> SET 1</font>"
      ]
    },
    {
      "metadata": {
        "trusted": false,
        "_uuid": "8976d9b6934494953ea0d597adffdeedcc319a8e",
        "id": "JjN3wcem5NV3",
        "colab_type": "code",
        "colab": {}
      },
      "cell_type": "code",
      "source": [
        "# Please write all the code with proper documentation"
      ],
      "execution_count": 0,
      "outputs": []
    },
    {
      "metadata": {
        "_uuid": "0f035e2b462df351d5f74760d7b2e27e6a7c8c5f",
        "id": "j2Wkv6cc5NV6",
        "colab_type": "text"
      },
      "cell_type": "markdown",
      "source": [
        "## [5.2] Logistic Regression on TFIDF,<font color='red'> SET 2</font>"
      ]
    },
    {
      "metadata": {
        "_uuid": "364c8843b05cd1bbab456fece581e54763502e21",
        "id": "vJPu4ymR5NV7",
        "colab_type": "text"
      },
      "cell_type": "markdown",
      "source": [
        "### [5.2.1] Applying Logistic Regression with L1 regularization on TFIDF,<font color='red'> SET 2</font>"
      ]
    },
    {
      "metadata": {
        "trusted": true,
        "_uuid": "f97f42cf439ef72a956fed49d7e38aa9d61e9aa7",
        "id": "LwPJugka5NV8",
        "colab_type": "code",
        "colab": {},
        "outputId": "6ef50496-0919-44bb-98a9-58ebdcdc557b"
      },
      "cell_type": "code",
      "source": [
        "train_auc = []\n",
        "cv_auc=[]\n",
        "c = [0.001,0.01,0.1,1,10,100,1000]\n",
        "for i in c:\n",
        "    clf = LogisticRegression(penalty = 'l1', C = i, n_jobs = -1).fit(X_train_tfidf, y_train)\n",
        "    pred_train = clf.predict(X_train_tfidf)\n",
        "    train_auc.append(roc_auc_score(y_train, pred_train))\n",
        "    pred_cv = clf.predict(X_cv_tfidf)\n",
        "    cv_auc.append(roc_auc_score(y_cv, pred_cv))\n",
        "    \n",
        "print('train auc',train_auc)\n",
        "print('cv auc',cv_auc)"
      ],
      "execution_count": 0,
      "outputs": [
        {
          "output_type": "stream",
          "text": [
            "/opt/conda/lib/python3.6/site-packages/sklearn/linear_model/logistic.py:1300: UserWarning: 'n_jobs' > 1 does not have any effect when 'solver' is set to 'liblinear'. Got 'n_jobs' = 4.\n",
            "  \" = {}.\".format(effective_n_jobs(self.n_jobs)))\n",
            "/opt/conda/lib/python3.6/site-packages/sklearn/linear_model/logistic.py:1300: UserWarning: 'n_jobs' > 1 does not have any effect when 'solver' is set to 'liblinear'. Got 'n_jobs' = 4.\n",
            "  \" = {}.\".format(effective_n_jobs(self.n_jobs)))\n",
            "/opt/conda/lib/python3.6/site-packages/sklearn/linear_model/logistic.py:1300: UserWarning: 'n_jobs' > 1 does not have any effect when 'solver' is set to 'liblinear'. Got 'n_jobs' = 4.\n",
            "  \" = {}.\".format(effective_n_jobs(self.n_jobs)))\n",
            "/opt/conda/lib/python3.6/site-packages/sklearn/linear_model/logistic.py:1300: UserWarning: 'n_jobs' > 1 does not have any effect when 'solver' is set to 'liblinear'. Got 'n_jobs' = 4.\n",
            "  \" = {}.\".format(effective_n_jobs(self.n_jobs)))\n",
            "/opt/conda/lib/python3.6/site-packages/sklearn/linear_model/logistic.py:1300: UserWarning: 'n_jobs' > 1 does not have any effect when 'solver' is set to 'liblinear'. Got 'n_jobs' = 4.\n",
            "  \" = {}.\".format(effective_n_jobs(self.n_jobs)))\n",
            "/opt/conda/lib/python3.6/site-packages/sklearn/linear_model/logistic.py:1300: UserWarning: 'n_jobs' > 1 does not have any effect when 'solver' is set to 'liblinear'. Got 'n_jobs' = 4.\n",
            "  \" = {}.\".format(effective_n_jobs(self.n_jobs)))\n",
            "/opt/conda/lib/python3.6/site-packages/sklearn/linear_model/logistic.py:1300: UserWarning: 'n_jobs' > 1 does not have any effect when 'solver' is set to 'liblinear'. Got 'n_jobs' = 4.\n",
            "  \" = {}.\".format(effective_n_jobs(self.n_jobs)))\n"
          ],
          "name": "stderr"
        },
        {
          "output_type": "stream",
          "text": [
            "train auc [0.5, 0.5, 0.5692001611026591, 0.8145511323121278, 0.9939463592055113, 0.999219968798752, 0.999219968798752]\n",
            "cv auc [0.5, 0.5, 0.5851152831882525, 0.8052394435627375, 0.8387477322763537, 0.8356522394021492, 0.8342215529264656]\n"
          ],
          "name": "stdout"
        }
      ]
    },
    {
      "metadata": {
        "trusted": true,
        "_uuid": "b900981830d1ede8b460932616dca4324d6030eb",
        "id": "oaQqUQOz5NWC",
        "colab_type": "code",
        "colab": {},
        "outputId": "53207441-a4bb-4724-9f64-7da8079014a7"
      },
      "cell_type": "code",
      "source": [
        "# ploting auc and C for train and cv data\n",
        "import math\n",
        "log_c = [math.log(i) for i in c]\n",
        "plt.plot(log_c , train_auc , label = \"train data\")\n",
        "plt.plot(log_c , cv_auc , label = \"cv data\")\n",
        "plt.xlabel(\"hyper parameter\")\n",
        "plt.ylabel(\"Area under ROC curve\")\n",
        "plt.grid()\n",
        "plt.legend()\n",
        "plt.show()"
      ],
      "execution_count": 0,
      "outputs": [
        {
          "output_type": "display_data",
          "data": {
            "text/plain": [
              "<Figure size 432x288 with 1 Axes>"
            ],
            "image/png": "[encoded data removed]"
          },
          "metadata": {
            "tags": []
          }
        }
      ]
    },
    {
      "metadata": {
        "trusted": true,
        "_uuid": "39078e9856d465c642b4908a3435f8c1f3f2026f",
        "id": "nEy1CJjS5NWM",
        "colab_type": "code",
        "colab": {},
        "outputId": "5e213268-bb02-4639-8e61-70224e1535e1"
      },
      "cell_type": "code",
      "source": [
        "# c = 10 is the parameter value with highest auc value\n",
        "clf = LogisticRegression(penalty = 'l1', C = 10, n_jobs = -1).fit(X_train_tfidf, y_train)\n",
        "pred_test = clf.predict(X_test_tfidf)\n",
        "\n",
        "print ('auc = ',roc_auc_score(y_test, pred_test))"
      ],
      "execution_count": 0,
      "outputs": [
        {
          "output_type": "stream",
          "text": [
            "/opt/conda/lib/python3.6/site-packages/sklearn/linear_model/logistic.py:1300: UserWarning: 'n_jobs' > 1 does not have any effect when 'solver' is set to 'liblinear'. Got 'n_jobs' = 4.\n",
            "  \" = {}.\".format(effective_n_jobs(self.n_jobs)))\n"
          ],
          "name": "stderr"
        },
        {
          "output_type": "stream",
          "text": [
            "auc =  0.8421832680344058\n"
          ],
          "name": "stdout"
        }
      ]
    },
    {
      "metadata": {
        "trusted": true,
        "_uuid": "32021dc47f9fba45c21ca3e43ad5c7a71f9ece74",
        "id": "8oKsaOq35NWV",
        "colab_type": "code",
        "colab": {},
        "outputId": "cd999c32-6ee7-47a8-d957-e4d4a9bd20cd"
      },
      "cell_type": "code",
      "source": [
        "#plotting roc curve test data\n",
        "from sklearn import metrics\n",
        "fpr, tpr, thresholds = metrics.roc_curve(y_test, pred_test)\n",
        "\n",
        "plt.plot(fpr , tpr , label = \"test data\")\n",
        "plt.plot([0,1],[0,1],'--' )\n",
        "plt.xlabel(\"false positive rate\")\n",
        "plt.ylabel(\"true positive rate\")\n",
        "plt.grid()\n",
        "plt.legend()\n",
        "plt.show()\n"
      ],
      "execution_count": 0,
      "outputs": [
        {
          "output_type": "display_data",
          "data": {
            "text/plain": [
              "<Figure size 432x288 with 1 Axes>"
            ],
            "image/png": "[encoded data removed]"
          },
          "metadata": {
            "tags": []
          }
        }
      ]
    },
    {
      "metadata": {
        "trusted": true,
        "_uuid": "b0da385c0d9e7a155ed81cb6666e1706e7d28b97",
        "id": "0_EFLUyY5NWc",
        "colab_type": "code",
        "colab": {},
        "outputId": "f8968ee5-fc23-49be-ccee-dd80aea5d488"
      },
      "cell_type": "code",
      "source": [
        "# confusion matrix\n",
        "from sklearn.metrics import confusion_matrix\n",
        "import seaborn as sn\n",
        "cm = confusion_matrix(y_test, pred_test)\n",
        "print (cm)\n",
        "df_cm = pd.DataFrame(cm, index = ['neg','pos'],columns = ['neg','pos'])\n",
        "sn.heatmap(df_cm, annot=True)\n",
        "plt.xlabel(\"predicted\")\n",
        "plt.ylabel(\"actual\")\n"
      ],
      "execution_count": 0,
      "outputs": [
        {
          "output_type": "stream",
          "text": [
            "[[1118  421]\n",
            " [ 323 7353]]\n"
          ],
          "name": "stdout"
        },
        {
          "output_type": "execute_result",
          "data": {
            "text/plain": [
              "Text(33,0.5,'actual')"
            ]
          },
          "metadata": {
            "tags": []
          },
          "execution_count": 69
        },
        {
          "output_type": "display_data",
          "data": {
            "text/plain": [
              "<Figure size 432x288 with 2 Axes>"
            ],
            "image/png": "[encoded data removed]"
          },
          "metadata": {
            "tags": []
          }
        }
      ]
    },
    {
      "metadata": {
        "trusted": true,
        "_uuid": "d150b0f69c16d2c670771550095b99823b91ca73",
        "id": "ewCxJgCP5NWf",
        "colab_type": "code",
        "colab": {}
      },
      "cell_type": "code",
      "source": [
        ""
      ],
      "execution_count": 0,
      "outputs": []
    },
    {
      "metadata": {
        "_uuid": "e174062a1e20a257f3c961a9e9295f6f36124df1",
        "id": "tA_nv7I_5NWk",
        "colab_type": "text"
      },
      "cell_type": "markdown",
      "source": [
        "### [5.2.2] Applying Logistic Regression with L2 regularization on TFIDF,<font color='red'> SET 2</font>"
      ]
    },
    {
      "metadata": {
        "trusted": true,
        "_uuid": "a458b55815de059f8a4261370dbe34e423a1a130",
        "id": "QTUkce9I5NWl",
        "colab_type": "code",
        "colab": {},
        "outputId": "c4866e96-6c1d-44f5-ef6a-973c720d97f5"
      },
      "cell_type": "code",
      "source": [
        "train_auc = []\n",
        "cv_auc=[]\n",
        "c = [0.001,0.01,0.1,1,10,100,1000]\n",
        "for i in c:\n",
        "    clf = LogisticRegression(penalty = 'l2', C = i, n_jobs = -1).fit(X_train_tfidf, y_train)\n",
        "    pred_train = clf.predict(X_train_tfidf)\n",
        "    train_auc.append(roc_auc_score(y_train, pred_train))\n",
        "    pred_cv = clf.predict(X_cv_tfidf)\n",
        "    cv_auc.append(roc_auc_score(y_cv, pred_cv))\n",
        "    \n",
        "print('train auc',train_auc)\n",
        "print('cv auc',cv_auc)"
      ],
      "execution_count": 0,
      "outputs": [
        {
          "output_type": "stream",
          "text": [
            "/opt/conda/lib/python3.6/site-packages/sklearn/linear_model/logistic.py:1300: UserWarning: 'n_jobs' > 1 does not have any effect when 'solver' is set to 'liblinear'. Got 'n_jobs' = 4.\n",
            "  \" = {}.\".format(effective_n_jobs(self.n_jobs)))\n",
            "/opt/conda/lib/python3.6/site-packages/sklearn/linear_model/logistic.py:1300: UserWarning: 'n_jobs' > 1 does not have any effect when 'solver' is set to 'liblinear'. Got 'n_jobs' = 4.\n",
            "  \" = {}.\".format(effective_n_jobs(self.n_jobs)))\n",
            "/opt/conda/lib/python3.6/site-packages/sklearn/linear_model/logistic.py:1300: UserWarning: 'n_jobs' > 1 does not have any effect when 'solver' is set to 'liblinear'. Got 'n_jobs' = 4.\n",
            "  \" = {}.\".format(effective_n_jobs(self.n_jobs)))\n",
            "/opt/conda/lib/python3.6/site-packages/sklearn/linear_model/logistic.py:1300: UserWarning: 'n_jobs' > 1 does not have any effect when 'solver' is set to 'liblinear'. Got 'n_jobs' = 4.\n",
            "  \" = {}.\".format(effective_n_jobs(self.n_jobs)))\n",
            "/opt/conda/lib/python3.6/site-packages/sklearn/linear_model/logistic.py:1300: UserWarning: 'n_jobs' > 1 does not have any effect when 'solver' is set to 'liblinear'. Got 'n_jobs' = 4.\n",
            "  \" = {}.\".format(effective_n_jobs(self.n_jobs)))\n",
            "/opt/conda/lib/python3.6/site-packages/sklearn/linear_model/logistic.py:1300: UserWarning: 'n_jobs' > 1 does not have any effect when 'solver' is set to 'liblinear'. Got 'n_jobs' = 4.\n",
            "  \" = {}.\".format(effective_n_jobs(self.n_jobs)))\n",
            "/opt/conda/lib/python3.6/site-packages/sklearn/linear_model/logistic.py:1300: UserWarning: 'n_jobs' > 1 does not have any effect when 'solver' is set to 'liblinear'. Got 'n_jobs' = 4.\n",
            "  \" = {}.\".format(effective_n_jobs(self.n_jobs)))\n"
          ],
          "name": "stderr"
        },
        {
          "output_type": "stream",
          "text": [
            "train auc [0.5, 0.5, 0.5341486239885787, 0.8108941317889629, 0.9646957161255262, 0.9989971027412525, 0.999219968798752]\n",
            "cv auc [0.5, 0.5, 0.5305205878580932, 0.7563644883160466, 0.8359029748259295, 0.8400780577865414, 0.8414175677444867]\n"
          ],
          "name": "stdout"
        }
      ]
    },
    {
      "metadata": {
        "trusted": true,
        "_uuid": "47a852ba6cffde70413d262e432bc1b67328cdb5",
        "id": "VOSx3gqm5NWq",
        "colab_type": "code",
        "colab": {},
        "outputId": "be8f025f-2298-4618-853d-629e6cf07edb"
      },
      "cell_type": "code",
      "source": [
        "# ploting auc and C for train and cv data\n",
        "import math\n",
        "log_c = [math.log(i) for i in c]\n",
        "plt.plot(log_c , train_auc , label = \"train data\")\n",
        "plt.plot(log_c , cv_auc , label = \"cv data\")\n",
        "plt.xlabel(\"hyper parameter\")\n",
        "plt.ylabel(\"Area under ROC curve\")\n",
        "plt.grid()\n",
        "plt.legend()\n",
        "plt.show()"
      ],
      "execution_count": 0,
      "outputs": [
        {
          "output_type": "display_data",
          "data": {
            "text/plain": [
              "<Figure size 432x288 with 1 Axes>"
            ],
            "image/png": "[encoded data removed]"
          },
          "metadata": {
            "tags": []
          }
        }
      ]
    },
    {
      "metadata": {
        "trusted": true,
        "_uuid": "5adb9073ec825983a5fa1a6ea5ca72fd73c3ba58",
        "id": "lKvUuH0r5NWs",
        "colab_type": "code",
        "colab": {},
        "outputId": "abf90fa1-5e57-4b27-cbe2-fcff69eaead4"
      },
      "cell_type": "code",
      "source": [
        "# c = 1000is the parameter value with highest auc value\n",
        "clf = LogisticRegression(penalty = 'l2', C = 1000, n_jobs = -1).fit(X_train_tfidf, y_train)\n",
        "pred_test = clf.predict(X_test_tfidf)\n",
        "\n",
        "print ('auc = ',roc_auc_score(y_test, pred_test))"
      ],
      "execution_count": 0,
      "outputs": [
        {
          "output_type": "stream",
          "text": [
            "/opt/conda/lib/python3.6/site-packages/sklearn/linear_model/logistic.py:1300: UserWarning: 'n_jobs' > 1 does not have any effect when 'solver' is set to 'liblinear'. Got 'n_jobs' = 4.\n",
            "  \" = {}.\".format(effective_n_jobs(self.n_jobs)))\n"
          ],
          "name": "stderr"
        },
        {
          "output_type": "stream",
          "text": [
            "auc =  0.8413983942253875\n"
          ],
          "name": "stdout"
        }
      ]
    },
    {
      "metadata": {
        "trusted": true,
        "_uuid": "7c9c59aea4dceeb928e1be1433a0ef239cca13b9",
        "id": "sbduOnOw5NWv",
        "colab_type": "code",
        "colab": {},
        "outputId": "5e2d8ac4-77d7-4b91-8acb-b00e024a34e1"
      },
      "cell_type": "code",
      "source": [
        "#plotting roc curve test data\n",
        "from sklearn import metrics\n",
        "fpr, tpr, thresholds = metrics.roc_curve(y_test, pred_test)\n",
        "\n",
        "plt.plot(fpr , tpr , label = \"test data\")\n",
        "plt.plot([0,1],[0,1],'--' )\n",
        "plt.xlabel(\"false positive rate\")\n",
        "plt.ylabel(\"true positive rate\")\n",
        "plt.grid()\n",
        "plt.legend()\n",
        "plt.show()\n"
      ],
      "execution_count": 0,
      "outputs": [
        {
          "output_type": "display_data",
          "data": {
            "text/plain": [
              "<Figure size 432x288 with 1 Axes>"
            ],
            "image/png": "[encoded data removed]"
          },
          "metadata": {
            "tags": []
          }
        }
      ]
    },
    {
      "metadata": {
        "trusted": true,
        "_uuid": "d4df0fdf33ec3bd84b96d1640d087d2b6c558224",
        "id": "-2XTCiAL5NWx",
        "colab_type": "code",
        "colab": {},
        "outputId": "f729e8d7-dcfc-4749-9f01-171c87993ac3"
      },
      "cell_type": "code",
      "source": [
        "# confusion matrix\n",
        "from sklearn.metrics import confusion_matrix\n",
        "import seaborn as sn\n",
        "cm = confusion_matrix(y_test, pred_test)\n",
        "print (cm)\n",
        "df_cm = pd.DataFrame(cm, index = ['neg','pos'],columns = ['neg','pos'])\n",
        "sn.heatmap(df_cm, annot=True)\n",
        "plt.xlabel(\"predicted\")\n",
        "plt.ylabel(\"actual\")\n"
      ],
      "execution_count": 0,
      "outputs": [
        {
          "output_type": "stream",
          "text": [
            "[[1122  417]\n",
            " [ 355 7321]]\n"
          ],
          "name": "stdout"
        },
        {
          "output_type": "execute_result",
          "data": {
            "text/plain": [
              "Text(33,0.5,'actual')"
            ]
          },
          "metadata": {
            "tags": []
          },
          "execution_count": 76
        },
        {
          "output_type": "display_data",
          "data": {
            "text/plain": [
              "<Figure size 432x288 with 2 Axes>"
            ],
            "image/png": "[encoded data removed]"
          },
          "metadata": {
            "tags": []
          }
        }
      ]
    },
    {
      "metadata": {
        "trusted": true,
        "_uuid": "29e7f48664b1788c2065667ae0c9a07048206005",
        "id": "JE9h_MV15NW0",
        "colab_type": "code",
        "colab": {}
      },
      "cell_type": "code",
      "source": [
        ""
      ],
      "execution_count": 0,
      "outputs": []
    },
    {
      "metadata": {
        "_uuid": "ad721b9d57f652187bf3865ba06e9b80ca685c4e",
        "id": "r23srJMR5NW1",
        "colab_type": "text"
      },
      "cell_type": "markdown",
      "source": [
        "### [5.2.3] Feature Importance on TFIDF,<font color='red'> SET 2</font>"
      ]
    },
    {
      "metadata": {
        "_uuid": "ae5f7f32b368f695a0d9c161fefa2aa2de5437db",
        "id": "ql4FIPHm5NW2",
        "colab_type": "text"
      },
      "cell_type": "markdown",
      "source": [
        "#### [5.2.3.1] Top 10 important features of positive class from<font color='red'> SET 2</font>"
      ]
    },
    {
      "metadata": {
        "trusted": true,
        "_uuid": "d69d361814368c4dcf38a0bc4e4b8d685fbb1e11",
        "id": "VJqzm6Vk5NW3",
        "colab_type": "code",
        "colab": {},
        "outputId": "77b2ee02-f2e8-4e27-f8f6-d6c51c40862f"
      },
      "cell_type": "code",
      "source": [
        "most_important_features(model_tfidf,clf)"
      ],
      "execution_count": 0,
      "outputs": [
        {
          "output_type": "stream",
          "text": [
            "\t\t\tNegative\t\t\t\t\t\tPositive\n",
            "________________________________________________________________________________________________\n",
            "\t-36.4532\tworst          \t\t\t\t34.0393\tgreat          \n",
            "\t-34.3477\tnot worth      \t\t\t\t32.8298\tdelicious      \n",
            "\t-29.4677\ttwo stars      \t\t\t\t32.1425\tnot disappointed\n",
            "\t-28.8893\tnot happy      \t\t\t\t27.8791\tgood           \n",
            "\t-28.5795\tdisappointed   \t\t\t\t27.1953\tbest           \n",
            "\t-26.1309\tdisappointing  \t\t\t\t26.2374\tperfect        \n",
            "\t-25.9955\tterrible       \t\t\t\t24.7179\tpleased        \n",
            "\t-25.8625\tdied           \t\t\t\t22.4124\thappy          \n",
            "\t-25.2959\tnot purchase   \t\t\t\t22.3770\tlove           \n",
            "\t-25.1193\tnot real       \t\t\t\t21.7926\thooked         \n"
          ],
          "name": "stdout"
        }
      ]
    },
    {
      "metadata": {
        "_uuid": "f82894e14b40cd220136e07e79c08967fa6654a5",
        "id": "VAiBj5R-5NW5",
        "colab_type": "text"
      },
      "cell_type": "markdown",
      "source": [
        "#### [5.2.3.2] Top 10 important features of negative class from<font color='red'> SET 2</font>"
      ]
    },
    {
      "metadata": {
        "trusted": false,
        "_uuid": "38525db75e1aeea73ea869c32420daf240c5cbad",
        "id": "7w8tbfX65NW5",
        "colab_type": "code",
        "colab": {}
      },
      "cell_type": "code",
      "source": [
        "# Please write all the code with proper documentation"
      ],
      "execution_count": 0,
      "outputs": []
    },
    {
      "metadata": {
        "_uuid": "b469a15a97665e6a7c7271302984ce4c9dda0cca",
        "id": "rbkf-MaP5NW9",
        "colab_type": "text"
      },
      "cell_type": "markdown",
      "source": [
        "## [5.3] Logistic Regression on AVG W2V,<font color='red'> SET 3</font>"
      ]
    },
    {
      "metadata": {
        "_uuid": "df8b0402dabe1ecad68e74f8653375cac6b5f6ab",
        "id": "IBWmPsw45NW-",
        "colab_type": "text"
      },
      "cell_type": "markdown",
      "source": [
        "### [5.3.1] Applying Logistic Regression with L1 regularization on AVG W2V<font color='red'> SET 3</font>"
      ]
    },
    {
      "metadata": {
        "trusted": true,
        "_uuid": "3d438a9d187d7a8b43a96ea80db75d635747dc79",
        "id": "VHcOLjl45NW_",
        "colab_type": "code",
        "colab": {},
        "outputId": "8009ff10-123f-46e8-b745-138cd88bc380"
      },
      "cell_type": "code",
      "source": [
        "train_auc = []\n",
        "cv_auc=[]\n",
        "c = [0.001,0.01,0.1,1,10,100,1000]\n",
        "for i in c:\n",
        "    clf = LogisticRegression(penalty = 'l1', C = i, n_jobs = -1).fit(sent_vectors_train, y_train)\n",
        "    pred_train = clf.predict(sent_vectors_train)\n",
        "    train_auc.append(roc_auc_score(y_train, pred_train))\n",
        "    pred_cv = clf.predict(sent_vectors_cv)\n",
        "    cv_auc.append(roc_auc_score(y_cv, pred_cv))\n",
        "    \n",
        "print('train auc',train_auc)\n",
        "print('cv auc',cv_auc)"
      ],
      "execution_count": 0,
      "outputs": [
        {
          "output_type": "stream",
          "text": [
            "/opt/conda/lib/python3.6/site-packages/sklearn/linear_model/logistic.py:1300: UserWarning: 'n_jobs' > 1 does not have any effect when 'solver' is set to 'liblinear'. Got 'n_jobs' = 4.\n",
            "  \" = {}.\".format(effective_n_jobs(self.n_jobs)))\n",
            "/opt/conda/lib/python3.6/site-packages/sklearn/linear_model/logistic.py:1300: UserWarning: 'n_jobs' > 1 does not have any effect when 'solver' is set to 'liblinear'. Got 'n_jobs' = 4.\n",
            "  \" = {}.\".format(effective_n_jobs(self.n_jobs)))\n",
            "/opt/conda/lib/python3.6/site-packages/sklearn/linear_model/logistic.py:1300: UserWarning: 'n_jobs' > 1 does not have any effect when 'solver' is set to 'liblinear'. Got 'n_jobs' = 4.\n",
            "  \" = {}.\".format(effective_n_jobs(self.n_jobs)))\n",
            "/opt/conda/lib/python3.6/site-packages/sklearn/linear_model/logistic.py:1300: UserWarning: 'n_jobs' > 1 does not have any effect when 'solver' is set to 'liblinear'. Got 'n_jobs' = 4.\n",
            "  \" = {}.\".format(effective_n_jobs(self.n_jobs)))\n",
            "/opt/conda/lib/python3.6/site-packages/sklearn/linear_model/logistic.py:1300: UserWarning: 'n_jobs' > 1 does not have any effect when 'solver' is set to 'liblinear'. Got 'n_jobs' = 4.\n",
            "  \" = {}.\".format(effective_n_jobs(self.n_jobs)))\n",
            "/opt/conda/lib/python3.6/site-packages/sklearn/linear_model/logistic.py:1300: UserWarning: 'n_jobs' > 1 does not have any effect when 'solver' is set to 'liblinear'. Got 'n_jobs' = 4.\n",
            "  \" = {}.\".format(effective_n_jobs(self.n_jobs)))\n",
            "/opt/conda/lib/python3.6/site-packages/sklearn/linear_model/logistic.py:1300: UserWarning: 'n_jobs' > 1 does not have any effect when 'solver' is set to 'liblinear'. Got 'n_jobs' = 4.\n",
            "  \" = {}.\".format(effective_n_jobs(self.n_jobs)))\n"
          ],
          "name": "stderr"
        },
        {
          "output_type": "stream",
          "text": [
            "train auc [0.5, 0.6228113973249432, 0.6955414083546715, 0.7060257043344633, 0.7078086327944588, 0.7079200658232085, 0.7080314988519583]\n",
            "cv auc [0.5, 0.6033388974387748, 0.677484526710378, 0.6884405709453503, 0.6917565740607148, 0.6917565740607148, 0.6917565740607148]\n"
          ],
          "name": "stdout"
        }
      ]
    },
    {
      "metadata": {
        "trusted": true,
        "_uuid": "5f48d844ac503935533db48e01095a9600176ef5",
        "id": "Y7bIfpyE5NXC",
        "colab_type": "code",
        "colab": {},
        "outputId": "bd4e6372-c887-4ddb-bd38-6fe3b44062bf"
      },
      "cell_type": "code",
      "source": [
        "# ploting auc and C for train and cv data\n",
        "import math\n",
        "log_c = [math.log(i) for i in c]\n",
        "plt.plot(log_c , train_auc , label = \"train data\")\n",
        "plt.plot(log_c , cv_auc , label = \"cv data\")\n",
        "plt.xlabel(\"hyper parameter\")\n",
        "plt.ylabel(\"Area under ROC curve\")\n",
        "plt.grid()\n",
        "plt.legend()\n",
        "plt.show()"
      ],
      "execution_count": 0,
      "outputs": [
        {
          "output_type": "display_data",
          "data": {
            "text/plain": [
              "<Figure size 432x288 with 1 Axes>"
            ],
            "image/png": "[encoded data removed]"
          },
          "metadata": {
            "tags": []
          }
        }
      ]
    },
    {
      "metadata": {
        "trusted": true,
        "_uuid": "b68629a50ede05b0ba4728f9d59ebefb3c8f85fb",
        "id": "MnSYIIk95NXK",
        "colab_type": "code",
        "colab": {},
        "outputId": "34ae6301-08a4-4062-b533-a86a06dfdc5e"
      },
      "cell_type": "code",
      "source": [
        "# c = 10 is the parameter value with highest auc value\n",
        "clf = LogisticRegression(penalty = 'l1', C = 10, n_jobs = -1).fit(sent_vectors_train, y_train)\n",
        "pred_test = clf.predict(sent_vectors_test)\n",
        "\n",
        "print ('auc = ',roc_auc_score(y_test, pred_test))"
      ],
      "execution_count": 0,
      "outputs": [
        {
          "output_type": "stream",
          "text": [
            "/opt/conda/lib/python3.6/site-packages/sklearn/linear_model/logistic.py:1300: UserWarning: 'n_jobs' > 1 does not have any effect when 'solver' is set to 'liblinear'. Got 'n_jobs' = 4.\n",
            "  \" = {}.\".format(effective_n_jobs(self.n_jobs)))\n"
          ],
          "name": "stderr"
        },
        {
          "output_type": "stream",
          "text": [
            "auc =  0.7128809372165286\n"
          ],
          "name": "stdout"
        }
      ]
    },
    {
      "metadata": {
        "trusted": true,
        "_uuid": "b8ae552b82f1fcd75d2008a1bc37ee039de42d38",
        "id": "lhPy3tzR5NXQ",
        "colab_type": "code",
        "colab": {},
        "outputId": "cf5f9567-2f9f-4b69-b5a6-c796b7ac3f2b"
      },
      "cell_type": "code",
      "source": [
        "#plotting roc curve test data\n",
        "from sklearn import metrics\n",
        "fpr, tpr, thresholds = metrics.roc_curve(y_test, pred_test)\n",
        "\n",
        "plt.plot(fpr , tpr , label = \"test data\")\n",
        "plt.plot([0,1],[0,1],'--' )\n",
        "plt.xlabel(\"false positive rate\")\n",
        "plt.ylabel(\"true positive rate\")\n",
        "plt.grid()\n",
        "plt.legend()\n",
        "plt.show()\n"
      ],
      "execution_count": 0,
      "outputs": [
        {
          "output_type": "display_data",
          "data": {
            "text/plain": [
              "<Figure size 432x288 with 1 Axes>"
            ],
            "image/png": "[encoded data removed]"
          },
          "metadata": {
            "tags": []
          }
        }
      ]
    },
    {
      "metadata": {
        "trusted": true,
        "_uuid": "4db36a4b00694f08554cdca2b71537315850c2ac",
        "id": "bOE4oSIc5NXU",
        "colab_type": "code",
        "colab": {},
        "outputId": "64ea2c0e-1a13-4369-854f-ba331e7cbcbb"
      },
      "cell_type": "code",
      "source": [
        "# confusion matrix\n",
        "from sklearn.metrics import confusion_matrix\n",
        "import seaborn as sn\n",
        "cm = confusion_matrix(y_test, pred_test)\n",
        "print (cm)\n",
        "df_cm = pd.DataFrame(cm, index = ['neg','pos'],columns = ['neg','pos'])\n",
        "sn.heatmap(df_cm, annot=True)\n",
        "plt.xlabel(\"predicted\")\n",
        "plt.ylabel(\"actual\")\n"
      ],
      "execution_count": 0,
      "outputs": [
        {
          "output_type": "stream",
          "text": [
            "[[ 717  822]\n",
            " [ 308 7368]]\n"
          ],
          "name": "stdout"
        },
        {
          "output_type": "execute_result",
          "data": {
            "text/plain": [
              "Text(33,0.5,'actual')"
            ]
          },
          "metadata": {
            "tags": []
          },
          "execution_count": 95
        },
        {
          "output_type": "display_data",
          "data": {
            "text/plain": [
              "<Figure size 432x288 with 2 Axes>"
            ],
            "image/png": "[encoded data removed]"
          },
          "metadata": {
            "tags": []
          }
        }
      ]
    },
    {
      "metadata": {
        "_uuid": "9a7ecfa6a8a91929a59ba6200795aa49e83cf63d",
        "id": "xRGz9vGm5NXY",
        "colab_type": "text"
      },
      "cell_type": "markdown",
      "source": [
        "### [5.3.2] Applying Logistic Regression with L2 regularization on AVG W2V,<font color='red'> SET 3</font>"
      ]
    },
    {
      "metadata": {
        "trusted": true,
        "_uuid": "de125142b9e8010bc2d701a53d87fc1e796eb1b6",
        "id": "lZMKOUx65NXY",
        "colab_type": "code",
        "colab": {},
        "outputId": "c8519a86-15dd-48c8-9b05-4c04a01472a1"
      },
      "cell_type": "code",
      "source": [
        "train_auc = []\n",
        "cv_auc=[]\n",
        "c = [0.001,0.01,0.1,1,10,100,1000]\n",
        "for i in c:\n",
        "    clf = LogisticRegression(penalty = 'l2', C = i, n_jobs = -1).fit(sent_vectors_train, y_train)\n",
        "    pred_train = clf.predict(sent_vectors_train)\n",
        "    train_auc.append(roc_auc_score(y_train, pred_train))\n",
        "    pred_cv = clf.predict(sent_vectors_cv)\n",
        "    cv_auc.append(roc_auc_score(y_cv, pred_cv))\n",
        "    \n",
        "print('train auc',train_auc)\n",
        "print('cv auc',cv_auc)"
      ],
      "execution_count": 0,
      "outputs": [
        {
          "output_type": "stream",
          "text": [
            "/opt/conda/lib/python3.6/site-packages/sklearn/linear_model/logistic.py:1300: UserWarning: 'n_jobs' > 1 does not have any effect when 'solver' is set to 'liblinear'. Got 'n_jobs' = 4.\n",
            "  \" = {}.\".format(effective_n_jobs(self.n_jobs)))\n",
            "/opt/conda/lib/python3.6/site-packages/sklearn/linear_model/logistic.py:1300: UserWarning: 'n_jobs' > 1 does not have any effect when 'solver' is set to 'liblinear'. Got 'n_jobs' = 4.\n",
            "  \" = {}.\".format(effective_n_jobs(self.n_jobs)))\n",
            "/opt/conda/lib/python3.6/site-packages/sklearn/linear_model/logistic.py:1300: UserWarning: 'n_jobs' > 1 does not have any effect when 'solver' is set to 'liblinear'. Got 'n_jobs' = 4.\n",
            "  \" = {}.\".format(effective_n_jobs(self.n_jobs)))\n",
            "/opt/conda/lib/python3.6/site-packages/sklearn/linear_model/logistic.py:1300: UserWarning: 'n_jobs' > 1 does not have any effect when 'solver' is set to 'liblinear'. Got 'n_jobs' = 4.\n",
            "  \" = {}.\".format(effective_n_jobs(self.n_jobs)))\n",
            "/opt/conda/lib/python3.6/site-packages/sklearn/linear_model/logistic.py:1300: UserWarning: 'n_jobs' > 1 does not have any effect when 'solver' is set to 'liblinear'. Got 'n_jobs' = 4.\n",
            "  \" = {}.\".format(effective_n_jobs(self.n_jobs)))\n",
            "/opt/conda/lib/python3.6/site-packages/sklearn/linear_model/logistic.py:1300: UserWarning: 'n_jobs' > 1 does not have any effect when 'solver' is set to 'liblinear'. Got 'n_jobs' = 4.\n",
            "  \" = {}.\".format(effective_n_jobs(self.n_jobs)))\n",
            "/opt/conda/lib/python3.6/site-packages/sklearn/linear_model/logistic.py:1300: UserWarning: 'n_jobs' > 1 does not have any effect when 'solver' is set to 'liblinear'. Got 'n_jobs' = 4.\n",
            "  \" = {}.\".format(effective_n_jobs(self.n_jobs)))\n"
          ],
          "name": "stderr"
        },
        {
          "output_type": "stream",
          "text": [
            "train auc [0.5138350205014155, 0.648520438395967, 0.6946576777838056, 0.7052672667415072, 0.7075209859120836, 0.7079883116353743, 0.7080997446641241]\n",
            "cv auc [0.5130177022715978, 0.6329442133303409, 0.6774921247535228, 0.687867377910301, 0.6913719126896338, 0.6916911974916773, 0.6916911974916773]\n"
          ],
          "name": "stdout"
        }
      ]
    },
    {
      "metadata": {
        "trusted": true,
        "_uuid": "e2f8059f8cd7d80be4a27bcfd2951d68b009d247",
        "id": "9YJaONU15NXd",
        "colab_type": "code",
        "colab": {},
        "outputId": "80e391f2-6769-47a2-b9e3-33d811d133a2"
      },
      "cell_type": "code",
      "source": [
        "# ploting auc and C for train and cv data\n",
        "import math\n",
        "log_c = [math.log(i) for i in c]\n",
        "plt.plot(log_c , train_auc , label = \"train data\")\n",
        "plt.plot(log_c , cv_auc , label = \"cv data\")\n",
        "plt.xlabel(\"hyper parameter\")\n",
        "plt.ylabel(\"Area under ROC curve\")\n",
        "plt.grid()\n",
        "plt.legend()\n",
        "plt.show()"
      ],
      "execution_count": 0,
      "outputs": [
        {
          "output_type": "display_data",
          "data": {
            "text/plain": [
              "<Figure size 432x288 with 1 Axes>"
            ],
            "image/png": "[encoded data removed]"
          },
          "metadata": {
            "tags": []
          }
        }
      ]
    },
    {
      "metadata": {
        "trusted": true,
        "_uuid": "1e65740b7d1230f943f6bc9615a8eec4ec188de8",
        "id": "sqxrSZ9_5NXf",
        "colab_type": "code",
        "colab": {},
        "outputId": "2a63f43b-7d6a-4131-94bd-b247778f2719"
      },
      "cell_type": "code",
      "source": [
        "# c = 100 is the parameter value with highest auc value\n",
        "clf = LogisticRegression(penalty = 'l2', C = 100, n_jobs = -1).fit(sent_vectors_train, y_train)\n",
        "pred_test = clf.predict(sent_vectors_test)\n",
        "\n",
        "print ('auc = ',roc_auc_score(y_test, pred_test))"
      ],
      "execution_count": 0,
      "outputs": [
        {
          "output_type": "stream",
          "text": [
            "/opt/conda/lib/python3.6/site-packages/sklearn/linear_model/logistic.py:1300: UserWarning: 'n_jobs' > 1 does not have any effect when 'solver' is set to 'liblinear'. Got 'n_jobs' = 4.\n",
            "  \" = {}.\".format(effective_n_jobs(self.n_jobs)))\n"
          ],
          "name": "stderr"
        },
        {
          "output_type": "stream",
          "text": [
            "auc =  0.713011213402042\n"
          ],
          "name": "stdout"
        }
      ]
    },
    {
      "metadata": {
        "trusted": true,
        "_uuid": "a18471ef8530043fe598efe92738dbaa3c639cc5",
        "id": "tLmsc9iP5NXi",
        "colab_type": "code",
        "colab": {},
        "outputId": "3c301302-129b-441d-94f0-9899194b1ad2"
      },
      "cell_type": "code",
      "source": [
        "#plotting roc curve test data\n",
        "from sklearn import metrics\n",
        "fpr, tpr, thresholds = metrics.roc_curve(y_test, pred_test)\n",
        "\n",
        "plt.plot(fpr , tpr , label = \"test data\")\n",
        "plt.plot([0,1],[0,1],'--' )\n",
        "plt.xlabel(\"false positive rate\")\n",
        "plt.ylabel(\"true positive rate\")\n",
        "plt.grid()\n",
        "plt.legend()\n",
        "plt.show()\n"
      ],
      "execution_count": 0,
      "outputs": [
        {
          "output_type": "display_data",
          "data": {
            "text/plain": [
              "<Figure size 432x288 with 1 Axes>"
            ],
            "image/png": "[encoded data removed]"
          },
          "metadata": {
            "tags": []
          }
        }
      ]
    },
    {
      "metadata": {
        "trusted": true,
        "_uuid": "415af65c7caa5f455ebdb77a2810658434e48ca8",
        "id": "55qZsxHP5NXl",
        "colab_type": "code",
        "colab": {},
        "outputId": "baa0016a-a069-411f-ecdd-55dbeae89fd2"
      },
      "cell_type": "code",
      "source": [
        "# confusion matrix\n",
        "from sklearn.metrics import confusion_matrix\n",
        "import seaborn as sn\n",
        "cm = confusion_matrix(y_test, pred_test)\n",
        "print (cm)\n",
        "df_cm = pd.DataFrame(cm, index = ['neg','pos'],columns = ['neg','pos'])\n",
        "sn.heatmap(df_cm, annot=True)\n",
        "plt.xlabel(\"predicted\")\n",
        "plt.ylabel(\"actual\")\n"
      ],
      "execution_count": 0,
      "outputs": [
        {
          "output_type": "stream",
          "text": [
            "[[ 717  822]\n",
            " [ 306 7370]]\n"
          ],
          "name": "stdout"
        },
        {
          "output_type": "execute_result",
          "data": {
            "text/plain": [
              "Text(33,0.5,'actual')"
            ]
          },
          "metadata": {
            "tags": []
          },
          "execution_count": 100
        },
        {
          "output_type": "display_data",
          "data": {
            "text/plain": [
              "<Figure size 432x288 with 2 Axes>"
            ],
            "image/png": "[encoded data removed]"
          },
          "metadata": {
            "tags": []
          }
        }
      ]
    },
    {
      "metadata": {
        "_uuid": "4f7227c58436f4ab873f8e23b6f11e80a4bade04",
        "id": "sHsZMEyN5NXn",
        "colab_type": "text"
      },
      "cell_type": "markdown",
      "source": [
        "## [5.4] Logistic Regression on TFIDF W2V,<font color='red'> SET 4</font>"
      ]
    },
    {
      "metadata": {
        "_uuid": "41cf958723efc7cda05089a96fc1cfe052ca4b64",
        "id": "dzfWoo9o5NXo",
        "colab_type": "text"
      },
      "cell_type": "markdown",
      "source": [
        "### [5.4.1] Applying Logistic Regression with L1 regularization on TFIDF W2V,<font color='red'> SET 4</font>"
      ]
    },
    {
      "metadata": {
        "trusted": true,
        "_uuid": "bff859d1fd0f737b85b798ae74d5c0133b2353e3",
        "id": "nrZ-OWal5NXp",
        "colab_type": "code",
        "colab": {},
        "outputId": "59730b37-935e-4c14-d93c-0d707c8eb847"
      },
      "cell_type": "code",
      "source": [
        "train_auc = []\n",
        "cv_auc=[]\n",
        "c = [0.001,0.01,0.1,1,10,100,1000]\n",
        "for i in c:\n",
        "    clf = LogisticRegression(penalty = 'l1', C = i, n_jobs = -1).fit(tfidf_sent_vectors_train, y_train)\n",
        "    pred_train = clf.predict(tfidf_sent_vectors_train)\n",
        "    train_auc.append(roc_auc_score(y_train, pred_train))\n",
        "    pred_cv = clf.predict(tfidf_sent_vectors_cv)\n",
        "    cv_auc.append(roc_auc_score(y_cv, pred_cv))\n",
        "    \n",
        "print('train auc',train_auc)\n",
        "print('cv auc',cv_auc)"
      ],
      "execution_count": 0,
      "outputs": [
        {
          "output_type": "stream",
          "text": [
            "/opt/conda/lib/python3.6/site-packages/sklearn/linear_model/logistic.py:1300: UserWarning: 'n_jobs' > 1 does not have any effect when 'solver' is set to 'liblinear'. Got 'n_jobs' = 4.\n",
            "  \" = {}.\".format(effective_n_jobs(self.n_jobs)))\n",
            "/opt/conda/lib/python3.6/site-packages/sklearn/linear_model/logistic.py:1300: UserWarning: 'n_jobs' > 1 does not have any effect when 'solver' is set to 'liblinear'. Got 'n_jobs' = 4.\n",
            "  \" = {}.\".format(effective_n_jobs(self.n_jobs)))\n",
            "/opt/conda/lib/python3.6/site-packages/sklearn/linear_model/logistic.py:1300: UserWarning: 'n_jobs' > 1 does not have any effect when 'solver' is set to 'liblinear'. Got 'n_jobs' = 4.\n",
            "  \" = {}.\".format(effective_n_jobs(self.n_jobs)))\n",
            "/opt/conda/lib/python3.6/site-packages/sklearn/linear_model/logistic.py:1300: UserWarning: 'n_jobs' > 1 does not have any effect when 'solver' is set to 'liblinear'. Got 'n_jobs' = 4.\n",
            "  \" = {}.\".format(effective_n_jobs(self.n_jobs)))\n",
            "/opt/conda/lib/python3.6/site-packages/sklearn/linear_model/logistic.py:1300: UserWarning: 'n_jobs' > 1 does not have any effect when 'solver' is set to 'liblinear'. Got 'n_jobs' = 4.\n",
            "  \" = {}.\".format(effective_n_jobs(self.n_jobs)))\n",
            "/opt/conda/lib/python3.6/site-packages/sklearn/linear_model/logistic.py:1300: UserWarning: 'n_jobs' > 1 does not have any effect when 'solver' is set to 'liblinear'. Got 'n_jobs' = 4.\n",
            "  \" = {}.\".format(effective_n_jobs(self.n_jobs)))\n",
            "/opt/conda/lib/python3.6/site-packages/sklearn/linear_model/logistic.py:1300: UserWarning: 'n_jobs' > 1 does not have any effect when 'solver' is set to 'liblinear'. Got 'n_jobs' = 4.\n",
            "  \" = {}.\".format(effective_n_jobs(self.n_jobs)))\n"
          ],
          "name": "stderr"
        },
        {
          "output_type": "stream",
          "text": [
            "train auc [0.5, 0.588866456839228, 0.654162443512887, 0.6645664913495388, 0.6663814083796964, 0.6663598147714045, 0.6663598147714045]\n",
            "cv auc [0.5, 0.5760339517305504, 0.639331495775822, 0.6554614734125267, 0.6562809766374367, 0.6569195462415236, 0.6566002614394801]\n"
          ],
          "name": "stdout"
        }
      ]
    },
    {
      "metadata": {
        "trusted": true,
        "_uuid": "8318d81c07ae863feef69c4c84b63ae2c0d3e2ac",
        "id": "O8W-AMsc5NXs",
        "colab_type": "code",
        "colab": {},
        "outputId": "66644e1b-c78a-406d-8904-18077c9cbc1f"
      },
      "cell_type": "code",
      "source": [
        "# ploting auc and C for train and cv data\n",
        "import math\n",
        "log_c = [math.log(i) for i in c]\n",
        "plt.plot(log_c , train_auc , label = \"train data\")\n",
        "plt.plot(log_c , cv_auc , label = \"cv data\")\n",
        "plt.xlabel(\"hyper parameter\")\n",
        "plt.ylabel(\"Area under ROC curve\")\n",
        "plt.grid()\n",
        "plt.legend()\n",
        "plt.show()"
      ],
      "execution_count": 0,
      "outputs": [
        {
          "output_type": "display_data",
          "data": {
            "text/plain": [
              "<Figure size 432x288 with 1 Axes>"
            ],
            "image/png": "[encoded data removed]"
          },
          "metadata": {
            "tags": []
          }
        }
      ]
    },
    {
      "metadata": {
        "trusted": true,
        "_uuid": "391c12198dc009a4559b1eba87acf7ae26a62982",
        "id": "mY4EPhbs5NXw",
        "colab_type": "code",
        "colab": {},
        "outputId": "112f0c38-5d87-4b49-c194-4086d61eae9f"
      },
      "cell_type": "code",
      "source": [
        "# c = 100 is the parameter value with highest auc value\n",
        "clf = LogisticRegression(penalty = 'l1', C = 100, n_jobs = -1).fit(tfidf_sent_vectors_train, y_train)\n",
        "pred_test = clf.predict(tfidf_sent_vectors_test)\n",
        "\n",
        "print ('auc = ',roc_auc_score(y_test, pred_test))"
      ],
      "execution_count": 0,
      "outputs": [
        {
          "output_type": "stream",
          "text": [
            "/opt/conda/lib/python3.6/site-packages/sklearn/linear_model/logistic.py:1300: UserWarning: 'n_jobs' > 1 does not have any effect when 'solver' is set to 'liblinear'. Got 'n_jobs' = 4.\n",
            "  \" = {}.\".format(effective_n_jobs(self.n_jobs)))\n"
          ],
          "name": "stderr"
        },
        {
          "output_type": "stream",
          "text": [
            "auc =  0.6724004271772206\n"
          ],
          "name": "stdout"
        }
      ]
    },
    {
      "metadata": {
        "trusted": true,
        "_uuid": "e8294a9e78039493e2bb7195a62eeee0ec891c1c",
        "id": "erD0F5MX5NXz",
        "colab_type": "code",
        "colab": {},
        "outputId": "913930ef-6cf4-431c-c7c3-415e7d7678e0"
      },
      "cell_type": "code",
      "source": [
        "#plotting roc curve test data\n",
        "from sklearn import metrics\n",
        "fpr, tpr, thresholds = metrics.roc_curve(y_test, pred_test)\n",
        "\n",
        "plt.plot(fpr , tpr , label = \"test data\")\n",
        "plt.plot([0,1],[0,1],'--' )\n",
        "plt.xlabel(\"false positive rate\")\n",
        "plt.ylabel(\"true positive rate\")\n",
        "plt.grid()\n",
        "plt.legend()\n",
        "plt.show()\n"
      ],
      "execution_count": 0,
      "outputs": [
        {
          "output_type": "display_data",
          "data": {
            "text/plain": [
              "<Figure size 432x288 with 1 Axes>"
            ],
            "image/png": "[encoded data removed]"
          },
          "metadata": {
            "tags": []
          }
        }
      ]
    },
    {
      "metadata": {
        "trusted": true,
        "_uuid": "3866faf0489aa6970733802b9edb75573f034f23",
        "id": "sD0pJgmq5NX4",
        "colab_type": "code",
        "colab": {},
        "outputId": "c32426df-9049-412c-db31-459988543922"
      },
      "cell_type": "code",
      "source": [
        "cm = confusion_matrix(y_test, pred_test)\n",
        "print (cm)\n",
        "df_cm = pd.DataFrame(cm, index = ['neg','pos'],columns = ['neg','pos'])\n",
        "sn.heatmap(df_cm, annot=True)\n",
        "plt.xlabel(\"predicted\")\n",
        "plt.ylabel(\"actual\")\n"
      ],
      "execution_count": 0,
      "outputs": [
        {
          "output_type": "stream",
          "text": [
            "[[ 592  947]\n",
            " [ 306 7370]]\n"
          ],
          "name": "stdout"
        },
        {
          "output_type": "execute_result",
          "data": {
            "text/plain": [
              "Text(33,0.5,'actual')"
            ]
          },
          "metadata": {
            "tags": []
          },
          "execution_count": 105
        },
        {
          "output_type": "display_data",
          "data": {
            "text/plain": [
              "<Figure size 432x288 with 2 Axes>"
            ],
            "image/png": "[encoded data removed]"
          },
          "metadata": {
            "tags": []
          }
        }
      ]
    },
    {
      "metadata": {
        "trusted": true,
        "_uuid": "6679e3da13602e2dfecf6f24e5c6cb8dc81c2ba9",
        "id": "rf3p8Abr5NX7",
        "colab_type": "code",
        "colab": {}
      },
      "cell_type": "code",
      "source": [
        ""
      ],
      "execution_count": 0,
      "outputs": []
    },
    {
      "metadata": {
        "_uuid": "d6cf64a1dc890e133ee0362c3c4c00462ca45c88",
        "id": "ge1Y2HCA5NYB",
        "colab_type": "text"
      },
      "cell_type": "markdown",
      "source": [
        "### [5.4.2] Applying Logistic Regression with L2 regularization on TFIDF W2V,<font color='red'> SET 4</font>"
      ]
    },
    {
      "metadata": {
        "trusted": true,
        "_uuid": "1611ff6e89f9d3eccfd55d228e74791d72a44757",
        "id": "_cYM1XCL5NYB",
        "colab_type": "code",
        "colab": {},
        "outputId": "99b673c9-f024-487e-99e6-91cc1fe130a5"
      },
      "cell_type": "code",
      "source": [
        " train_auc = []\n",
        "cv_auc=[]\n",
        "c = [0.001,0.01,0.1,1,10,100,1000]\n",
        "for i in c:\n",
        "    clf = LogisticRegression(penalty = 'l2', C = i, n_jobs = -1).fit(tfidf_sent_vectors_train, y_train)\n",
        "    pred_train = clf.predict(tfidf_sent_vectors_train)\n",
        "    train_auc.append(roc_auc_score(y_train, pred_train))\n",
        "    pred_cv = clf.predict(tfidf_sent_vectors_cv)\n",
        "    cv_auc.append(roc_auc_score(y_cv, pred_cv))\n",
        "    \n",
        "print('train auc',train_auc)\n",
        "print('cv auc',cv_auc)"
      ],
      "execution_count": 0,
      "outputs": [
        {
          "output_type": "stream",
          "text": [
            "/opt/conda/lib/python3.6/site-packages/sklearn/linear_model/logistic.py:1300: UserWarning: 'n_jobs' > 1 does not have any effect when 'solver' is set to 'liblinear'. Got 'n_jobs' = 4.\n",
            "  \" = {}.\".format(effective_n_jobs(self.n_jobs)))\n",
            "/opt/conda/lib/python3.6/site-packages/sklearn/linear_model/logistic.py:1300: UserWarning: 'n_jobs' > 1 does not have any effect when 'solver' is set to 'liblinear'. Got 'n_jobs' = 4.\n",
            "  \" = {}.\".format(effective_n_jobs(self.n_jobs)))\n",
            "/opt/conda/lib/python3.6/site-packages/sklearn/linear_model/logistic.py:1300: UserWarning: 'n_jobs' > 1 does not have any effect when 'solver' is set to 'liblinear'. Got 'n_jobs' = 4.\n",
            "  \" = {}.\".format(effective_n_jobs(self.n_jobs)))\n",
            "/opt/conda/lib/python3.6/site-packages/sklearn/linear_model/logistic.py:1300: UserWarning: 'n_jobs' > 1 does not have any effect when 'solver' is set to 'liblinear'. Got 'n_jobs' = 4.\n",
            "  \" = {}.\".format(effective_n_jobs(self.n_jobs)))\n",
            "/opt/conda/lib/python3.6/site-packages/sklearn/linear_model/logistic.py:1300: UserWarning: 'n_jobs' > 1 does not have any effect when 'solver' is set to 'liblinear'. Got 'n_jobs' = 4.\n",
            "  \" = {}.\".format(effective_n_jobs(self.n_jobs)))\n",
            "/opt/conda/lib/python3.6/site-packages/sklearn/linear_model/logistic.py:1300: UserWarning: 'n_jobs' > 1 does not have any effect when 'solver' is set to 'liblinear'. Got 'n_jobs' = 4.\n",
            "  \" = {}.\".format(effective_n_jobs(self.n_jobs)))\n",
            "/opt/conda/lib/python3.6/site-packages/sklearn/linear_model/logistic.py:1300: UserWarning: 'n_jobs' > 1 does not have any effect when 'solver' is set to 'liblinear'. Got 'n_jobs' = 4.\n",
            "  \" = {}.\".format(effective_n_jobs(self.n_jobs)))\n"
          ],
          "name": "stderr"
        },
        {
          "output_type": "stream",
          "text": [
            "train auc [0.5098631536957193, 0.610907799238829, 0.6528071185468882, 0.6638011237820028, 0.6661801359304889, 0.6660255156851553, 0.6660039220768633]\n",
            "cv auc [0.5083591833790218, 0.598665182459909, 0.6425897203652939, 0.6543150873424282, 0.6559616918353933, 0.6566002614394801, 0.6565348848704425]\n"
          ],
          "name": "stdout"
        }
      ]
    },
    {
      "metadata": {
        "trusted": true,
        "_uuid": "404a6fc7e24e323801ebd3ac8ea2167c5b0b9d40",
        "id": "xcyD81x45NYE",
        "colab_type": "code",
        "colab": {},
        "outputId": "0387cf4f-d8c6-4925-9ca4-6b600e849a15"
      },
      "cell_type": "code",
      "source": [
        "# ploting auc and C for train and cv data\n",
        "import math\n",
        "log_c = [math.log(i) for i in c]\n",
        "plt.plot(log_c , train_auc , label = \"train data\")\n",
        "plt.plot(log_c , cv_auc , label = \"cv data\")\n",
        "plt.xlabel(\"hyper parameter\")\n",
        "plt.ylabel(\"Area under ROC curve\")\n",
        "plt.grid()\n",
        "plt.legend()\n",
        "plt.show()"
      ],
      "execution_count": 0,
      "outputs": [
        {
          "output_type": "display_data",
          "data": {
            "text/plain": [
              "<Figure size 432x288 with 1 Axes>"
            ],
            "image/png": "[encoded data removed]"
          },
          "metadata": {
            "tags": []
          }
        }
      ]
    },
    {
      "metadata": {
        "trusted": true,
        "_uuid": "2f0af730eaabf538a2ae533ee9d939ec868d7a74",
        "id": "jz74WFGk5NYL",
        "colab_type": "code",
        "colab": {},
        "outputId": "375c3f8a-7983-457f-c77f-7ee2518f10a3"
      },
      "cell_type": "code",
      "source": [
        "# c = 10 is the parameter value with highest auc value\n",
        "clf = LogisticRegression(penalty = 'l2', C = 10, n_jobs = -1).fit(tfidf_sent_vectors_train, y_train)\n",
        "pred_test = clf.predict(tfidf_sent_vectors_test)\n",
        "\n",
        "print ('auc = ',roc_auc_score(y_test, pred_test))"
      ],
      "execution_count": 0,
      "outputs": [
        {
          "output_type": "stream",
          "text": [
            "/opt/conda/lib/python3.6/site-packages/sklearn/linear_model/logistic.py:1300: UserWarning: 'n_jobs' > 1 does not have any effect when 'solver' is set to 'liblinear'. Got 'n_jobs' = 4.\n",
            "  \" = {}.\".format(effective_n_jobs(self.n_jobs)))\n"
          ],
          "name": "stderr"
        },
        {
          "output_type": "stream",
          "text": [
            "auc =  0.672075540887422\n"
          ],
          "name": "stdout"
        }
      ]
    },
    {
      "metadata": {
        "trusted": true,
        "_uuid": "e618e63cdd68c49860b3ce49c5229e75e2c7867e",
        "id": "67ELa24S5NYO",
        "colab_type": "code",
        "colab": {},
        "outputId": "e1f0566e-2444-454d-9a8d-2df2f68e0b03"
      },
      "cell_type": "code",
      "source": [
        "#plotting roc curve test data\n",
        "from sklearn import metrics\n",
        "fpr, tpr, thresholds = metrics.roc_curve(y_test, pred_test)\n",
        "\n",
        "plt.plot(fpr , tpr , label = \"test data\")\n",
        "plt.plot([0,1],[0,1],'--' )\n",
        "plt.xlabel(\"false positive rate\")\n",
        "plt.ylabel(\"true positive rate\")\n",
        "plt.grid()\n",
        "plt.legend()\n",
        "plt.show()\n"
      ],
      "execution_count": 0,
      "outputs": [
        {
          "output_type": "display_data",
          "data": {
            "text/plain": [
              "<Figure size 432x288 with 1 Axes>"
            ],
            "image/png": "[encoded data removed]"
          },
          "metadata": {
            "tags": []
          }
        }
      ]
    },
    {
      "metadata": {
        "trusted": true,
        "_uuid": "2e010e6d02cce1add1ce91d883d38f810dc46e5d",
        "id": "26A0otUi5NYS",
        "colab_type": "code",
        "colab": {},
        "outputId": "800140b8-4217-4c1e-a1a8-7c30516faecf"
      },
      "cell_type": "code",
      "source": [
        "cm = confusion_matrix(y_test, pred_test)\n",
        "print (cm)\n",
        "df_cm = pd.DataFrame(cm, index = ['neg','pos'],columns = ['neg','pos'])\n",
        "sn.heatmap(df_cm, annot=True)\n",
        "plt.xlabel(\"predicted\")\n",
        "plt.ylabel(\"actual\")\n"
      ],
      "execution_count": 0,
      "outputs": [
        {
          "output_type": "stream",
          "text": [
            "[[ 591  948]\n",
            " [ 306 7370]]\n"
          ],
          "name": "stdout"
        },
        {
          "output_type": "execute_result",
          "data": {
            "text/plain": [
              "Text(33,0.5,'actual')"
            ]
          },
          "metadata": {
            "tags": []
          },
          "execution_count": 110
        },
        {
          "output_type": "display_data",
          "data": {
            "text/plain": [
              "<Figure size 432x288 with 2 Axes>"
            ],
            "image/png": "[encoded data removed]"
          },
          "metadata": {
            "tags": []
          }
        }
      ]
    },
    {
      "metadata": {
        "_uuid": "6051987a7b1589d25d6f87fc414b5bf466c96a82",
        "id": "Xakv50Hc5NYU",
        "colab_type": "text"
      },
      "cell_type": "markdown",
      "source": [
        "# [6] Conclusions"
      ]
    },
    {
      "metadata": {
        "trusted": false,
        "_uuid": "91dfc387304d7dfafee8abf2c9c5836324125d5c",
        "id": "LDE8HEs75NYU",
        "colab_type": "code",
        "colab": {
          "base_uri": "https://localhost:8080/",
          "height": 221
        },
        "outputId": "b8c60524-95de-498e-ab6c-fe3ee8875d61"
      },
      "cell_type": "code",
      "source": [
        "# Please compare all your models using Prettytable library\n",
        "\n",
        "from prettytable import PrettyTable\n",
        "\n",
        "x = PrettyTable()\n",
        "\n",
        "x.field_names=['Vectorizer','Regularization','HyperParameter','AUC-score']\n",
        "x.add_row(['BOW','L1',1,0.823])\n",
        "x.add_row(['BOW','L2',1,0.825])\n",
        "x.add_row(['tfidf','L1',10,0.842])\n",
        "x.add_row(['tfidf','L2',1000,0.841])\n",
        "x.add_row(['AvgW2V','L1',10,0.712])\n",
        "x.add_row(['AvgW2V','L2',100,0.713])\n",
        "x.add_row(['tfidfW2V','L1',100,0.672])\n",
        "x.add_row(['tfidfW2V','L2',10,0.672])\n",
        "print (x)\n"
      ],
      "execution_count": 3,
      "outputs": [
        {
          "output_type": "stream",
          "text": [
            "+------------+----------------+----------------+-----------+\n",
            "| Vectorizer | Regularization | HyperParameter | AUC-score |\n",
            "+------------+----------------+----------------+-----------+\n",
            "|    BOW     |       L1       |       1        |   0.823   |\n",
            "|    BOW     |       L2       |       1        |   0.825   |\n",
            "|   tfidf    |       L1       |       10       |   0.842   |\n",
            "|   tfidf    |       L2       |      1000      |   0.841   |\n",
            "|   AvgW2V   |       L1       |       10       |   0.712   |\n",
            "|   AvgW2V   |       L2       |      100       |   0.713   |\n",
            "|  tfidfW2V  |       L1       |      100       |   0.672   |\n",
            "|  tfidfW2V  |       L2       |       10       |   0.672   |\n",
            "+------------+----------------+----------------+-----------+\n"
          ],
          "name": "stdout"
        }
      ]
    },
    {
      "metadata": {
        "id": "2rHexJfd8Bwm",
        "colab_type": "code",
        "colab": {}
      },
      "cell_type": "code",
      "source": [
        ""
      ],
      "execution_count": 0,
      "outputs": []
    }
  ]
}